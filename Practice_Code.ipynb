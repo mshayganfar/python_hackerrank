{
 "cells": [
  {
   "cell_type": "markdown",
   "id": "44d4a6f7",
   "metadata": {},
   "source": [
    "### Find the largest continuous sum in an array"
   ]
  },
  {
   "cell_type": "code",
   "execution_count": 1,
   "id": "0f19f38d",
   "metadata": {},
   "outputs": [],
   "source": [
    "def large_cont_sum(arr):\n",
    "    \n",
    "    if len(arr) == 0:\n",
    "        return 0\n",
    "    \n",
    "    current_sum = arr[0]\n",
    "    max_sum = arr[0]\n",
    "    for num in arr[1:]:\n",
    "        current_sum = max(current_sum+num, num)\n",
    "        max_sum = max(max_sum, current_sum)\n",
    "        \n",
    "    return max_sum"
   ]
  },
  {
   "cell_type": "code",
   "execution_count": 4,
   "id": "732160bd",
   "metadata": {},
   "outputs": [
    {
     "data": {
      "text/plain": [
       "110"
      ]
     },
     "execution_count": 4,
     "metadata": {},
     "output_type": "execute_result"
    }
   ],
   "source": [
    "large_cont_sum([100,-10,20,-10,3])"
   ]
  },
  {
   "cell_type": "markdown",
   "id": "edf9ffeb",
   "metadata": {},
   "source": [
    "### Counting case sensitive characters the given string"
   ]
  },
  {
   "cell_type": "code",
   "execution_count": 27,
   "id": "3dada3df",
   "metadata": {},
   "outputs": [],
   "source": [
    "def compress(s):\n",
    "    \n",
    "    run = ''\n",
    "    length = len(s)\n",
    "    \n",
    "    if length == 0:\n",
    "        return ''\n",
    "    if length == 1:\n",
    "        return s + '1'\n",
    "    \n",
    "    cnt = 1\n",
    "    i = 1\n",
    "    \n",
    "    while i < length:\n",
    "        if s[i] == s[i-1]:\n",
    "            cnt += 1\n",
    "        else:\n",
    "            run += s[i-1] + str(cnt)\n",
    "            cnt = 1\n",
    "            \n",
    "        i += 1\n",
    "        \n",
    "    run += s[i-1] + str(cnt)\n",
    "    \n",
    "    return run"
   ]
  },
  {
   "cell_type": "code",
   "execution_count": 28,
   "id": "99954443",
   "metadata": {},
   "outputs": [
    {
     "data": {
      "text/plain": [
       "'A3B2D3'"
      ]
     },
     "execution_count": 28,
     "metadata": {},
     "output_type": "execute_result"
    }
   ],
   "source": [
    "compress('AAABBDDD')"
   ]
  },
  {
   "cell_type": "markdown",
   "id": "71b0eeb0",
   "metadata": {},
   "source": [
    "### What days to buy and sell stocks to maximize profit"
   ]
  },
  {
   "cell_type": "code",
   "execution_count": 29,
   "id": "a1728728",
   "metadata": {},
   "outputs": [],
   "source": [
    "def profit(stock_prices):\n",
    "    \n",
    "    min_stock_price = stock_prices[0]\n",
    "    \n",
    "    max_profit = 0\n",
    "    \n",
    "    for price in stock_prices:\n",
    "        \n",
    "        min_stock_price = min(min_stock_price, price)\n",
    "        \n",
    "        comparison_profit = price - min_stock_price\n",
    "        \n",
    "        max_profit = max(max_profit, comparison_profit)\n",
    "    \n",
    "    return max_profit"
   ]
  },
  {
   "cell_type": "code",
   "execution_count": 30,
   "id": "7c3aa73e",
   "metadata": {},
   "outputs": [
    {
     "data": {
      "text/plain": [
       "10"
      ]
     },
     "execution_count": 30,
     "metadata": {},
     "output_type": "execute_result"
    }
   ],
   "source": [
    "profit([2,10,12])"
   ]
  },
  {
   "cell_type": "markdown",
   "id": "0d30c879",
   "metadata": {},
   "source": [
    "### Find the removed element in an array"
   ]
  },
  {
   "cell_type": "code",
   "execution_count": 32,
   "id": "6c3b2b7f",
   "metadata": {},
   "outputs": [],
   "source": [
    "def finder1(arr1, arr2):\n",
    "    return abs(sum(arr1)-sum(arr2))"
   ]
  },
  {
   "cell_type": "code",
   "execution_count": 33,
   "id": "a5ef5a4a",
   "metadata": {},
   "outputs": [
    {
     "data": {
      "text/plain": [
       "4"
      ]
     },
     "execution_count": 33,
     "metadata": {},
     "output_type": "execute_result"
    }
   ],
   "source": [
    "finder1([1,2,3,4,5],[1,2,3,5])"
   ]
  },
  {
   "cell_type": "code",
   "execution_count": 34,
   "id": "a34aaf2c",
   "metadata": {},
   "outputs": [],
   "source": [
    "def finder2(arr1, arr2):\n",
    "    arr1.sort()\n",
    "    arr2.sort()\n",
    "    for num1, num2 in zip(arr1, arr2):\n",
    "        if num1 != num2:\n",
    "            return num1\n",
    "    \n",
    "    return arr1[-1]"
   ]
  },
  {
   "cell_type": "code",
   "execution_count": 35,
   "id": "8a6b8c4c",
   "metadata": {},
   "outputs": [
    {
     "data": {
      "text/plain": [
       "4"
      ]
     },
     "execution_count": 35,
     "metadata": {},
     "output_type": "execute_result"
    }
   ],
   "source": [
    "finder2([1,2,3,4,5],[1,2,3,5])"
   ]
  },
  {
   "cell_type": "code",
   "execution_count": null,
   "id": "14186e67",
   "metadata": {},
   "outputs": [],
   "source": []
  }
 ],
 "metadata": {
  "kernelspec": {
   "display_name": "Python 3 (ipykernel)",
   "language": "python",
   "name": "python3"
  },
  "language_info": {
   "codemirror_mode": {
    "name": "ipython",
    "version": 3
   },
   "file_extension": ".py",
   "mimetype": "text/x-python",
   "name": "python",
   "nbconvert_exporter": "python",
   "pygments_lexer": "ipython3",
   "version": "3.8.16"
  }
 },
 "nbformat": 4,
 "nbformat_minor": 5
}
