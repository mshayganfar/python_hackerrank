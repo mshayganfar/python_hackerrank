{
 "cells": [
  {
   "cell_type": "code",
   "execution_count": null,
   "id": "0862edb4",
   "metadata": {},
   "outputs": [],
   "source": [
    "x = 2\n",
    "y = 1\n",
    "z = 1\n",
    "n = 1\n",
    "\n",
    "[[i, j, k] for i in range(x+1) for j in range(y+1) for k in range(z+1) if i+j+k != n]"
   ]
  },
  {
   "cell_type": "code",
   "execution_count": null,
   "id": "9d8ca60e",
   "metadata": {},
   "outputs": [],
   "source": [
    "n = 4\n",
    "arr = [0, -3, 10, 2, 10]\n",
    "\n",
    "sorted(list(set(arr)))[-2]"
   ]
  },
  {
   "cell_type": "code",
   "execution_count": null,
   "id": "11517cb7",
   "metadata": {},
   "outputs": [],
   "source": [
    "students = [['Nina', 37.2], \n",
    "            ['Harry', 37.21], \n",
    "            ['Berry', 37.21], \n",
    "            ['Tina', 37.2], \n",
    "            ['Akriti', 41], \n",
    "            ['Harsh', 39], \n",
    "            ['Terry', 37.21]]\n",
    "\n",
    "for student, grade in students:\n",
    "    print(student)\n",
    "    print(grade)"
   ]
  },
  {
   "cell_type": "code",
   "execution_count": null,
   "id": "817364ba",
   "metadata": {},
   "outputs": [],
   "source": [
    "mark = sorted(set(map(lambda x: x[1], students)))[1]"
   ]
  },
  {
   "cell_type": "code",
   "execution_count": null,
   "id": "c3a53539",
   "metadata": {},
   "outputs": [],
   "source": [
    "for name, grade in sorted(filter(lambda x: x[1] == mark, students)):\n",
    "    print(name)"
   ]
  },
  {
   "cell_type": "code",
   "execution_count": null,
   "id": "396196f9",
   "metadata": {},
   "outputs": [],
   "source": [
    "student_marks = {'Krishna': [67, 68, 69], 'Arjun': [70, 98, 63], 'Malika': [52, 56, 60]}\n",
    "student_marks"
   ]
  },
  {
   "cell_type": "code",
   "execution_count": null,
   "id": "5c3249ce",
   "metadata": {},
   "outputs": [],
   "source": [
    "query_name = 'Malika'"
   ]
  },
  {
   "cell_type": "code",
   "execution_count": null,
   "id": "4ec3f5b6",
   "metadata": {},
   "outputs": [],
   "source": [
    "student_list = list(student_marks[query_name]) \n",
    "student_average = sum(student_list)/len(student_list)\n",
    "print(\"{:.2f}\".format(student_average))"
   ]
  },
  {
   "cell_type": "code",
   "execution_count": null,
   "id": "914d28db",
   "metadata": {},
   "outputs": [],
   "source": [
    "N = int(input())"
   ]
  },
  {
   "cell_type": "code",
   "execution_count": null,
   "id": "244c6f0c",
   "metadata": {},
   "outputs": [],
   "source": [
    "commands = []\n",
    "\n",
    "for i in range(N):\n",
    "    commands.append(input().split(' '))"
   ]
  },
  {
   "cell_type": "code",
   "execution_count": null,
   "id": "499d2e0a",
   "metadata": {},
   "outputs": [],
   "source": [
    "commands"
   ]
  },
  {
   "cell_type": "code",
   "execution_count": null,
   "id": "4b135092",
   "metadata": {},
   "outputs": [],
   "source": [
    "final_list = []\n",
    "\n",
    "for command in commands:\n",
    "    if command[0] == 'insert':\n",
    "        final_list.insert(int(command[1]), int(command[2]))\n",
    "    elif command[0] == 'remove':\n",
    "        final_list.remove(int(command[1]))\n",
    "    elif command[0] == 'append':\n",
    "        final_list.append(int(command[1]))\n",
    "    elif command[0] == 'sort':\n",
    "        final_list.sort()\n",
    "    elif command[0] == 'pop':\n",
    "        final_list.pop()\n",
    "    elif command[0] == 'reverse':\n",
    "        final_list.reverse()\n",
    "    elif command[0] == 'print':\n",
    "        print(final_list)"
   ]
  },
  {
   "cell_type": "code",
   "execution_count": null,
   "id": "3a31dfd8",
   "metadata": {},
   "outputs": [],
   "source": [
    "n = int(input())"
   ]
  },
  {
   "cell_type": "code",
   "execution_count": null,
   "id": "d4247d45",
   "metadata": {},
   "outputs": [],
   "source": [
    "integer_list = map(int, input().split())"
   ]
  },
  {
   "cell_type": "code",
   "execution_count": null,
   "id": "150b27d3",
   "metadata": {},
   "outputs": [],
   "source": [
    "tuple(integer_list)"
   ]
  },
  {
   "cell_type": "code",
   "execution_count": null,
   "id": "ffbebaa2",
   "metadata": {},
   "outputs": [],
   "source": [
    "hash(tuple(integer_list))"
   ]
  },
  {
   "cell_type": "code",
   "execution_count": null,
   "id": "bde16a25",
   "metadata": {},
   "outputs": [],
   "source": [
    "s = 'HackerRank.com presents \"Pythonist 2\".'"
   ]
  },
  {
   "cell_type": "code",
   "execution_count": null,
   "id": "ec87640a",
   "metadata": {},
   "outputs": [],
   "source": [
    "s_prime = \"\".join([c.lower() if c.isupper()==True else c.upper() for c in s])"
   ]
  },
  {
   "cell_type": "code",
   "execution_count": null,
   "id": "09d4666d",
   "metadata": {},
   "outputs": [],
   "source": [
    "s_prime"
   ]
  },
  {
   "cell_type": "code",
   "execution_count": null,
   "id": "dfdedfc7",
   "metadata": {},
   "outputs": [],
   "source": [
    "s = 'this is a string'"
   ]
  },
  {
   "cell_type": "code",
   "execution_count": null,
   "id": "73397eb3",
   "metadata": {},
   "outputs": [],
   "source": [
    "s = s.split(\" \")"
   ]
  },
  {
   "cell_type": "code",
   "execution_count": null,
   "id": "f15b4bc1",
   "metadata": {},
   "outputs": [],
   "source": [
    "s"
   ]
  },
  {
   "cell_type": "code",
   "execution_count": null,
   "id": "3dc0356d",
   "metadata": {},
   "outputs": [],
   "source": [
    "s = \"-\".join(s)"
   ]
  },
  {
   "cell_type": "code",
   "execution_count": null,
   "id": "84fbaf28",
   "metadata": {},
   "outputs": [],
   "source": [
    "s"
   ]
  },
  {
   "cell_type": "code",
   "execution_count": null,
   "id": "24837d36",
   "metadata": {},
   "outputs": [],
   "source": [
    "first = 'Mahni'\n",
    "last = 'Shayganfar'\n",
    "\n",
    "print(f'Hello {first} {last}! You just delved into python.')"
   ]
  },
  {
   "cell_type": "code",
   "execution_count": null,
   "id": "81b5de19",
   "metadata": {},
   "outputs": [],
   "source": [
    "def mutate_string(string, position, character):\n",
    "    l = list(string)\n",
    "    l[position] = character\n",
    "    return ''.join(l)\n",
    "\n",
    "s = 'thisisastring'\n",
    "mutate_string(s, 2, 'K')"
   ]
  },
  {
   "cell_type": "code",
   "execution_count": null,
   "id": "d9d23439",
   "metadata": {},
   "outputs": [],
   "source": [
    "s = 'this is a test for is!'\n",
    "sub = 'is'"
   ]
  },
  {
   "cell_type": "code",
   "execution_count": null,
   "id": "c572eaaf",
   "metadata": {},
   "outputs": [],
   "source": [
    "[i for i in range(len(s)) if s.startswith(sub, i)]"
   ]
  },
  {
   "cell_type": "code",
   "execution_count": null,
   "id": "5e376dc6",
   "metadata": {},
   "outputs": [],
   "source": [
    "In the first line, print True if  has any alphanumeric characters. Otherwise, print False. \n",
    "In the second line, print True if  has any alphabetical characters. Otherwise, print False. \n",
    "In the third line, print True if  has any digits. Otherwise, print False. \n",
    "In the fourth line, print True if  has any lowercase characters. Otherwise, print False. \n",
    "In the fifth line, print True if  has any uppercase characters. Otherwise, print False."
   ]
  },
  {
   "cell_type": "code",
   "execution_count": null,
   "id": "354d3268",
   "metadata": {},
   "outputs": [],
   "source": [
    "s = '+++'\n",
    "\n",
    "flag = True\n",
    "for c in s:\n",
    "    if c.isalnum() == True:\n",
    "        print(True)\n",
    "        flag = False\n",
    "        break\n",
    "if flag == True:\n",
    "    print(False)\n",
    "flag = True\n",
    "for c in s:\n",
    "    if c.isalpha() == True:\n",
    "        print(True)\n",
    "        flag = False\n",
    "        break\n",
    "if flag == True:\n",
    "    print(False)\n",
    "flag = True\n",
    "for c in s:\n",
    "    if c.isdigit() == True:\n",
    "        print(True)\n",
    "        flag = False\n",
    "        break\n",
    "if flag == True:\n",
    "    print(False)\n",
    "flag = True\n",
    "for c in s:\n",
    "    if c.islower() == True:\n",
    "        print(True)\n",
    "        flag = False\n",
    "        break\n",
    "if flag == True:\n",
    "    print(False)\n",
    "flag = True\n",
    "for c in s:\n",
    "    if c.isupper() == True:\n",
    "        print(True)\n",
    "        flag = False\n",
    "        break\n",
    "if flag == True:\n",
    "    print(False)"
   ]
  },
  {
   "cell_type": "code",
   "execution_count": null,
   "id": "0fe79dc3",
   "metadata": {},
   "outputs": [],
   "source": [
    "width = 20\n",
    "print('HackerRank'.rjust(width,'-'))"
   ]
  },
  {
   "cell_type": "code",
   "execution_count": null,
   "id": "187a7285",
   "metadata": {},
   "outputs": [],
   "source": [
    "thickness = int(input()) #This must be an odd number\n",
    "c = 'H'"
   ]
  },
  {
   "cell_type": "code",
   "execution_count": null,
   "id": "0d12e0e8",
   "metadata": {},
   "outputs": [],
   "source": [
    "#Top Cone\n",
    "for i in range(thickness):\n",
    "    print((c*i).rjust(thickness-1)+c+(c*i).ljust(thickness-1))\n",
    "    \n",
    "#Top Pillars\n",
    "for i in range(thickness+1):\n",
    "    print((c*thickness).center(thickness*2)+(c*thickness).center(thickness*6))\n",
    "    \n",
    "#Middle Belt\n",
    "for i in range((thickness+1)//2):\n",
    "    print((c*thickness*5).center(thickness*6))\n",
    "    \n",
    "#Bottom Pillars\n",
    "for i in range(thickness+1):\n",
    "    print((c*thickness).center(thickness*2)+(c*thickness).center(thickness*6))    \n",
    "\n",
    "#Bottom Cone\n",
    "for i in range(thickness):\n",
    "    print(((c*(thickness-i-1)).rjust(thickness)+c+(c*(thickness-i-1)).ljust(thickness)).rjust(thickness*6))"
   ]
  },
  {
   "cell_type": "code",
   "execution_count": null,
   "id": "3b9c646b",
   "metadata": {},
   "outputs": [],
   "source": [
    "s = 'ABCDEFGHIJKLIMNOQRSTUVWXYZ'\n",
    "w = 4"
   ]
  },
  {
   "cell_type": "code",
   "execution_count": null,
   "id": "3afae406",
   "metadata": {},
   "outputs": [],
   "source": [
    "chars = list(s)\n",
    "chars"
   ]
  },
  {
   "cell_type": "code",
   "execution_count": null,
   "id": "70e975b0",
   "metadata": {},
   "outputs": [],
   "source": [
    "final_str = ''.join([chars[i-1]+'\\n' if i%w == 0 else chars[i-1] for i in range(1, len(chars)+1)])\n",
    "print(final_str)"
   ]
  },
  {
   "cell_type": "code",
   "execution_count": null,
   "id": "096ede78",
   "metadata": {},
   "outputs": [],
   "source": [
    "# ------------.|.------------\n",
    "# ---------.|..|..|.---------\n",
    "# ------.|..|..|..|..|.------\n",
    "# ---.|..|..|..|..|..|..|.---\n",
    "# ----------WELCOME----------\n",
    "# ---.|..|..|..|..|..|..|.---\n",
    "# ------.|..|..|..|..|.------\n",
    "# ---------.|..|..|.---------\n",
    "# ------------.|.------------"
   ]
  },
  {
   "cell_type": "code",
   "execution_count": null,
   "id": "01ae23f2",
   "metadata": {},
   "outputs": [],
   "source": [
    "dm = list(map(int, input().rstrip().split()))"
   ]
  },
  {
   "cell_type": "code",
   "execution_count": null,
   "id": "c02570ea",
   "metadata": {},
   "outputs": [],
   "source": [
    "n=dm[0]\n",
    "m=dm[1]\n",
    "t=(m-7)//2\n",
    "k=(n//2)+1\n",
    "for i in range (1, n+1):\n",
    "    if i==k:        \n",
    "        print('-'*t+'WELCOME'+'-'*t)\n",
    "    elif(i<k):\n",
    "        print('---'*(k-i)+('.|.'*(i))+('.|.'*(i-1))+('---'*(k-i)))\n",
    "    else:\n",
    "        print(('---'*(i-k))+('.|.'*(n-i+1))+('.|.'*(n-i))+('---'*(i-k)))"
   ]
  },
  {
   "cell_type": "code",
   "execution_count": null,
   "id": "f497f17b",
   "metadata": {},
   "outputs": [],
   "source": [
    "number=17\n",
    "\n",
    "for i in range(1, n+1):\n",
    "    print(f'{i}'.rjust(4) + f'{oct(i)[2:]}'.rjust(4) + f'{hex(i)[2:].upper()}'.rjust(4) + f'{bin(i)[2:]}'.rjust(4))"
   ]
  },
  {
   "cell_type": "code",
   "execution_count": null,
   "id": "8fc7c431",
   "metadata": {},
   "outputs": [],
   "source": [
    "number=17\n",
    "\n",
    "width = len(\"{0:b}\".format(number))\n",
    "\n",
    "for i in range(1, number + 1):\n",
    "    print(\"{0:{w}d} {0:{w}o} {0:{w}X} {0:{w}b}\".format(i, w = width))"
   ]
  },
  {
   "cell_type": "code",
   "execution_count": null,
   "id": "8fd500cc",
   "metadata": {},
   "outputs": [],
   "source": [
    "size = 17\n",
    "\n",
    "alpha = \"abcdefghijklmnopqrstuvwxyz\"\n",
    "data = [alpha[i] for i in range(size)]\n",
    "items = list(range(size))\n",
    "items = items[:-1]+items[::-1]\n",
    "for i in items:\n",
    "    temp = data[-(i+1):]\n",
    "    row = temp[::-1]+temp[1:]\n",
    "    print(\"-\".join(row).center(size*4-3, \"-\"))"
   ]
  },
  {
   "cell_type": "code",
   "execution_count": null,
   "id": "9f6e715f",
   "metadata": {},
   "outputs": [],
   "source": [
    "s = '1 a 1 v'\n",
    "s.split()"
   ]
  },
  {
   "cell_type": "code",
   "execution_count": null,
   "id": "34feeb4d",
   "metadata": {},
   "outputs": [],
   "source": [
    "#Incorrect\n",
    "' '.join([name.capitalize() for name in s.split()])"
   ]
  },
  {
   "cell_type": "code",
   "execution_count": null,
   "id": "63891c18",
   "metadata": {},
   "outputs": [],
   "source": [
    "#Correct\n",
    "for i in s.split():\n",
    "    s = s.replace(i, i.capitalize())\n",
    "s"
   ]
  },
  {
   "cell_type": "code",
   "execution_count": null,
   "id": "8fa0d4f9",
   "metadata": {},
   "outputs": [],
   "source": [
    "string = \"BANANA\""
   ]
  },
  {
   "cell_type": "code",
   "execution_count": null,
   "id": "54cb3d18",
   "metadata": {},
   "outputs": [],
   "source": [
    "vowel = \"AEIOU\"\n",
    "\n",
    "sc = 0\n",
    "kc = 0\n",
    "x = len(string)\n",
    "\n",
    "for i in range(x):\n",
    "    if string[i] in vowel:\n",
    "        kc += x - i\n",
    "    else:\n",
    "        sc += x - i\n",
    "if sc > kc:\n",
    "    print(\"Stuart\", str(sc))\n",
    "elif kc > sc:\n",
    "    print(\"Kevin\", str(kc))\n",
    "else:\n",
    "    print(\"Draw\")"
   ]
  },
  {
   "cell_type": "code",
   "execution_count": null,
   "id": "aa0ededa",
   "metadata": {},
   "outputs": [],
   "source": [
    "string = 'AABCAAADA'\n",
    "k = 3"
   ]
  },
  {
   "cell_type": "code",
   "execution_count": null,
   "id": "5cf54986",
   "metadata": {},
   "outputs": [],
   "source": [
    "n = len(string)//k\n",
    "n"
   ]
  },
  {
   "cell_type": "code",
   "execution_count": null,
   "id": "9cb11055",
   "metadata": {},
   "outputs": [],
   "source": [
    "i = 0\n",
    "\n",
    "u = []\n",
    "while i < len(string):\n",
    "    s = [c for c in string[i:i+n]]\n",
    "    sub = []\n",
    "    for c in s:\n",
    "        if c not in sub:\n",
    "            sub.append(c)\n",
    "    u.append(''.join(sub))\n",
    "    i += n\n",
    "\n",
    "for u_i in u:\n",
    "    print(u_i)"
   ]
  },
  {
   "cell_type": "code",
   "execution_count": null,
   "id": "d57784fd",
   "metadata": {},
   "outputs": [],
   "source": [
    "l = len(string)//k\n",
    "for i in range(l):\n",
    "    print(dict.fromkeys(string[i*k:(i*k)+k]))\n",
    "    print(''.join(dict.fromkeys(string[i*k:(i*k)+k])))"
   ]
  },
  {
   "cell_type": "code",
   "execution_count": null,
   "id": "236862a5",
   "metadata": {},
   "outputs": [],
   "source": [
    "A = [1, 2]\n",
    "B = [3, 4]"
   ]
  },
  {
   "cell_type": "code",
   "execution_count": null,
   "id": "26d9e847",
   "metadata": {},
   "outputs": [],
   "source": [
    "[(x,y) for x in A for y in B]"
   ]
  },
  {
   "cell_type": "code",
   "execution_count": null,
   "id": "c9ee207e",
   "metadata": {},
   "outputs": [],
   "source": [
    "from itertools import product"
   ]
  },
  {
   "cell_type": "code",
   "execution_count": null,
   "id": "377f0dbc",
   "metadata": {},
   "outputs": [],
   "source": [
    "list1 =list(map(int, input().split()))\n",
    "list2 =list(map(int, input().split()))"
   ]
  },
  {
   "cell_type": "code",
   "execution_count": null,
   "id": "8b634e6a",
   "metadata": {},
   "outputs": [],
   "source": [
    "flist = list(product(list1, list2))"
   ]
  },
  {
   "cell_type": "code",
   "execution_count": null,
   "id": "c4f05f56",
   "metadata": {},
   "outputs": [],
   "source": [
    "print(*flist)"
   ]
  },
  {
   "cell_type": "code",
   "execution_count": null,
   "id": "eddb7216",
   "metadata": {},
   "outputs": [],
   "source": [
    "from itertools import permutations"
   ]
  },
  {
   "cell_type": "code",
   "execution_count": null,
   "id": "8aef0cf6",
   "metadata": {},
   "outputs": [],
   "source": [
    "S = input().split()"
   ]
  },
  {
   "cell_type": "code",
   "execution_count": null,
   "id": "d6f20b26",
   "metadata": {},
   "outputs": [],
   "source": [
    "perm = sorted([''.join(each) for each in list(permutations(S[0], int(S[1])))])"
   ]
  },
  {
   "cell_type": "code",
   "execution_count": null,
   "id": "d70e56f8",
   "metadata": {},
   "outputs": [],
   "source": [
    "for each in perm:\n",
    "    print(each)"
   ]
  },
  {
   "cell_type": "code",
   "execution_count": null,
   "id": "8f260204",
   "metadata": {},
   "outputs": [],
   "source": [
    "from itertools import combinations"
   ]
  },
  {
   "cell_type": "code",
   "execution_count": null,
   "id": "4b6507de",
   "metadata": {},
   "outputs": [],
   "source": [
    "S, k = input().split()"
   ]
  },
  {
   "cell_type": "code",
   "execution_count": null,
   "id": "a894972a",
   "metadata": {},
   "outputs": [],
   "source": [
    "for i in range(1, int(k)+1):\n",
    "    for j in combinations(sorted(S), i):\n",
    "        print(''.join(j))"
   ]
  },
  {
   "cell_type": "code",
   "execution_count": null,
   "id": "257f1edc",
   "metadata": {},
   "outputs": [],
   "source": [
    "from itertools import combinations_with_replacement"
   ]
  },
  {
   "cell_type": "code",
   "execution_count": null,
   "id": "375c547c",
   "metadata": {},
   "outputs": [],
   "source": [
    "S, k = input().split()"
   ]
  },
  {
   "cell_type": "code",
   "execution_count": null,
   "id": "1e076247",
   "metadata": {},
   "outputs": [],
   "source": [
    "for each in combinations_with_replacement(sorted(S), int(k)):\n",
    "        print(''.join(each))"
   ]
  },
  {
   "cell_type": "code",
   "execution_count": null,
   "id": "000c67cd",
   "metadata": {},
   "outputs": [],
   "source": [
    "S = input()"
   ]
  },
  {
   "cell_type": "code",
   "execution_count": null,
   "id": "dddd5ee8",
   "metadata": {},
   "outputs": [],
   "source": [
    "i = 0\n",
    "count = 0\n",
    "compressed_str = []\n",
    "\n",
    "while i < len(S):\n",
    "    ch_tuple = ()\n",
    "    for j in range(i, len(S)):\n",
    "        if S[i] == S[j]:\n",
    "            count += 1\n",
    "        else:\n",
    "            break\n",
    "    \n",
    "    ch_tuple = (count, int(S[i]))\n",
    "    compressed_str.append(ch_tuple)\n",
    "    i += count\n",
    "    count = 0\n",
    "\n",
    "print(*compressed_str)"
   ]
  },
  {
   "cell_type": "code",
   "execution_count": null,
   "id": "dd42c9e2",
   "metadata": {},
   "outputs": [],
   "source": [
    "from itertools import combinations"
   ]
  },
  {
   "cell_type": "code",
   "execution_count": null,
   "id": "ff5dcc27",
   "metadata": {},
   "outputs": [],
   "source": [
    "N = int(input())\n",
    "char_list = input().split(' ')\n",
    "K = int(input())"
   ]
  },
  {
   "cell_type": "code",
   "execution_count": null,
   "id": "def80564",
   "metadata": {},
   "outputs": [],
   "source": [
    "index_char_list = [(i, char_list[i-1]) for i in range(1, len(char_list)+1)]\n",
    "index_char_list"
   ]
  },
  {
   "cell_type": "code",
   "execution_count": null,
   "id": "731e18cf",
   "metadata": {},
   "outputs": [],
   "source": [
    "index_list = list(combinations(range(1, len(char_list)+1), 2))\n",
    "index_list"
   ]
  },
  {
   "cell_type": "code",
   "execution_count": null,
   "id": "6b167af4",
   "metadata": {},
   "outputs": [],
   "source": [
    "a_indices = [i+1 for i in range(0, len(index_char_list)) if index_char_list[i][1] == 'a']\n",
    "a_indices"
   ]
  },
  {
   "cell_type": "code",
   "execution_count": null,
   "id": "b25dfaeb",
   "metadata": {},
   "outputs": [],
   "source": [
    "a_count = 0\n",
    "\n",
    "for index_tuple in index_list:\n",
    "    if (index_tuple[0] in a_indices) or (index_tuple[1] in a_indices):\n",
    "        a_count += 1\n",
    "\n",
    "print(\"%.4f\" % (a_count/len(index_list)))"
   ]
  },
  {
   "cell_type": "code",
   "execution_count": null,
   "id": "5afbb734",
   "metadata": {},
   "outputs": [],
   "source": [
    "com = list(combinations(char_list, K))\n",
    "tol = [i for i in com  if \"a\" in i ]\n",
    "print(f'{(len(tol)/len(com)):.4f}')"
   ]
  },
  {
   "cell_type": "code",
   "execution_count": null,
   "id": "144100c9",
   "metadata": {},
   "outputs": [],
   "source": [
    "from itertools import combinations\n",
    "\n",
    "N = int(input())\n",
    "char_list = input().split(' ')\n",
    "K = int(input())\n",
    "\n",
    "index_char_list = [(i, char_list[i-1]) for i in range(1, len(char_list)+1)]\n",
    "\n",
    "index_list = list(combinations(range(1, len(char_list)+1), 2))\n",
    "\n",
    "a_indices = [i+1 for i in range(0, len(index_char_list)) if index_char_list[i][1] == 'a']\n",
    "\n",
    "a_count = 0\n",
    "for index_tuple in index_list:\n",
    "    if (index_tuple[0] in a_indices) or (index_tuple[1] in a_indices):\n",
    "        a_count += 1\n",
    "            \n",
    "print(\"%.4f\" % (a_count/len(index_list)))"
   ]
  },
  {
   "cell_type": "code",
   "execution_count": null,
   "id": "3aceb644",
   "metadata": {},
   "outputs": [],
   "source": [
    "3 1000\n",
    "2 5 4\n",
    "3 7 8 9 \n",
    "5 5 7 8 9 10 "
   ]
  },
  {
   "cell_type": "code",
   "execution_count": null,
   "id": "b7ee59c8",
   "metadata": {},
   "outputs": [],
   "source": [
    "K, M = input().split(' ')"
   ]
  },
  {
   "cell_type": "code",
   "execution_count": null,
   "id": "ca035ae4",
   "metadata": {},
   "outputs": [],
   "source": [
    "line = 0\n",
    "lists = []\n",
    "while line < int(K):\n",
    "    j = 1\n",
    "    l = input().split(' ')\n",
    "    each_list = []\n",
    "    while j <= int(l[0]):\n",
    "        each_list.append(int(l[j]))\n",
    "        j += 1\n",
    "    lists.append(each_list)\n",
    "    line += 1\n",
    "lists"
   ]
  },
  {
   "cell_type": "code",
   "execution_count": null,
   "id": "578f6a81",
   "metadata": {},
   "outputs": [],
   "source": [
    "import itertools"
   ]
  },
  {
   "cell_type": "code",
   "execution_count": null,
   "id": "2148de6c",
   "metadata": {},
   "outputs": [],
   "source": [
    "lists = list(itertools.product(*lists))\n",
    "lists"
   ]
  },
  {
   "cell_type": "code",
   "execution_count": null,
   "id": "6c38a700",
   "metadata": {},
   "outputs": [],
   "source": [
    "square_sums = []\n",
    "\n",
    "for dyna_list in lists:\n",
    "    square_sum = 0\n",
    "    for elm in dyna_list:\n",
    "        square_sum += elm**2\n",
    "    square_sums.append(square_sum%int(M))"
   ]
  },
  {
   "cell_type": "code",
   "execution_count": null,
   "id": "8e415c3b",
   "metadata": {},
   "outputs": [],
   "source": [
    "max(square_sums)"
   ]
  },
  {
   "cell_type": "code",
   "execution_count": null,
   "id": "f3526e7f",
   "metadata": {},
   "outputs": [],
   "source": [
    "X = int(input())\n",
    "shoe_sizes = input().split(' ')\n",
    "N = int(input())\n",
    "i = 0\n",
    "shoe_size_price = []\n",
    "for i in range(0, N):\n",
    "    shoe = input().split(' ')\n",
    "    shoe_size_price.append(tuple(shoe))"
   ]
  },
  {
   "cell_type": "code",
   "execution_count": null,
   "id": "d793d6bf",
   "metadata": {},
   "outputs": [],
   "source": [
    "shoe_sizes = [int(x) for x in shoe_sizes]\n",
    "shoe_sizes"
   ]
  },
  {
   "cell_type": "code",
   "execution_count": null,
   "id": "1a9181ea",
   "metadata": {},
   "outputs": [],
   "source": [
    "shoe_size_price = [(int(x[0]), int(x[1])) for x in shoe_size_price]\n",
    "shoe_size_price"
   ]
  },
  {
   "cell_type": "code",
   "execution_count": null,
   "id": "0d2f9b68",
   "metadata": {},
   "outputs": [],
   "source": [
    "total = 0\n",
    "\n",
    "for k, v in shoe_size_price:\n",
    "    if k in shoe_sizes:\n",
    "        total += v\n",
    "        shoe_sizes.remove(k)\n",
    "\n",
    "print(total)"
   ]
  },
  {
   "cell_type": "code",
   "execution_count": null,
   "id": "4ee6c961",
   "metadata": {},
   "outputs": [],
   "source": [
    "import collections"
   ]
  },
  {
   "cell_type": "code",
   "execution_count": null,
   "id": "7ac65486",
   "metadata": {},
   "outputs": [],
   "source": [
    "input()\n",
    "shoes = list(map(int,input().split()))"
   ]
  },
  {
   "cell_type": "code",
   "execution_count": null,
   "id": "d4cb7cfd",
   "metadata": {},
   "outputs": [],
   "source": [
    "shoesCollection = collections.Counter(shoes)\n",
    "shoesCollection"
   ]
  },
  {
   "cell_type": "code",
   "execution_count": null,
   "id": "4956aa82",
   "metadata": {},
   "outputs": [],
   "source": [
    "sale = 0\n",
    "for i in range(int(input())):\n",
    "    s,n = map(int,input().split())\n",
    "    if shoesCollection[s] > 0:\n",
    "        sale += n\n",
    "        shoesCollection[s] -= 1\n",
    "print(sale)"
   ]
  },
  {
   "cell_type": "code",
   "execution_count": null,
   "id": "642e9785",
   "metadata": {},
   "outputs": [],
   "source": [
    "from collections import defaultdict"
   ]
  },
  {
   "cell_type": "code",
   "execution_count": null,
   "id": "f635e7f7",
   "metadata": {},
   "outputs": [],
   "source": [
    "n, m = map(int,input().split())"
   ]
  },
  {
   "cell_type": "code",
   "execution_count": null,
   "id": "614dbce9",
   "metadata": {},
   "outputs": [],
   "source": [
    "d = defaultdict(list)"
   ]
  },
  {
   "cell_type": "code",
   "execution_count": null,
   "id": "41766e59",
   "metadata": {},
   "outputs": [],
   "source": [
    "for i in range(0, n):\n",
    "    d['A'].append(input())\n",
    "for i in range(0, m):\n",
    "    d['B'].append(input())"
   ]
  },
  {
   "cell_type": "code",
   "execution_count": null,
   "id": "fb7f3fb5",
   "metadata": {},
   "outputs": [],
   "source": [
    "indices_list = []\n",
    "for j, y in enumerate(d['B']):\n",
    "    index_list = []\n",
    "    for i, x in enumerate(d['A']):\n",
    "        if y == x:\n",
    "            index_list.append(i+1)\n",
    "    if len(index_list) == 0:\n",
    "        index_list.append(-1)\n",
    "    indices_list.append(index_list)\n"
   ]
  },
  {
   "cell_type": "code",
   "execution_count": null,
   "id": "a34f4a69",
   "metadata": {},
   "outputs": [],
   "source": [
    "for item in indices_list:\n",
    "    print(*item)"
   ]
  },
  {
   "cell_type": "code",
   "execution_count": null,
   "id": "f80a0ea6",
   "metadata": {},
   "outputs": [],
   "source": [
    "from collections import defaultdict\n",
    "d = defaultdict(list)\n",
    "n,m = map(int,input().split())\n",
    "for i in range(1,n+1):\n",
    "    d[input()].append(i)\n",
    "for i in range(m):\n",
    "    temp = input()\n",
    "    if temp in d:\n",
    "        print(*d[temp]) \n",
    "    else: \n",
    "        print(-1)"
   ]
  },
  {
   "cell_type": "code",
   "execution_count": null,
   "id": "95ee27ec",
   "metadata": {},
   "outputs": [],
   "source": [
    "from collections import defaultdict\n",
    "\n",
    "n, m = map(int,input().split())\n",
    "\n",
    "d = defaultdict(list)\n",
    "\n",
    "for i in range(0, n):\n",
    "    d['A'].append(input())\n",
    "for i in range(0, m):\n",
    "    d['B'].append(input())\n",
    "    \n",
    "indices_list = []\n",
    "for j, y in enumerate(d['B']):\n",
    "    index_list = []\n",
    "    for i, x in enumerate(d['A']):\n",
    "        if y == x:\n",
    "            index_list.append(i+1)\n",
    "    if len(index_list) == 0:\n",
    "        index_list.append(-1)\n",
    "    indices_list.append(index_list)\n",
    "    \n",
    "for item in indices_list:\n",
    "    print(*item)"
   ]
  },
  {
   "cell_type": "code",
   "execution_count": null,
   "id": "5453ec86",
   "metadata": {},
   "outputs": [],
   "source": [
    "from collections import namedtuple"
   ]
  },
  {
   "cell_type": "code",
   "execution_count": null,
   "id": "5c7ea571",
   "metadata": {},
   "outputs": [],
   "source": [
    "N = int(input())\n",
    "titles = input().split(' ')"
   ]
  },
  {
   "cell_type": "code",
   "execution_count": null,
   "id": "42ee488d",
   "metadata": {},
   "outputs": [],
   "source": [
    "# This solution still needs some work.\n",
    "Student = namedtuple('Student', ' '.join(titles))\n",
    "\n",
    "marks_sum = 0\n",
    "for i in range(0, N):\n",
    "    st = Student(ID = int(input()), MARKS = int(input()), NAME = input(), CLASS = int(input()))\n",
    "    marks_sum += st.MARKS\n",
    "    \n",
    "print(round(marks_sum/N, 2))"
   ]
  },
  {
   "cell_type": "code",
   "execution_count": null,
   "id": "654869c3",
   "metadata": {},
   "outputs": [],
   "source": [
    "from collections import namedtuple\n",
    "\n",
    "n = int(input())\n",
    "Student = namedtuple('Student', input())\n",
    "\n",
    "total = 0\n",
    "for _ in range(n):\n",
    "    s = Student(*input().split())\n",
    "    total += int(s.MARKS)\n",
    "\n",
    "print(f'{total / n:.2f}')"
   ]
  },
  {
   "cell_type": "code",
   "execution_count": null,
   "id": "15511453",
   "metadata": {},
   "outputs": [],
   "source": [
    "Student"
   ]
  },
  {
   "cell_type": "code",
   "execution_count": null,
   "id": "47396872",
   "metadata": {},
   "outputs": [],
   "source": [
    "from collections import OrderedDict"
   ]
  },
  {
   "cell_type": "code",
   "execution_count": null,
   "id": "04dd9308",
   "metadata": {},
   "outputs": [],
   "source": [
    "N = int(input())"
   ]
  },
  {
   "cell_type": "code",
   "execution_count": null,
   "id": "5dccee43",
   "metadata": {},
   "outputs": [],
   "source": [
    "items_dict = OrderedDict()"
   ]
  },
  {
   "cell_type": "code",
   "execution_count": null,
   "id": "3a20575f",
   "metadata": {},
   "outputs": [],
   "source": [
    "for i in range(N):\n",
    "    item_price = input().split(' ')\n",
    "    items_dict[' '.join(item_price[:-1])] = int(item_price[-1])"
   ]
  },
  {
   "cell_type": "code",
   "execution_count": null,
   "id": "c0bce865",
   "metadata": {},
   "outputs": [],
   "source": [
    "items_dict"
   ]
  },
  {
   "cell_type": "code",
   "execution_count": null,
   "id": "267006a8",
   "metadata": {},
   "outputs": [],
   "source": [
    "orders_dict = OrderedDict()\n",
    "input_ = int(input())\n",
    "for _ in range(input_):\n",
    "    item, space, price = input().rpartition(' ')\n",
    "    orders_dict[item] = orders_dict.get(item, 0) + int(price)\n",
    "for item, price in orders_dict.items():\n",
    "    print(item, price)"
   ]
  },
  {
   "cell_type": "code",
   "execution_count": null,
   "id": "ae8e6f8d",
   "metadata": {},
   "outputs": [],
   "source": [
    "orders_dict.get('b', 0)"
   ]
  },
  {
   "cell_type": "markdown",
   "id": "b0292be3",
   "metadata": {},
   "source": [
    "### Word Order"
   ]
  },
  {
   "cell_type": "code",
   "execution_count": null,
   "id": "0169991a",
   "metadata": {},
   "outputs": [],
   "source": [
    "n = int(input())"
   ]
  },
  {
   "cell_type": "code",
   "execution_count": null,
   "id": "120ad557",
   "metadata": {},
   "outputs": [],
   "source": [
    "words_dict = OrderedDict()\n",
    "for _ in range(n):\n",
    "    word = input()\n",
    "    if word not in words_dict:\n",
    "        words_dict[word] = 1\n",
    "    else:\n",
    "        words_dict[word] += 1"
   ]
  },
  {
   "cell_type": "code",
   "execution_count": null,
   "id": "7b841a41",
   "metadata": {},
   "outputs": [],
   "source": [
    "print(len(words_dict))\n",
    "print(*words_dict.values())"
   ]
  },
  {
   "cell_type": "markdown",
   "id": "51070d9b",
   "metadata": {},
   "source": [
    "### collections.deque()"
   ]
  },
  {
   "cell_type": "code",
   "execution_count": null,
   "id": "cec9eb9e",
   "metadata": {},
   "outputs": [],
   "source": [
    "from collections import deque"
   ]
  },
  {
   "cell_type": "code",
   "execution_count": null,
   "id": "ff25e0ac",
   "metadata": {},
   "outputs": [],
   "source": [
    "n = int(input())"
   ]
  },
  {
   "cell_type": "code",
   "execution_count": null,
   "id": "21ec161e",
   "metadata": {},
   "outputs": [],
   "source": [
    "d = deque()\n",
    "for _ in range(n):\n",
    "    command = input().split(' ')\n",
    "    if command[0] == 'append':\n",
    "        d.append(command[1])\n",
    "    elif command[0] == 'appendleft':\n",
    "        d.appendleft(command[1])\n",
    "    elif command[0] == 'pop':\n",
    "        d.pop()\n",
    "    elif command[0] == 'popleft':\n",
    "        d.popleft()"
   ]
  },
  {
   "cell_type": "code",
   "execution_count": null,
   "id": "669e72f9",
   "metadata": {},
   "outputs": [],
   "source": [
    "print(*d)"
   ]
  },
  {
   "cell_type": "markdown",
   "id": "717fd8b8",
   "metadata": {},
   "source": [
    "### Company Logo"
   ]
  },
  {
   "cell_type": "code",
   "execution_count": null,
   "id": "319945f8",
   "metadata": {},
   "outputs": [],
   "source": [
    "from collections import OrderedDict\n",
    "from itertools import islice"
   ]
  },
  {
   "cell_type": "code",
   "execution_count": null,
   "id": "ecb810ce",
   "metadata": {},
   "outputs": [],
   "source": [
    "s = input()\n",
    "s"
   ]
  },
  {
   "cell_type": "code",
   "execution_count": null,
   "id": "b10088e6",
   "metadata": {},
   "outputs": [],
   "source": [
    "chars_dict = OrderedDict()\n",
    "for char in s:\n",
    "    if char not in chars_dict:\n",
    "        chars_dict[char] = 1\n",
    "    else:\n",
    "        chars_dict[char] += 1\n",
    "\n",
    "chars_dict"
   ]
  },
  {
   "cell_type": "code",
   "execution_count": null,
   "id": "cb396c27",
   "metadata": {},
   "outputs": [],
   "source": [
    "sorted_char_dict = OrderedDict(sorted(chars_dict.items(), key=lambda x: x[0]))\n",
    "sorted_char_dict"
   ]
  },
  {
   "cell_type": "code",
   "execution_count": null,
   "id": "9e0072a7",
   "metadata": {},
   "outputs": [],
   "source": [
    "sorted_freq_dict = OrderedDict(sorted(sorted_char_dict.items(), key=lambda x: x[1], reverse=True))\n",
    "sorted_freq_dict"
   ]
  },
  {
   "cell_type": "code",
   "execution_count": null,
   "id": "fb5bf7b6",
   "metadata": {},
   "outputs": [],
   "source": [
    "for k, v in list(islice(sorted_freq_dict.items(), 3)):\n",
    "    print(k, v)"
   ]
  },
  {
   "cell_type": "markdown",
   "id": "13a16eb8",
   "metadata": {},
   "source": [
    "### Pilling Up!"
   ]
  },
  {
   "cell_type": "code",
   "execution_count": null,
   "id": "56ee17c2",
   "metadata": {},
   "outputs": [],
   "source": [
    "from collections import deque"
   ]
  },
  {
   "cell_type": "code",
   "execution_count": null,
   "id": "749d21c0",
   "metadata": {},
   "outputs": [],
   "source": [
    "T = int(input())"
   ]
  },
  {
   "cell_type": "code",
   "execution_count": null,
   "id": "bd695bb1",
   "metadata": {},
   "outputs": [],
   "source": [
    "all_cubes = deque()\n",
    "for _ in range(T):\n",
    "    n = int(input())\n",
    "    cubes = deque(map(int, input().split(' ')))\n",
    "    all_cubes.append(cubes)"
   ]
  },
  {
   "cell_type": "code",
   "execution_count": null,
   "id": "8971df61",
   "metadata": {},
   "outputs": [],
   "source": [
    "all_cubes = deque([deque([4, 4, 1]), deque([1, 3, 2])])\n",
    "all_cubes"
   ]
  },
  {
   "cell_type": "code",
   "execution_count": null,
   "id": "1cca4ec4",
   "metadata": {},
   "outputs": [],
   "source": [
    "for cubes in all_cubes:\n",
    "    if len(cubes) <= 2:\n",
    "        print('Yes')\n",
    "        continue\n",
    "    \n",
    "    lower_level = max(cubes[0], cubes[-1])\n",
    "    \n",
    "    while len(cubes) > 1:\n",
    "        if (cubes[0] >= cubes[-1]) and (cubes[0] <= lower_level):\n",
    "            lower_level = cubes.popleft()\n",
    "        elif (cubes[0] <= cubes[-1]) and (cubes[-1] <= lower_level):\n",
    "            lower_level = cubes.pop()\n",
    "        else:\n",
    "            print('No')\n",
    "            break\n",
    "\n",
    "    if len(cubes) == 1:\n",
    "        if lower_level >= cubes[0]:\n",
    "            print('Yes')\n",
    "        else:\n",
    "            print('No')\n",
    "        cubes.pop()"
   ]
  },
  {
   "cell_type": "markdown",
   "id": "774a9f6f",
   "metadata": {},
   "source": [
    "### Polar Coordinates"
   ]
  },
  {
   "cell_type": "code",
   "execution_count": null,
   "id": "17e2614f",
   "metadata": {},
   "outputs": [],
   "source": [
    "import cmath"
   ]
  },
  {
   "cell_type": "code",
   "execution_count": null,
   "id": "ceb870a1",
   "metadata": {},
   "outputs": [],
   "source": [
    "z = complex(input())"
   ]
  },
  {
   "cell_type": "code",
   "execution_count": null,
   "id": "540322f1",
   "metadata": {},
   "outputs": [],
   "source": [
    "print(abs(z))\n",
    "print(cmath.phase(z))"
   ]
  },
  {
   "cell_type": "markdown",
   "id": "4a319d05",
   "metadata": {},
   "source": [
    "### Find Angle MBC"
   ]
  },
  {
   "cell_type": "code",
   "execution_count": null,
   "id": "e9ef8f76",
   "metadata": {},
   "outputs": [],
   "source": [
    "import math"
   ]
  },
  {
   "cell_type": "code",
   "execution_count": null,
   "id": "023f8e60",
   "metadata": {},
   "outputs": [],
   "source": [
    "AB = int(input())\n",
    "BC = int(input())"
   ]
  },
  {
   "cell_type": "code",
   "execution_count": null,
   "id": "d9c8ec8c",
   "metadata": {},
   "outputs": [],
   "source": [
    "AC = math.sqrt(AB**2+BC**2)\n",
    "theta = math.acos(BC/AC)\n",
    "print(int(round(math.degrees(theta), 0)),'\\u00B0',sep='')"
   ]
  },
  {
   "cell_type": "markdown",
   "id": "06164847",
   "metadata": {},
   "source": [
    "### Tirangle Quest 2"
   ]
  },
  {
   "cell_type": "code",
   "execution_count": null,
   "id": "0ae9669f",
   "metadata": {},
   "outputs": [],
   "source": [
    "for i in range(1, int(input())+1):\n",
    "    print(int((10**i-1)/9)**2)"
   ]
  },
  {
   "cell_type": "markdown",
   "id": "f3fa9364",
   "metadata": {},
   "source": [
    "### Mod Divmod"
   ]
  },
  {
   "cell_type": "code",
   "execution_count": null,
   "id": "b11d008b",
   "metadata": {},
   "outputs": [],
   "source": [
    "a = int(input())\n",
    "b = int(input())"
   ]
  },
  {
   "cell_type": "code",
   "execution_count": null,
   "id": "84cc09f8",
   "metadata": {},
   "outputs": [],
   "source": [
    "print(a//b)\n",
    "print(a%b)\n",
    "print(divmod(a, b))"
   ]
  },
  {
   "cell_type": "markdown",
   "id": "8347029a",
   "metadata": {},
   "source": [
    "### Power - Mod Power"
   ]
  },
  {
   "cell_type": "code",
   "execution_count": null,
   "id": "8d35ad92",
   "metadata": {},
   "outputs": [],
   "source": [
    "a = int(input())\n",
    "b = int(input())\n",
    "m = int(input())"
   ]
  },
  {
   "cell_type": "code",
   "execution_count": null,
   "id": "d890cc12",
   "metadata": {},
   "outputs": [],
   "source": [
    "print(pow(a, b))\n",
    "print(pow(a, b, m))"
   ]
  },
  {
   "cell_type": "markdown",
   "id": "27f25213",
   "metadata": {},
   "source": [
    "### Integers Come In All Sizes"
   ]
  },
  {
   "cell_type": "code",
   "execution_count": null,
   "id": "8047b936",
   "metadata": {},
   "outputs": [],
   "source": [
    "a = int(input())\n",
    "b = int(input())\n",
    "c = int(input())\n",
    "d = int(input())"
   ]
  },
  {
   "cell_type": "code",
   "execution_count": null,
   "id": "3881c067",
   "metadata": {},
   "outputs": [],
   "source": [
    "print(a**b+c**d)"
   ]
  },
  {
   "cell_type": "markdown",
   "id": "ebf9233c",
   "metadata": {},
   "source": [
    "### Triangle Quest"
   ]
  },
  {
   "cell_type": "code",
   "execution_count": null,
   "id": "f8532904",
   "metadata": {},
   "outputs": [],
   "source": [
    "for i in range(1, int(input())):\n",
    "    print(i*((10**i-1)//9))"
   ]
  },
  {
   "cell_type": "markdown",
   "id": "5620967a",
   "metadata": {},
   "source": [
    "### Introduction to Sets"
   ]
  },
  {
   "cell_type": "code",
   "execution_count": null,
   "id": "cf39904a",
   "metadata": {},
   "outputs": [],
   "source": [
    "def average(array):\n",
    "    distinct_heights = set(array)\n",
    "    if len(distinct_heights) == 0:\n",
    "        return 0\n",
    "    else:\n",
    "        return sum(distinct_heights)/len(distinct_heights)"
   ]
  },
  {
   "cell_type": "code",
   "execution_count": null,
   "id": "307dd331",
   "metadata": {},
   "outputs": [],
   "source": [
    "n = int(input())\n",
    "arr = list(map(int, input().split()))\n",
    "print('{:.3f}'.format(average(arr)))"
   ]
  },
  {
   "cell_type": "markdown",
   "id": "877fbf2a",
   "metadata": {},
   "source": [
    "### No Idea!"
   ]
  },
  {
   "cell_type": "code",
   "execution_count": null,
   "id": "e4c62c1d",
   "metadata": {},
   "outputs": [],
   "source": [
    "n, m = input().split()\n",
    "\n",
    "origin_set = input().split()\n",
    "\n",
    "A = set(input().split())\n",
    "B = set(input().split())\n",
    "print(sum([(i in A) - (i in B) for i in origin_set]))"
   ]
  },
  {
   "cell_type": "markdown",
   "id": "d672f57a",
   "metadata": {},
   "source": [
    "### Symmetric Difference"
   ]
  },
  {
   "cell_type": "code",
   "execution_count": null,
   "id": "4166dd8e",
   "metadata": {},
   "outputs": [],
   "source": [
    "M = int(input())\n",
    "a = set(map(int, input().split(' ')))\n",
    "N = int(input())\n",
    "b = set(map(int, input().split(' ')))"
   ]
  },
  {
   "cell_type": "code",
   "execution_count": null,
   "id": "78789ade",
   "metadata": {},
   "outputs": [],
   "source": [
    "result = set()\n",
    "\n",
    "result.update(a.difference(b))\n",
    "result.update(b.difference(a))"
   ]
  },
  {
   "cell_type": "code",
   "execution_count": null,
   "id": "0fb1dfbf",
   "metadata": {},
   "outputs": [],
   "source": [
    "for each in sorted(list(result)):\n",
    "    print(each)"
   ]
  },
  {
   "cell_type": "markdown",
   "id": "f877a2e4",
   "metadata": {},
   "source": [
    "### Set .add()"
   ]
  },
  {
   "cell_type": "code",
   "execution_count": null,
   "id": "6616d1ac",
   "metadata": {},
   "outputs": [],
   "source": [
    "stamps = set()\n",
    "for _ in range(int(input())):\n",
    "    stamps.add(input())"
   ]
  },
  {
   "cell_type": "code",
   "execution_count": null,
   "id": "4bdc03ec",
   "metadata": {},
   "outputs": [],
   "source": [
    "print(len(stamps))"
   ]
  },
  {
   "cell_type": "markdown",
   "id": "2c07aad4",
   "metadata": {},
   "source": [
    "### Set .discard(), .remove() & .pop()"
   ]
  },
  {
   "cell_type": "code",
   "execution_count": null,
   "id": "426cc0af",
   "metadata": {},
   "outputs": [],
   "source": [
    "n = int(input())\n",
    "s = set(map(int, input().split(' ')))\n",
    "N = int(input())"
   ]
  },
  {
   "cell_type": "code",
   "execution_count": null,
   "id": "513a27af",
   "metadata": {},
   "outputs": [],
   "source": [
    "commands = []\n",
    "\n",
    "for _ in range(N):\n",
    "    commands.append(input().split(' '))"
   ]
  },
  {
   "cell_type": "code",
   "execution_count": null,
   "id": "274db903",
   "metadata": {},
   "outputs": [],
   "source": [
    "commands"
   ]
  },
  {
   "cell_type": "code",
   "execution_count": null,
   "id": "feefc719",
   "metadata": {},
   "outputs": [],
   "source": [
    "for command in commands:\n",
    "    if command[0] == 'pop':\n",
    "        s.pop()\n",
    "    elif command[0] == 'discard':\n",
    "        s.discard(int(command[1]))\n",
    "    elif command[0] == 'remove':\n",
    "        if int(command[1]) in s:\n",
    "            s.remove(int(command[1]))\n",
    "\n",
    "print(sum(s))"
   ]
  },
  {
   "cell_type": "code",
   "execution_count": null,
   "id": "ae2c0b78",
   "metadata": {},
   "outputs": [],
   "source": [
    "# Another implementation\n",
    "\n",
    "n = int(input())\n",
    "s = set(map(int, input().split()))\n",
    "\n",
    "for i in range(int(input())):\n",
    "    s1 = input().split()\n",
    "    if s1[0] == 'pop':\n",
    "        s.pop()\n",
    "    elif s1[0] == 'remove':\n",
    "        if int(s1[1]) in s:\n",
    "            s.remove(int(s1[1]))\n",
    "    elif s1[0] == 'discard':\n",
    "        s.discard(int(s1[1]))\n",
    "\n",
    "print(sum(s))"
   ]
  },
  {
   "cell_type": "markdown",
   "id": "ae6e916d",
   "metadata": {},
   "source": [
    "### Set .union() Operation"
   ]
  },
  {
   "cell_type": "code",
   "execution_count": null,
   "id": "40405c2c",
   "metadata": {},
   "outputs": [],
   "source": [
    "n = int(input())\n",
    "s = set(map(int, input().split()))\n",
    "\n",
    "b = int(input())\n",
    "t = set(map(int, input().split()))"
   ]
  },
  {
   "cell_type": "code",
   "execution_count": null,
   "id": "6e64e7ca",
   "metadata": {},
   "outputs": [],
   "source": [
    "print(len(s.union(t)))"
   ]
  },
  {
   "cell_type": "markdown",
   "id": "52cd8b41",
   "metadata": {},
   "source": [
    "### Set .intersection() Operation"
   ]
  },
  {
   "cell_type": "code",
   "execution_count": null,
   "id": "6a77d00f",
   "metadata": {},
   "outputs": [],
   "source": [
    "n = int(input())\n",
    "s = set(map(int, input().split()))\n",
    "\n",
    "b = int(input())\n",
    "t = set(map(int, input().split()))"
   ]
  },
  {
   "cell_type": "code",
   "execution_count": null,
   "id": "c9128a94",
   "metadata": {},
   "outputs": [],
   "source": [
    "print(len(s.intersection(t)))"
   ]
  },
  {
   "cell_type": "markdown",
   "id": "3ed3ded7",
   "metadata": {},
   "source": [
    "### Set .difference() Operation"
   ]
  },
  {
   "cell_type": "code",
   "execution_count": null,
   "id": "0ffab391",
   "metadata": {},
   "outputs": [],
   "source": [
    "n = int(input())\n",
    "s = set(map(int, input().split()))\n",
    "\n",
    "b = int(input())\n",
    "t = set(map(int, input().split()))"
   ]
  },
  {
   "cell_type": "code",
   "execution_count": null,
   "id": "83479006",
   "metadata": {},
   "outputs": [],
   "source": [
    "print(len(s.difference(t)))"
   ]
  },
  {
   "cell_type": "markdown",
   "id": "b71dfe16",
   "metadata": {},
   "source": [
    "### Set .symmetric_difference() Operation"
   ]
  },
  {
   "cell_type": "code",
   "execution_count": null,
   "id": "e9ddac4c",
   "metadata": {},
   "outputs": [],
   "source": [
    "n = int(input())\n",
    "s = set(map(int, input().split()))\n",
    "\n",
    "b = int(input())\n",
    "t = set(map(int, input().split()))"
   ]
  },
  {
   "cell_type": "code",
   "execution_count": null,
   "id": "3c035806",
   "metadata": {},
   "outputs": [],
   "source": [
    "print(len(s.symmetric_difference(t)))"
   ]
  },
  {
   "cell_type": "markdown",
   "id": "fa947d54",
   "metadata": {},
   "source": [
    "### Set Mutations"
   ]
  },
  {
   "cell_type": "code",
   "execution_count": null,
   "id": "a0fe59ab",
   "metadata": {},
   "outputs": [],
   "source": [
    "n = int(input())\n",
    "A = set(map(int, input().split()))\n",
    "N = int(input())\n",
    "for _ in range(N):\n",
    "    op, length = input().split()\n",
    "    B = set(map(int, input().split()))\n",
    "    if op == 'intersection_update':\n",
    "        A.intersection_update(B)\n",
    "    elif op == 'update':\n",
    "        A.update(B)\n",
    "    elif op == 'symmetric_difference_update':\n",
    "        A.symmetric_difference_update(B)\n",
    "    elif op == 'difference_update':\n",
    "        A.difference_update(B)\n",
    "\n",
    "print(sum(A))"
   ]
  },
  {
   "cell_type": "markdown",
   "id": "9a082c67",
   "metadata": {},
   "source": [
    "### The Captain's Room"
   ]
  },
  {
   "cell_type": "code",
   "execution_count": null,
   "id": "63472e69",
   "metadata": {},
   "outputs": [],
   "source": [
    "K = int(input())\n",
    "A = list(map(int, input().split()))"
   ]
  },
  {
   "cell_type": "code",
   "execution_count": null,
   "id": "cf2be0e6",
   "metadata": {},
   "outputs": [],
   "source": [
    "for a in set(A):\n",
    "    if A.count(a) == K:\n",
    "        A = list(filter((a).__ne__, A))\n",
    "    else:\n",
    "        print(a)\n",
    "        break"
   ]
  },
  {
   "cell_type": "code",
   "execution_count": null,
   "id": "c49b8c1e",
   "metadata": {},
   "outputs": [],
   "source": [
    "# Faster version\n",
    "\n",
    "k = int(input())\n",
    "rooms = list(map(int, input().split()))"
   ]
  },
  {
   "cell_type": "code",
   "execution_count": null,
   "id": "2ef379f8",
   "metadata": {},
   "outputs": [],
   "source": [
    "roomSet = set(rooms)\n",
    "roomSet"
   ]
  },
  {
   "cell_type": "code",
   "execution_count": null,
   "id": "837849c2",
   "metadata": {},
   "outputs": [],
   "source": [
    "roomSum = sum(rooms)\n",
    "roomSum"
   ]
  },
  {
   "cell_type": "code",
   "execution_count": null,
   "id": "16b40fea",
   "metadata": {},
   "outputs": [],
   "source": [
    "roomSetSum = sum(roomSet) * k\n",
    "roomSetSum"
   ]
  },
  {
   "cell_type": "code",
   "execution_count": null,
   "id": "f30db077",
   "metadata": {},
   "outputs": [],
   "source": [
    "captiansRoom = (roomSetSum - roomSum) // (k - 1)"
   ]
  },
  {
   "cell_type": "code",
   "execution_count": null,
   "id": "10223361",
   "metadata": {},
   "outputs": [],
   "source": [
    "print(captiansRoom)"
   ]
  },
  {
   "cell_type": "markdown",
   "id": "4c3b0248",
   "metadata": {},
   "source": [
    "### Check Subset"
   ]
  },
  {
   "cell_type": "code",
   "execution_count": null,
   "id": "3b247b74",
   "metadata": {},
   "outputs": [],
   "source": [
    "subsets = []\n",
    "\n",
    "for _ in range(int(input())):\n",
    "    A_num = int(input())\n",
    "    A = set(map(int, input().split(' ')))\n",
    "    B_num = int(input())\n",
    "    B = set(map(int, input().split(' ')))\n",
    "    if len(B.difference(A)) == len(B)-len(A):\n",
    "        subsets.append(True)\n",
    "    else:\n",
    "        subsets.append(False)"
   ]
  },
  {
   "cell_type": "code",
   "execution_count": null,
   "id": "cba0eeed",
   "metadata": {},
   "outputs": [],
   "source": [
    "for subset in subsets:\n",
    "    print(subset)"
   ]
  },
  {
   "cell_type": "markdown",
   "id": "24e48005",
   "metadata": {},
   "source": [
    "### Check Strict Superset"
   ]
  },
  {
   "cell_type": "code",
   "execution_count": null,
   "id": "876e3eb8",
   "metadata": {},
   "outputs": [],
   "source": [
    "A = set(map(int, input().split()))\n",
    "\n",
    "for _ in range(int(input())):\n",
    "    X = set(map(int, input().split()))\n",
    "    if A.issuperset(X) != True or len(A) == len(X): \n",
    "        print(False)\n",
    "        break \n",
    "else: print(True)"
   ]
  },
  {
   "cell_type": "markdown",
   "id": "df15f1f3",
   "metadata": {},
   "source": [
    "### Calendar Module"
   ]
  },
  {
   "cell_type": "code",
   "execution_count": null,
   "id": "22e3beea",
   "metadata": {},
   "outputs": [],
   "source": [
    "import calendar"
   ]
  },
  {
   "cell_type": "code",
   "execution_count": null,
   "id": "e7a20a0b",
   "metadata": {},
   "outputs": [],
   "source": [
    "m, d, y = map(int, input().split(' '))"
   ]
  },
  {
   "cell_type": "code",
   "execution_count": null,
   "id": "742edad3",
   "metadata": {},
   "outputs": [],
   "source": [
    "print((list(calendar.day_name)[calendar.weekday(y, m, d)]).upper())"
   ]
  },
  {
   "cell_type": "markdown",
   "id": "4a5e46f9",
   "metadata": {},
   "source": [
    "### Time Delta"
   ]
  },
  {
   "cell_type": "code",
   "execution_count": null,
   "id": "e77ea03f",
   "metadata": {},
   "outputs": [],
   "source": [
    "from datetime import datetime"
   ]
  },
  {
   "cell_type": "code",
   "execution_count": null,
   "id": "3ad7c2ce",
   "metadata": {},
   "outputs": [],
   "source": [
    "t1 = input()\n",
    "t2 = input()"
   ]
  },
  {
   "cell_type": "code",
   "execution_count": null,
   "id": "a7f8fcf6",
   "metadata": {},
   "outputs": [],
   "source": [
    "date_format = \"%a %d %b %Y %H:%M:%S %z\"\n",
    "date1 = datetime.strptime(t1, date_format)\n",
    "date2 = datetime.strptime(t2, date_format)"
   ]
  },
  {
   "cell_type": "code",
   "execution_count": null,
   "id": "5f766dfb",
   "metadata": {},
   "outputs": [],
   "source": [
    "time_diff = date1 - date2"
   ]
  },
  {
   "cell_type": "code",
   "execution_count": null,
   "id": "3a841a00",
   "metadata": {},
   "outputs": [],
   "source": [
    "str(int(abs(time_diff.total_seconds())))"
   ]
  },
  {
   "cell_type": "markdown",
   "id": "bf872ddf",
   "metadata": {},
   "source": [
    "### Exceptions"
   ]
  },
  {
   "cell_type": "code",
   "execution_count": null,
   "id": "6a75bf4f",
   "metadata": {},
   "outputs": [],
   "source": [
    "input_values = []\n",
    "for _ in range(int(input())):\n",
    "    input_values.append(list(input().split(' ')))"
   ]
  },
  {
   "cell_type": "code",
   "execution_count": null,
   "id": "82b7250f",
   "metadata": {},
   "outputs": [],
   "source": [
    "for values in input_values:\n",
    "    try:\n",
    "        print(int(values[0])//int(values[1]))\n",
    "    except ZeroDivisionError as e:\n",
    "        print(\"Error Code:\", e)\n",
    "    except ValueError as e:\n",
    "        print(\"Error Code:\", e)"
   ]
  },
  {
   "cell_type": "markdown",
   "id": "9807e39d",
   "metadata": {},
   "source": [
    "### Incorrect Regex"
   ]
  },
  {
   "cell_type": "code",
   "execution_count": null,
   "id": "33b7c4b6",
   "metadata": {},
   "outputs": [],
   "source": [
    "import re"
   ]
  },
  {
   "cell_type": "code",
   "execution_count": null,
   "id": "0835b6aa",
   "metadata": {},
   "outputs": [],
   "source": [
    "strings = []\n",
    "for _ in range(int(input())):\n",
    "    strings.append(input())"
   ]
  },
  {
   "cell_type": "code",
   "execution_count": null,
   "id": "251087bd",
   "metadata": {},
   "outputs": [],
   "source": [
    "for s in strings:\n",
    "    try:\n",
    "        a = re.compile(s)\n",
    "        print(bool(a))\n",
    "    except re.error as e:\n",
    "        print(False)"
   ]
  },
  {
   "cell_type": "markdown",
   "id": "4de1017b",
   "metadata": {},
   "source": [
    "### Classes: Dealing with Complex Numbers"
   ]
  },
  {
   "cell_type": "code",
   "execution_count": null,
   "id": "bf62aef9",
   "metadata": {},
   "outputs": [],
   "source": [
    "import math\n",
    "\n",
    "class Complex(object):\n",
    "    def __init__(self, real, imaginary):\n",
    "        self.real = real\n",
    "        self.imaginary = imaginary\n",
    "        \n",
    "    def __add__(self, no):\n",
    "        return Complex(self.real+no.real, self.imaginary+no.imaginary)\n",
    "        \n",
    "    def __sub__(self, no):\n",
    "        return Complex(self.real-no.real, self.imaginary-no.imaginary)\n",
    "        \n",
    "    def __mul__(self, no):\n",
    "        r = self.real*no.real - self.imaginary*no.imaginary\n",
    "        i = self.real*no.imaginary + self.imaginary*no.real\n",
    "        return Complex(r, i)\n",
    "\n",
    "    def __truediv__(self, no):\n",
    "        denom = no.real**2 + no.imaginary**2\n",
    "        r = (self.real * no.real + self.imaginary * no.imaginary) / denom\n",
    "        i = (self.imaginary * no.real - self.real * no.imaginary) / denom\n",
    "        return Complex(r, i)\n",
    "\n",
    "    def mod(self):\n",
    "        z = self.real**2 + self.imaginary**2\n",
    "        return Complex(math.sqrt(z), 0)\n",
    "\n",
    "    def __str__(self):\n",
    "        if self.imaginary == 0:\n",
    "            result = \"%.2f+0.00i\" % (self.real)\n",
    "        elif self.real == 0:\n",
    "            if self.imaginary >= 0:\n",
    "                result = \"0.00+%.2fi\" % (self.imaginary)\n",
    "            else:\n",
    "                result = \"0.00-%.2fi\" % (abs(self.imaginary))\n",
    "        elif self.imaginary > 0:\n",
    "            result = \"%.2f+%.2fi\" % (self.real, self.imaginary)\n",
    "        else:\n",
    "            result = \"%.2f-%.2fi\" % (self.real, abs(self.imaginary))\n",
    "        return result\n",
    "\n",
    "if __name__ == '__main__':\n",
    "    c = map(float, input().split())\n",
    "    d = map(float, input().split())\n",
    "    x = Complex(*c)\n",
    "    y = Complex(*d)\n",
    "    print(*map(str, [x+y, x-y, x*y, x/y, x.mod(), y.mod()]), sep='\\n')"
   ]
  },
  {
   "cell_type": "markdown",
   "id": "2f6cbc0a",
   "metadata": {},
   "source": [
    "### Class 2 - Find the Torsional Angle"
   ]
  },
  {
   "cell_type": "code",
   "execution_count": null,
   "id": "11029a3e",
   "metadata": {},
   "outputs": [],
   "source": [
    "import math\n",
    "\n",
    "class Points(object):\n",
    "    def __init__(self, x, y, z):\n",
    "        self.x = x\n",
    "        self.y = y\n",
    "        self.z = z\n",
    "\n",
    "    def __sub__(self, no):\n",
    "        return Points((self.x-no.x), (self.y-no.y), (self.z-no.z))\n",
    "\n",
    "    def dot(self, no):\n",
    "        return (self.x*no.x)+(self.y*no.y)+(self.z*no.z)\n",
    "\n",
    "    def cross(self, no):\n",
    "        return Points((self.y*no.z - self.z*no.y), (self.z*no.x - self.x*no.z), (self.x*no.y - self.y*no.x))\n",
    "        \n",
    "    def absolute(self):\n",
    "        return pow((self.x ** 2 + self.y ** 2 + self.z ** 2), 0.5)\n",
    "\n",
    "if __name__ == '__main__':\n",
    "    points = list()\n",
    "    for i in range(4):\n",
    "        a = list(map(float, input().split()))\n",
    "        points.append(a)\n",
    "\n",
    "    a, b, c, d = Points(*points[0]), Points(*points[1]), Points(*points[2]), Points(*points[3])\n",
    "    x = (b - a).cross(c - b)\n",
    "    y = (c - b).cross(d - c)\n",
    "    angle = math.acos(x.dot(y) / (x.absolute() * y.absolute()))\n",
    "\n",
    "    print(\"%.2f\" % math.degrees(angle))"
   ]
  },
  {
   "cell_type": "markdown",
   "id": "512cf1a5",
   "metadata": {},
   "source": [
    "### Zipped!"
   ]
  },
  {
   "cell_type": "code",
   "execution_count": null,
   "id": "0854fbed",
   "metadata": {},
   "outputs": [],
   "source": [
    "N, X = map(int, input().split(' '))\n",
    "\n",
    "marks = []\n",
    "for _ in range(0, X):\n",
    "    marks.append(list(map(float, input().split(' '))))"
   ]
  },
  {
   "cell_type": "code",
   "execution_count": null,
   "id": "e1d82444",
   "metadata": {},
   "outputs": [],
   "source": [
    "for i in range(0, N):\n",
    "    mark_sum = 0\n",
    "    for j in range(0, X):\n",
    "        mark_sum += marks[j][i]\n",
    "    print(\"%.1f\" % (mark_sum/X))"
   ]
  },
  {
   "cell_type": "code",
   "execution_count": null,
   "id": "0bd238f0",
   "metadata": {},
   "outputs": [],
   "source": [
    "# Another approach\n",
    "\n",
    "N, X = map(int,input().split())\n",
    "\n",
    "marks = []\n",
    "for i in range(X):\n",
    "    marks.append(map(float,input().split()))\n",
    "    \n",
    "for studentScores in zip(*marks):\n",
    "    print(sum(studentScores)/len(studentScores))"
   ]
  },
  {
   "cell_type": "markdown",
   "id": "561b5001",
   "metadata": {},
   "source": [
    "### Input()"
   ]
  },
  {
   "cell_type": "code",
   "execution_count": null,
   "id": "3e1b9b9b",
   "metadata": {},
   "outputs": [],
   "source": [
    "x, k = map(int,input().split())\n",
    "P = input()"
   ]
  },
  {
   "cell_type": "code",
   "execution_count": null,
   "id": "d7ece4bf",
   "metadata": {},
   "outputs": [],
   "source": [
    "if eval(P) == k:\n",
    "    print(True)\n",
    "else:\n",
    "    print(False)"
   ]
  },
  {
   "cell_type": "markdown",
   "id": "8df4ccad",
   "metadata": {},
   "source": [
    "### Python Evaluation"
   ]
  },
  {
   "cell_type": "code",
   "execution_count": null,
   "id": "8a6d953e",
   "metadata": {},
   "outputs": [],
   "source": [
    "exp_str = input()\n",
    "print(eval(exp_str))"
   ]
  },
  {
   "cell_type": "markdown",
   "id": "6c25118d",
   "metadata": {},
   "source": [
    "### Athlete Sort"
   ]
  },
  {
   "cell_type": "code",
   "execution_count": null,
   "id": "83935c95",
   "metadata": {},
   "outputs": [],
   "source": [
    "first_multiple_input = input().rstrip().split()\n",
    "\n",
    "n = int(first_multiple_input[0])\n",
    "m = int(first_multiple_input[1])\n",
    "\n",
    "arr = []\n",
    "for _ in range(n):\n",
    "    arr.append(list(map(int, input().rstrip().split())))\n",
    "\n",
    "k = int(input().strip())"
   ]
  },
  {
   "cell_type": "code",
   "execution_count": null,
   "id": "b19a0ae4",
   "metadata": {},
   "outputs": [],
   "source": [
    "P = sorted(arr, key=lambda row: row[k])\n",
    "P"
   ]
  },
  {
   "cell_type": "code",
   "execution_count": null,
   "id": "51b5ab68",
   "metadata": {},
   "outputs": [],
   "source": [
    "for i in range(len(P)):\n",
    "    for j in range(len(P[i])):\n",
    "        print(P[i][j], end=' ')\n",
    "    print()"
   ]
  },
  {
   "cell_type": "markdown",
   "id": "77da359a",
   "metadata": {},
   "source": [
    "### Any or All"
   ]
  },
  {
   "cell_type": "code",
   "execution_count": null,
   "id": "87d30720",
   "metadata": {},
   "outputs": [],
   "source": [
    "N = int(input())\n",
    "numbers = list(map(int, input().split(' ')))"
   ]
  },
  {
   "cell_type": "code",
   "execution_count": null,
   "id": "3834114c",
   "metadata": {},
   "outputs": [],
   "source": [
    "if len([*filter(lambda x: x >= 0, numbers)]) == len(numbers):\n",
    "    if len([*filter(lambda x: str(x) == str(x)[::-1], numbers)]) > 0:\n",
    "        print(True)\n",
    "    else:\n",
    "        print(False)\n",
    "else:\n",
    "    print(False)"
   ]
  },
  {
   "cell_type": "code",
   "execution_count": null,
   "id": "2b5159bb",
   "metadata": {},
   "outputs": [],
   "source": [
    "# Another approach\n",
    "\n",
    "print(all([(x >= 0) for x in numbers]) and any([str(x) == str(x)[::-1] for x in numbers]))"
   ]
  },
  {
   "cell_type": "markdown",
   "id": "cdcf27c1",
   "metadata": {},
   "source": [
    "### ginortS"
   ]
  },
  {
   "cell_type": "code",
   "execution_count": null,
   "id": "c70fce4a",
   "metadata": {},
   "outputs": [],
   "source": [
    "S = input()"
   ]
  },
  {
   "cell_type": "code",
   "execution_count": null,
   "id": "8729928b",
   "metadata": {},
   "outputs": [],
   "source": [
    "lowercase = []\n",
    "uppercase = []\n",
    "odd_digits = []\n",
    "even_digits = []\n",
    "\n",
    "[lowercase.append(s) if s.islower() else uppercase.append(s) \n",
    " if s.isupper() else odd_digits.append(s) if (int(s)%2 == 1) else even_digits.append(s) for s in S]"
   ]
  },
  {
   "cell_type": "code",
   "execution_count": null,
   "id": "f87ddf17",
   "metadata": {},
   "outputs": [],
   "source": [
    "print(''.join(sorted(lowercase)+sorted(uppercase)+sorted(odd_digits)+sorted(even_digits)))"
   ]
  },
  {
   "cell_type": "markdown",
   "id": "634f38eb",
   "metadata": {},
   "source": [
    "### Detect Floating Point Number"
   ]
  },
  {
   "cell_type": "code",
   "execution_count": null,
   "id": "ad1a5184",
   "metadata": {},
   "outputs": [],
   "source": [
    "import re"
   ]
  },
  {
   "cell_type": "code",
   "execution_count": null,
   "id": "81e0dcfe",
   "metadata": {},
   "outputs": [],
   "source": [
    "strings = []\n",
    "for _ in range(int(input())):\n",
    "    strings.append(input())"
   ]
  },
  {
   "cell_type": "code",
   "execution_count": null,
   "id": "ae062e80",
   "metadata": {},
   "outputs": [],
   "source": [
    "for s in strings:\n",
    "    print(bool(re.search('(^\\+?|^-?)(\\d)*(\\.{1})(\\d)+$', s)))"
   ]
  },
  {
   "cell_type": "code",
   "execution_count": null,
   "id": "56c9334d",
   "metadata": {},
   "outputs": [],
   "source": [
    "# Another approach\n",
    "\n",
    "for s in strings:\n",
    "    print(bool(re.match(r'^[-+]?[0-9]*\\.[0-9]+$', s)))"
   ]
  },
  {
   "cell_type": "markdown",
   "id": "65d46d96",
   "metadata": {},
   "source": [
    "### Re.split()"
   ]
  },
  {
   "cell_type": "code",
   "execution_count": null,
   "id": "b523201f",
   "metadata": {},
   "outputs": [],
   "source": [
    "import re"
   ]
  },
  {
   "cell_type": "code",
   "execution_count": null,
   "id": "e8bf12c6",
   "metadata": {},
   "outputs": [],
   "source": [
    "regex_pattern = r\"[,.]+\""
   ]
  },
  {
   "cell_type": "code",
   "execution_count": null,
   "id": "98f484a0",
   "metadata": {},
   "outputs": [],
   "source": [
    "print(\"\\n\".join(re.split(regex_pattern, input())))"
   ]
  },
  {
   "cell_type": "markdown",
   "id": "cfe0046a",
   "metadata": {},
   "source": [
    "### Group(), Groups() & Groupdict()"
   ]
  },
  {
   "cell_type": "code",
   "execution_count": null,
   "id": "9ff879a4",
   "metadata": {},
   "outputs": [],
   "source": [
    "import re"
   ]
  },
  {
   "cell_type": "code",
   "execution_count": null,
   "id": "50b4d42b",
   "metadata": {},
   "outputs": [],
   "source": [
    "regex_pattern = r\"([a-zA-Z0-9])\\1+\""
   ]
  },
  {
   "cell_type": "code",
   "execution_count": null,
   "id": "7bdd3b72",
   "metadata": {},
   "outputs": [],
   "source": [
    "m = re.search(regex_pattern, input().strip())\n",
    "print(bool(m))\n",
    "print(m.group(1) if m else -1)"
   ]
  },
  {
   "cell_type": "markdown",
   "id": "517a89f1",
   "metadata": {},
   "source": [
    "### Re.findall() & Re.finditer()"
   ]
  },
  {
   "cell_type": "code",
   "execution_count": null,
   "id": "d1fa389f",
   "metadata": {},
   "outputs": [],
   "source": [
    "import re"
   ]
  },
  {
   "cell_type": "code",
   "execution_count": null,
   "id": "0d52c4d2",
   "metadata": {},
   "outputs": [],
   "source": [
    "regex_pattern = r\"(?<=[QWRTYPSDFGHJKLZXCVBNMqwrtypsdfghjklzxcvbnm])([aeiouAEIOU]{2,})(?=[QWRTYPSDFGHJKLZXCVBNMqwrtypsdfghjklzxcvbnm])\""
   ]
  },
  {
   "cell_type": "code",
   "execution_count": null,
   "id": "2758023b",
   "metadata": {},
   "outputs": [],
   "source": [
    "m = re.findall(regex_pattern, input().strip(), flags=re.I)\n",
    "print('\\n'.join(m or ['-1']))"
   ]
  },
  {
   "cell_type": "markdown",
   "id": "06169613",
   "metadata": {},
   "source": [
    "### Re.start() & Re.end()"
   ]
  },
  {
   "cell_type": "code",
   "execution_count": 1,
   "id": "a42c93ed",
   "metadata": {},
   "outputs": [],
   "source": [
    "import re"
   ]
  },
  {
   "cell_type": "code",
   "execution_count": 2,
   "id": "3886f1b5",
   "metadata": {},
   "outputs": [
    {
     "name": "stdout",
     "output_type": "stream",
     "text": [
      "aaadaa\n",
      "aa\n"
     ]
    }
   ],
   "source": [
    "S = input()\n",
    "k = input()"
   ]
  },
  {
   "cell_type": "code",
   "execution_count": 3,
   "id": "5019fe77",
   "metadata": {},
   "outputs": [],
   "source": [
    "S = 'aaadaa'\n",
    "k = 'aa'"
   ]
  },
  {
   "cell_type": "code",
   "execution_count": 4,
   "id": "ffb8b97f",
   "metadata": {},
   "outputs": [],
   "source": [
    "m = re.search(k, S)"
   ]
  },
  {
   "cell_type": "code",
   "execution_count": 5,
   "id": "728d9800",
   "metadata": {},
   "outputs": [],
   "source": [
    "pattern = re.compile(k)\n",
    "res = pattern.search(S)"
   ]
  },
  {
   "cell_type": "code",
   "execution_count": 6,
   "id": "32f7a6b4",
   "metadata": {},
   "outputs": [
    {
     "name": "stdout",
     "output_type": "stream",
     "text": [
      "(0, 1)\n",
      "(1, 2)\n",
      "(4, 5)\n"
     ]
    }
   ],
   "source": [
    "if not res:\n",
    "    print(\"(-1, -1)\")\n",
    "while res:\n",
    "    print(\"({0}, {1})\".format(res.start(), res.end()-1))\n",
    "    res = pattern.search(S, res.start()+1)"
   ]
  },
  {
   "cell_type": "markdown",
   "id": "555f123c",
   "metadata": {},
   "source": [
    "### Regex Substitution"
   ]
  },
  {
   "cell_type": "code",
   "execution_count": 9,
   "id": "a67adb2f",
   "metadata": {},
   "outputs": [],
   "source": [
    "import re"
   ]
  },
  {
   "cell_type": "code",
   "execution_count": 46,
   "id": "2fb37c81",
   "metadata": {},
   "outputs": [
    {
     "name": "stdout",
     "output_type": "stream",
     "text": [
      "1\n",
      "x&& &&& && && x || | ||\\|| x\n"
     ]
    }
   ],
   "source": [
    "lines = []\n",
    "for _ in range(int(input())):\n",
    "    lines.append(input())"
   ]
  },
  {
   "cell_type": "code",
   "execution_count": 48,
   "id": "d1598aa4",
   "metadata": {},
   "outputs": [
    {
     "name": "stdout",
     "output_type": "stream",
     "text": [
      "x&& &&& and and x or | ||\\|| x\n"
     ]
    }
   ],
   "source": [
    "for line in lines:\n",
    "    modified_line = re.sub(r\"(?<= )(&{2})(?= )\", \"and\", line)\n",
    "    print(re.sub(r\"((?<= )(\\|{2}))(?= )\", \"or\", modified_line))"
   ]
  },
  {
   "cell_type": "markdown",
   "id": "a2870eea",
   "metadata": {},
   "source": [
    "### Validating Roman Numerals"
   ]
  },
  {
   "cell_type": "code",
   "execution_count": 49,
   "id": "9b184e77",
   "metadata": {},
   "outputs": [],
   "source": [
    "import re"
   ]
  },
  {
   "cell_type": "code",
   "execution_count": 53,
   "id": "9605164b",
   "metadata": {},
   "outputs": [],
   "source": [
    "thousand = 'M{0,3}'\n",
    "hundred = '(C[MD]|D?C{0,3})'\n",
    "ten = '(X[CL]|L?X{0,3})'\n",
    "digit = '(I[VX]|V?I{0,3})'\n",
    "regex_pattern = r\"%s%s%s%s$\" % (thousand, hundred, ten, digit)"
   ]
  },
  {
   "cell_type": "code",
   "execution_count": 55,
   "id": "90d38222",
   "metadata": {},
   "outputs": [
    {
     "name": "stdout",
     "output_type": "stream",
     "text": [
      "CDXXI\n",
      "True\n"
     ]
    }
   ],
   "source": [
    "print(str(bool(re.match(regex_pattern, input()))))"
   ]
  },
  {
   "cell_type": "markdown",
   "id": "0901d0a6",
   "metadata": {},
   "source": [
    "### Validating phone numbers"
   ]
  },
  {
   "cell_type": "code",
   "execution_count": 66,
   "id": "75702a14",
   "metadata": {},
   "outputs": [],
   "source": [
    "import re"
   ]
  },
  {
   "cell_type": "code",
   "execution_count": 56,
   "id": "b0d75134",
   "metadata": {},
   "outputs": [
    {
     "name": "stdout",
     "output_type": "stream",
     "text": [
      "2\n",
      "9587456281\n",
      "1252478965\n"
     ]
    }
   ],
   "source": [
    "phone_numbers = []\n",
    "\n",
    "for _ in range(int(input())):\n",
    "    phone_numbers.append(input())"
   ]
  },
  {
   "cell_type": "code",
   "execution_count": 68,
   "id": "4075e6bb",
   "metadata": {},
   "outputs": [
    {
     "name": "stdout",
     "output_type": "stream",
     "text": [
      "YES\n",
      "NO\n"
     ]
    }
   ],
   "source": [
    "regex_pattern = r\"^[7-9]{1}\\d{9}$\"\n",
    "\n",
    "for number in phone_numbers:\n",
    "    if re.match(regex_pattern, number):\n",
    "        print('YES')\n",
    "    else:\n",
    "        print('NO')"
   ]
  },
  {
   "cell_type": "markdown",
   "id": "6f7300e8",
   "metadata": {},
   "source": [
    "### Validating and Parsing Email Addresses"
   ]
  },
  {
   "cell_type": "code",
   "execution_count": 142,
   "id": "a8e70adb",
   "metadata": {},
   "outputs": [],
   "source": [
    "import email.utils\n",
    "import re"
   ]
  },
  {
   "cell_type": "code",
   "execution_count": 109,
   "id": "b1a58a59",
   "metadata": {},
   "outputs": [
    {
     "name": "stdout",
     "output_type": "stream",
     "text": [
      "2\n",
      "DEXTER <dexter@hotmail.com>\n",
      "VIRUS <virus!@variable.:p>\n"
     ]
    }
   ],
   "source": [
    "emails = []\n",
    "\n",
    "for _ in range(int(input())):\n",
    "    emails.append(list(map(str, input().split(' '))))"
   ]
  },
  {
   "cell_type": "code",
   "execution_count": 140,
   "id": "b8fa19eb",
   "metadata": {},
   "outputs": [
    {
     "name": "stdout",
     "output_type": "stream",
     "text": [
      "DEXTER dexter@hotmail.com\n"
     ]
    }
   ],
   "source": [
    "regex_pattern = r\"^[a-zA-Z]{1}[\\w.-]*@[a-zA-Z]+\\.[a-zA-Z]{1,3}$\"\n",
    "\n",
    "for name, address in emails:\n",
    "    name_address_tuple = email.utils.parseaddr(name+' '+address)\n",
    "    if re.match(regex_pattern, name_address_tuple[1]):\n",
    "        print(str(name+' '+name_address_tuple[1]))"
   ]
  },
  {
   "cell_type": "code",
   "execution_count": 141,
   "id": "cd911479",
   "metadata": {},
   "outputs": [
    {
     "name": "stdout",
     "output_type": "stream",
     "text": [
      "2\n",
      "DEXTER <dexter@hotmail.com>\n",
      "DEXTER <dexter@hotmail.com>\n",
      "VIRUS <virus!@variable.:p>\n"
     ]
    }
   ],
   "source": [
    "# Another approach\n",
    "\n",
    "import re\n",
    "\n",
    "n = int(input())\n",
    "for _ in range(n):\n",
    "    x, y = input().split(' ')\n",
    "    m = re.match(r'<[A-Za-z](\\w|-|\\.|_)+@[A-Za-z]+\\.[A-Za-z]{1,3}>', y)\n",
    "    if m:\n",
    "        print(x, y)"
   ]
  },
  {
   "cell_type": "markdown",
   "id": "788b6966",
   "metadata": {},
   "source": [
    "### Hex Color Code"
   ]
  },
  {
   "cell_type": "code",
   "execution_count": 143,
   "id": "1426c6b9",
   "metadata": {},
   "outputs": [],
   "source": [
    "import re"
   ]
  },
  {
   "cell_type": "code",
   "execution_count": 195,
   "id": "6ec7cf76",
   "metadata": {},
   "outputs": [
    {
     "name": "stdout",
     "output_type": "stream",
     "text": [
      "11\n",
      "#BED\n",
      "{\n",
      "color: #FfFdF8; background-color:#aef;\n",
      "font-size: 123px;\n",
      "background: -webkit-linear-gradient(top, #f9f9f9, #fff);\n",
      "}\n",
      "#Cab\n",
      "{\n",
      "background-color: #ABC;\n",
      "border: 2px dashed #fff;\n",
      "}\n"
     ]
    }
   ],
   "source": [
    "css_lines = []\n",
    "for _ in range(int(input())):\n",
    "    css_lines.append(input().strip())"
   ]
  },
  {
   "cell_type": "code",
   "execution_count": 217,
   "id": "b84e28e5",
   "metadata": {},
   "outputs": [],
   "source": [
    "css_lines = \"\"\".custom-file-input::-webkit-file-upload-button {\n",
    "  visibility: hidden;\n",
    "}\n",
    ".custom-file-input::before {\n",
    "  content: 'Select some files';\n",
    "  display: inline-block;\n",
    "  background: -webkit-linear-gradient(top, #f9f9f9, #e3e3e3);\n",
    "  border: 1px solid #999;\n",
    "  border-radius: 3px;\n",
    "  padding: 5px 8px;\n",
    "  outline: none;\n",
    "  white-space: nowrap;\n",
    "  -webkit-user-select: none;\n",
    "  cursor: pointer;\n",
    "  text-shadow: 1px 1px #fff;\n",
    "  font-weight: 700;\n",
    "  font-size: 10pt;\n",
    "}\n",
    ".custom-file-input:hover::before {\n",
    "  border-color: black;\n",
    "}\n",
    ".custom-file-input:active::before {\n",
    "  background: -webkit-linear-gradient(top, #e3e3e3, #f9f9f9);\n",
    "}\"\"\""
   ]
  },
  {
   "cell_type": "code",
   "execution_count": 220,
   "id": "a958a6e6",
   "metadata": {},
   "outputs": [],
   "source": [
    "regex_pattern = r\"#{1}[\\dA-Fa-f]{3,6}(?=[^\\n(\\s*{])\"\n",
    "# regex_pattern = '[\\s:](#[a-f0-9]{6}|#[a-f0-9]{3})[\\s:;,)]'"
   ]
  },
  {
   "cell_type": "code",
   "execution_count": 202,
   "id": "9dfe8692",
   "metadata": {},
   "outputs": [],
   "source": [
    "for css_line in css_lines:\n",
    "    m = re.findall(regex_pattern, css_line)\n",
    "    for i in m:\n",
    "        print(str(i).strip())"
   ]
  },
  {
   "cell_type": "code",
   "execution_count": 221,
   "id": "bc906791",
   "metadata": {},
   "outputs": [
    {
     "name": "stdout",
     "output_type": "stream",
     "text": [
      "#f9f9f9\n",
      "#e3e3e3\n",
      "#999\n",
      "#fff\n",
      "#e3e3e3\n",
      "#f9f9f9\n"
     ]
    }
   ],
   "source": [
    "m = re.findall(regex_pattern, css_lines)\n",
    "for i in m:\n",
    "    print(str(i).strip())"
   ]
  },
  {
   "cell_type": "code",
   "execution_count": 193,
   "id": "44d1ece7",
   "metadata": {},
   "outputs": [
    {
     "name": "stdout",
     "output_type": "stream",
     "text": [
      "11\n",
      "#BED\n",
      "{\n",
      "color: #FfFdF8; background-color:#aef;\n",
      "#FfFdF8\n",
      "#aef\n",
      "font-size: 123px;\n",
      "background: -webkit-linear-gradient(top, #f9f9f9, #fff);\n",
      "#f9f9f9\n",
      "#fff\n",
      "}\n",
      "#Cab\n",
      "{\n",
      "background-color: #ABC;\n",
      "#ABC\n",
      "border: 2px dashed #fff;\n",
      "#fff\n",
      "}\n"
     ]
    }
   ],
   "source": [
    "import re, sys\n",
    "\n",
    "N = int(input())\n",
    "for _ in range(N):\n",
    "    line = input().strip()\n",
    "    codes = [j for j in re.findall('[\\s:](#[a-f0-9]{6}|#[a-f0-9]{3})[\\s:;,)]', line, re.I)]\n",
    "    for code in codes:\n",
    "        print(code)"
   ]
  },
  {
   "cell_type": "code",
   "execution_count": null,
   "id": "c15572c8",
   "metadata": {},
   "outputs": [],
   "source": []
  }
 ],
 "metadata": {
  "kernelspec": {
   "display_name": "Python 3 (ipykernel)",
   "language": "python",
   "name": "python3"
  },
  "language_info": {
   "codemirror_mode": {
    "name": "ipython",
    "version": 3
   },
   "file_extension": ".py",
   "mimetype": "text/x-python",
   "name": "python",
   "nbconvert_exporter": "python",
   "pygments_lexer": "ipython3",
   "version": "3.8.16"
  }
 },
 "nbformat": 4,
 "nbformat_minor": 5
}
