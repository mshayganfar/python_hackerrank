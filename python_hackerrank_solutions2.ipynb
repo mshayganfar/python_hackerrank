{
 "cells": [
  {
   "cell_type": "markdown",
   "id": "4b1933ab",
   "metadata": {},
   "source": [
    "### HTML Parser - Part 1"
   ]
  },
  {
   "cell_type": "code",
   "execution_count": 6,
   "id": "ca005788",
   "metadata": {},
   "outputs": [],
   "source": [
    "from html.parser import HTMLParser"
   ]
  },
  {
   "cell_type": "code",
   "execution_count": 7,
   "id": "dce44e6a",
   "metadata": {},
   "outputs": [],
   "source": [
    "# create a subclass and override the handler methods\n",
    "class MyHTMLParser(HTMLParser):\n",
    "    def handle_starttag(self, tag, attrs):        \n",
    "        print ('Start :', tag)\n",
    "        for ele in attrs:\n",
    "            print ('->', ele[0], '>', ele[1])\n",
    "            \n",
    "    def handle_endtag(self, tag):\n",
    "        print ('End   :', tag)\n",
    "        \n",
    "    def handle_startendtag(self, tag, attrs):\n",
    "        print ('Empty :', tag)\n",
    "        for ele in attrs:\n",
    "            print ('->', ele[0], '>', ele[1])"
   ]
  },
  {
   "cell_type": "code",
   "execution_count": 10,
   "id": "37573397",
   "metadata": {},
   "outputs": [
    {
     "name": "stdout",
     "output_type": "stream",
     "text": [
      "2\n",
      "<html><head><title>HTML Parser - I</title></head>\n",
      "<body data-modal-target class='1'><h1>HackerRank</h1><br /></body></html>\n",
      "Start : html\n",
      "Start : head\n",
      "Start : title\n",
      "End   : title\n",
      "End   : head\n",
      "Start : body\n",
      "-> data-modal-target > None\n",
      "-> class > 1\n",
      "Start : h1\n",
      "End   : h1\n",
      "Empty : br\n",
      "End   : body\n",
      "End   : html\n"
     ]
    }
   ],
   "source": [
    "# instantiate the parser and fed it some HTML\n",
    "parser = MyHTMLParser()\n",
    "parser.feed(''.join([input().strip() for _ in range(int(input()))]))\n",
    "parser.close()"
   ]
  },
  {
   "cell_type": "markdown",
   "id": "63c7faf5",
   "metadata": {},
   "source": [
    "### HTML Parser - Part 2"
   ]
  },
  {
   "cell_type": "code",
   "execution_count": 1,
   "id": "76a3382e",
   "metadata": {},
   "outputs": [],
   "source": [
    "from html.parser import HTMLParser"
   ]
  },
  {
   "cell_type": "code",
   "execution_count": 3,
   "id": "393ef398",
   "metadata": {},
   "outputs": [],
   "source": [
    "class MyHTMLParser(HTMLParser):\n",
    "    def handle_comment(self,data):\n",
    "        if('\\n' in data):\n",
    "            print(\">>> Multi-line Comment\")\n",
    "        else:\n",
    "            print(\">>> Single-line Comment\")\n",
    "        print(data)\n",
    "    def handle_data(self,data):\n",
    "        if(data != '\\n'):\n",
    "            print(\">>> Data\")\n",
    "            print(data)"
   ]
  },
  {
   "cell_type": "code",
   "execution_count": 4,
   "id": "200c3798",
   "metadata": {},
   "outputs": [
    {
     "name": "stdout",
     "output_type": "stream",
     "text": [
      "4\n",
      "<!--[if IE 9]>IE9-specific content\n",
      "<![endif]-->\n",
      "<div> Welcome to HackerRank</div>\n",
      "<!--[if IE 9]>IE9-specific content<![endif]-->\n"
     ]
    }
   ],
   "source": [
    "html = \"\"\n",
    "for i in range(int(input())):\n",
    "    html += input().rstrip()\n",
    "    html += '\\n'"
   ]
  },
  {
   "cell_type": "code",
   "execution_count": 5,
   "id": "251ff679",
   "metadata": {},
   "outputs": [
    {
     "name": "stdout",
     "output_type": "stream",
     "text": [
      ">>> Multi-line Comment\n",
      "[if IE 9]>IE9-specific content\n",
      "<![endif]\n",
      ">>> Data\n",
      " Welcome to HackerRank\n",
      ">>> Single-line Comment\n",
      "[if IE 9]>IE9-specific content<![endif]\n"
     ]
    }
   ],
   "source": [
    "parser = MyHTMLParser()\n",
    "parser.feed(html)\n",
    "parser.close()"
   ]
  },
  {
   "cell_type": "markdown",
   "id": "a40873d8",
   "metadata": {},
   "source": [
    "### Detect HTML Tags, Attributes and Attribute Values"
   ]
  },
  {
   "cell_type": "code",
   "execution_count": 9,
   "id": "f23a26f4",
   "metadata": {},
   "outputs": [],
   "source": [
    "from html.parser import HTMLParser"
   ]
  },
  {
   "cell_type": "code",
   "execution_count": 12,
   "id": "d411d835",
   "metadata": {},
   "outputs": [],
   "source": [
    "# create a subclass and override the handler methods\n",
    "class MyHTMLParser(HTMLParser):\n",
    "    def handle_starttag(self, tag, attrs):        \n",
    "        print (tag)\n",
    "        for ele in attrs:\n",
    "            print ('->', ele[0], '>', ele[1])\n",
    "\n",
    "    def handle_startendtag(self, tag, attrs):\n",
    "        print (tag)\n",
    "        for ele in attrs:\n",
    "            print ('->', ele[0], '>', ele[1])"
   ]
  },
  {
   "cell_type": "code",
   "execution_count": 13,
   "id": "ce12d702",
   "metadata": {},
   "outputs": [
    {
     "name": "stdout",
     "output_type": "stream",
     "text": [
      "head\n",
      "title\n",
      "object\n",
      "-> type > application/x-flash\n",
      "-> data > your-file.swf\n",
      "-> width > 0\n",
      "-> height > 0\n",
      "param\n",
      "-> name > quality\n",
      "-> value > high\n"
     ]
    }
   ],
   "source": [
    "# instantiate the parser and fed it some HTML\n",
    "parser = MyHTMLParser()\n",
    "parser.feed(''.join([input().strip() for _ in range(int(input()))]))\n",
    "parser.close()"
   ]
  },
  {
   "cell_type": "markdown",
   "id": "d63c5b1f",
   "metadata": {},
   "source": [
    "### Validating UID"
   ]
  },
  {
   "cell_type": "code",
   "execution_count": null,
   "id": "3f1036bb",
   "metadata": {},
   "outputs": [],
   "source": []
  }
 ],
 "metadata": {
  "kernelspec": {
   "display_name": "Python 3 (ipykernel)",
   "language": "python",
   "name": "python3"
  },
  "language_info": {
   "codemirror_mode": {
    "name": "ipython",
    "version": 3
   },
   "file_extension": ".py",
   "mimetype": "text/x-python",
   "name": "python",
   "nbconvert_exporter": "python",
   "pygments_lexer": "ipython3",
   "version": "3.8.16"
  }
 },
 "nbformat": 4,
 "nbformat_minor": 5
}
