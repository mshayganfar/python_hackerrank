{
 "cells": [
  {
   "cell_type": "markdown",
   "id": "ab1e01be",
   "metadata": {},
   "source": [
    "### HTML Parser - Part 1"
   ]
  },
  {
   "cell_type": "code",
   "execution_count": 6,
   "id": "6e8c3514",
   "metadata": {},
   "outputs": [],
   "source": [
    "from html.parser import HTMLParser"
   ]
  },
  {
   "cell_type": "code",
   "execution_count": 7,
   "id": "b89b56b4",
   "metadata": {},
   "outputs": [],
   "source": [
    "# create a subclass and override the handler methods\n",
    "class MyHTMLParser(HTMLParser):\n",
    "    def handle_starttag(self, tag, attrs):        \n",
    "        print ('Start :', tag)\n",
    "        for ele in attrs:\n",
    "            print ('->', ele[0], '>', ele[1])\n",
    "            \n",
    "    def handle_endtag(self, tag):\n",
    "        print ('End   :', tag)\n",
    "        \n",
    "    def handle_startendtag(self, tag, attrs):\n",
    "        print ('Empty :', tag)\n",
    "        for ele in attrs:\n",
    "            print ('->', ele[0], '>', ele[1])"
   ]
  },
  {
   "cell_type": "code",
   "execution_count": 10,
   "id": "f4a21964",
   "metadata": {},
   "outputs": [
    {
     "name": "stdout",
     "output_type": "stream",
     "text": [
      "2\n",
      "<html><head><title>HTML Parser - I</title></head>\n",
      "<body data-modal-target class='1'><h1>HackerRank</h1><br /></body></html>\n",
      "Start : html\n",
      "Start : head\n",
      "Start : title\n",
      "End   : title\n",
      "End   : head\n",
      "Start : body\n",
      "-> data-modal-target > None\n",
      "-> class > 1\n",
      "Start : h1\n",
      "End   : h1\n",
      "Empty : br\n",
      "End   : body\n",
      "End   : html\n"
     ]
    }
   ],
   "source": [
    "# instantiate the parser and fed it some HTML\n",
    "parser = MyHTMLParser()\n",
    "parser.feed(''.join([input().strip() for _ in range(int(input()))]))\n",
    "parser.close()"
   ]
  },
  {
   "cell_type": "markdown",
   "id": "471db637",
   "metadata": {},
   "source": [
    "### HTML Parser - Part 2"
   ]
  },
  {
   "cell_type": "code",
   "execution_count": 1,
   "id": "2691ec38",
   "metadata": {},
   "outputs": [],
   "source": [
    "from html.parser import HTMLParser"
   ]
  },
  {
   "cell_type": "code",
   "execution_count": 3,
   "id": "4c58443e",
   "metadata": {},
   "outputs": [],
   "source": [
    "class MyHTMLParser(HTMLParser):\n",
    "    def handle_comment(self,data):\n",
    "        if('\\n' in data):\n",
    "            print(\">>> Multi-line Comment\")\n",
    "        else:\n",
    "            print(\">>> Single-line Comment\")\n",
    "        print(data)\n",
    "    def handle_data(self,data):\n",
    "        if(data != '\\n'):\n",
    "            print(\">>> Data\")\n",
    "            print(data)"
   ]
  },
  {
   "cell_type": "code",
   "execution_count": 4,
   "id": "6db03bc6",
   "metadata": {},
   "outputs": [
    {
     "name": "stdout",
     "output_type": "stream",
     "text": [
      "4\n",
      "<!--[if IE 9]>IE9-specific content\n",
      "<![endif]-->\n",
      "<div> Welcome to HackerRank</div>\n",
      "<!--[if IE 9]>IE9-specific content<![endif]-->\n"
     ]
    }
   ],
   "source": [
    "html = \"\"\n",
    "for i in range(int(input())):\n",
    "    html += input().rstrip()\n",
    "    html += '\\n'"
   ]
  },
  {
   "cell_type": "code",
   "execution_count": 5,
   "id": "5c2028f5",
   "metadata": {},
   "outputs": [
    {
     "name": "stdout",
     "output_type": "stream",
     "text": [
      ">>> Multi-line Comment\n",
      "[if IE 9]>IE9-specific content\n",
      "<![endif]\n",
      ">>> Data\n",
      " Welcome to HackerRank\n",
      ">>> Single-line Comment\n",
      "[if IE 9]>IE9-specific content<![endif]\n"
     ]
    }
   ],
   "source": [
    "parser = MyHTMLParser()\n",
    "parser.feed(html)\n",
    "parser.close()"
   ]
  },
  {
   "cell_type": "markdown",
   "id": "62d9d638",
   "metadata": {},
   "source": [
    "### Detect HTML Tags, Attributes and Attribute Values"
   ]
  },
  {
   "cell_type": "code",
   "execution_count": 9,
   "id": "b3987cdc",
   "metadata": {},
   "outputs": [],
   "source": [
    "from html.parser import HTMLParser"
   ]
  },
  {
   "cell_type": "code",
   "execution_count": 12,
   "id": "aa8259eb",
   "metadata": {},
   "outputs": [],
   "source": [
    "# create a subclass and override the handler methods\n",
    "class MyHTMLParser(HTMLParser):\n",
    "    def handle_starttag(self, tag, attrs):        \n",
    "        print (tag)\n",
    "        for ele in attrs:\n",
    "            print ('->', ele[0], '>', ele[1])\n",
    "\n",
    "    def handle_startendtag(self, tag, attrs):\n",
    "        print (tag)\n",
    "        for ele in attrs:\n",
    "            print ('->', ele[0], '>', ele[1])"
   ]
  },
  {
   "cell_type": "code",
   "execution_count": 13,
   "id": "983ded72",
   "metadata": {},
   "outputs": [
    {
     "name": "stdout",
     "output_type": "stream",
     "text": [
      "head\n",
      "title\n",
      "object\n",
      "-> type > application/x-flash\n",
      "-> data > your-file.swf\n",
      "-> width > 0\n",
      "-> height > 0\n",
      "param\n",
      "-> name > quality\n",
      "-> value > high\n"
     ]
    }
   ],
   "source": [
    "# instantiate the parser and fed it some HTML\n",
    "parser = MyHTMLParser()\n",
    "parser.feed(''.join([input().strip() for _ in range(int(input()))]))\n",
    "parser.close()"
   ]
  },
  {
   "cell_type": "markdown",
   "id": "246e97b9",
   "metadata": {},
   "source": [
    "### Validating UID"
   ]
  },
  {
   "cell_type": "code",
   "execution_count": 14,
   "id": "aade85e9",
   "metadata": {},
   "outputs": [],
   "source": [
    "import re"
   ]
  },
  {
   "cell_type": "code",
   "execution_count": 19,
   "id": "74ca9a5e",
   "metadata": {},
   "outputs": [],
   "source": [
    "regex_uid = r\"^(?=(?:[a-z\\d]*[A-Z]){2})(?=(?:\\D*\\d){3})(?:([a-zA-Z\\d])(?!.*\\1)){10}$\""
   ]
  },
  {
   "cell_type": "code",
   "execution_count": 20,
   "id": "6c1fe93e",
   "metadata": {},
   "outputs": [
    {
     "name": "stdout",
     "output_type": "stream",
     "text": [
      "2\n",
      "B1CD102354\n",
      "B1CDEF2354\n"
     ]
    }
   ],
   "source": [
    "emp_uid = []\n",
    "for _ in range(int(input())):\n",
    "    emp_uid.append(input().strip())"
   ]
  },
  {
   "cell_type": "code",
   "execution_count": 21,
   "id": "483a0738",
   "metadata": {},
   "outputs": [
    {
     "name": "stdout",
     "output_type": "stream",
     "text": [
      "Invalid\n",
      "Valid\n"
     ]
    }
   ],
   "source": [
    "for uid in emp_uid:\n",
    "    if re.match(regex_uid, uid):\n",
    "        print('Valid')\n",
    "    else:\n",
    "        print('Invalid')"
   ]
  },
  {
   "cell_type": "markdown",
   "id": "f10baa6e",
   "metadata": {},
   "source": [
    "### Validating Credit Card Numbers"
   ]
  },
  {
   "cell_type": "code",
   "execution_count": 22,
   "id": "c338c423",
   "metadata": {},
   "outputs": [],
   "source": [
    "import re"
   ]
  },
  {
   "cell_type": "code",
   "execution_count": 28,
   "id": "938751b4",
   "metadata": {},
   "outputs": [],
   "source": [
    "pattern = re.compile(\n",
    "    r'^'\n",
    "    r'(?!.*(\\d)(-?\\1){3})'\n",
    "    r'[456]\\d{3}'\n",
    "    r'(?:-?\\d{4}){3}'\n",
    "    r'$')"
   ]
  },
  {
   "cell_type": "code",
   "execution_count": 25,
   "id": "508612ca",
   "metadata": {},
   "outputs": [
    {
     "name": "stdout",
     "output_type": "stream",
     "text": [
      "6\n",
      "4123456789123456\n",
      "5123-4567-8912-3456\n",
      "61234-567-8912-3456\n",
      "4123356789123456\n",
      "5133-3367-8912-3456\n",
      "5123 - 3567 - 8912 - 3456\n"
     ]
    }
   ],
   "source": [
    "credit_cards = []\n",
    "for _ in range(int(input())):\n",
    "    credit_cards.append(input().strip())"
   ]
  },
  {
   "cell_type": "code",
   "execution_count": 29,
   "id": "4fcb25fc",
   "metadata": {},
   "outputs": [
    {
     "name": "stdout",
     "output_type": "stream",
     "text": [
      "Valid\n",
      "Valid\n",
      "Invalid\n",
      "Valid\n",
      "Invalid\n",
      "Invalid\n"
     ]
    }
   ],
   "source": [
    "for card_number in credit_cards:\n",
    "    print('Valid' if pattern.search(card_number) else 'Invalid')"
   ]
  },
  {
   "cell_type": "markdown",
   "id": "969fd5c1",
   "metadata": {},
   "source": [
    "### Validating Postal Codes"
   ]
  },
  {
   "cell_type": "code",
   "execution_count": 31,
   "id": "72b8d643",
   "metadata": {},
   "outputs": [],
   "source": [
    "import re"
   ]
  },
  {
   "cell_type": "code",
   "execution_count": 32,
   "id": "7b311646",
   "metadata": {},
   "outputs": [
    {
     "name": "stdout",
     "output_type": "stream",
     "text": [
      "110000\n"
     ]
    }
   ],
   "source": [
    "P = input()"
   ]
  },
  {
   "cell_type": "code",
   "execution_count": 50,
   "id": "c7f65124",
   "metadata": {},
   "outputs": [],
   "source": [
    "regex_integer_in_range = r\"^([1-9][0-9]{5})$\"   # Do not delete 'r'.\n",
    "regex_alternating_repetitive_digit_pair = r\"(?=(\\d)\\d\\1)\"   # Do not delete 'r'."
   ]
  },
  {
   "cell_type": "code",
   "execution_count": 52,
   "id": "8402a9d4",
   "metadata": {},
   "outputs": [
    {
     "name": "stdout",
     "output_type": "stream",
     "text": [
      "False\n"
     ]
    }
   ],
   "source": [
    "if bool(re.match(regex_integer_in_range, P)) and (len(re.findall(regex_alternating_repetitive_digit_pair, P)) < 2):\n",
    "    print(True)\n",
    "else:\n",
    "    print(False)"
   ]
  },
  {
   "cell_type": "code",
   "execution_count": 58,
   "id": "7d32b20e",
   "metadata": {},
   "outputs": [
    {
     "data": {
      "text/plain": [
       "<re.Match object; span=(1, 1), match=''>"
      ]
     },
     "execution_count": 58,
     "metadata": {},
     "output_type": "execute_result"
    }
   ],
   "source": [
    "S=\"25351\"\n",
    "re.search(regex_alternating_repetitive_digit_pair, S)"
   ]
  },
  {
   "cell_type": "markdown",
   "id": "207f20f0",
   "metadata": {},
   "source": [
    "### Matrix Script"
   ]
  },
  {
   "cell_type": "code",
   "execution_count": null,
   "id": "63de5a03",
   "metadata": {},
   "outputs": [],
   "source": [
    "import re"
   ]
  },
  {
   "cell_type": "code",
   "execution_count": 84,
   "id": "01f9cb12",
   "metadata": {},
   "outputs": [
    {
     "name": "stdout",
     "output_type": "stream",
     "text": [
      "7 3\n"
     ]
    }
   ],
   "source": [
    "n, m = input().split(' ')"
   ]
  },
  {
   "cell_type": "code",
   "execution_count": 93,
   "id": "38a79706",
   "metadata": {},
   "outputs": [
    {
     "name": "stdout",
     "output_type": "stream",
     "text": [
      "Tsi\n",
      "h%x\n",
      "i #\n",
      "sM \n",
      "$a \n",
      "#t%\n",
      "ir!\n"
     ]
    }
   ],
   "source": [
    "lines = []\n",
    "for _ in range(int(n)):\n",
    "    lines.append([c for c in input()])"
   ]
  },
  {
   "cell_type": "code",
   "execution_count": 97,
   "id": "83089d45",
   "metadata": {},
   "outputs": [
    {
     "data": {
      "text/plain": [
       "[['T', 's', 'i'],\n",
       " ['h', '%', 'x'],\n",
       " ['i', ' ', '#'],\n",
       " ['s', 'M', ' '],\n",
       " ['$', 'a', ' '],\n",
       " ['#', 't', '%'],\n",
       " ['i', 'r', '!']]"
      ]
     },
     "execution_count": 97,
     "metadata": {},
     "output_type": "execute_result"
    }
   ],
   "source": [
    "lines"
   ]
  },
  {
   "cell_type": "code",
   "execution_count": 94,
   "id": "98726789",
   "metadata": {},
   "outputs": [
    {
     "name": "stdout",
     "output_type": "stream",
     "text": [
      "This is Matrix \n"
     ]
    }
   ],
   "source": [
    "messasge = \"\"\n",
    "for x in zip(*lines):\n",
    "    column = ''.join(x)\n",
    "    messasge += re.sub(r\"[!@#$%&]\", \" \", column)\n",
    "\n",
    "print(re.sub(r\"\\s{2,}\", \" \", messasge))"
   ]
  },
  {
   "cell_type": "code",
   "execution_count": null,
   "id": "9bf02cd1",
   "metadata": {},
   "outputs": [],
   "source": [
    "# Another approach\n",
    "#!/bin/python3\n",
    "\n",
    "import math\n",
    "import os\n",
    "import random\n",
    "import re\n",
    "import sys\n",
    "\n",
    "first_multiple_input = input().rstrip().split()\n",
    "\n",
    "n = int(first_multiple_input[0])\n",
    "\n",
    "m = int(first_multiple_input[1])\n",
    "\n",
    "matrix = []\n",
    "\n",
    "for _ in range(n):\n",
    "    matrix_item = input()\n",
    "    matrix.append(matrix_item)\n",
    "\n",
    "lines = []\n",
    "for _ in range(int(n)):\n",
    "    lines.append([c for c in matrix])\n",
    "\n",
    "matrix = list(zip(*matrix))\n",
    "sample = str()\n",
    "    \n",
    "for words in matrix:\n",
    "    for char in words:\n",
    "        sample += char\n",
    "           \n",
    "print(re.sub(r'(?<=\\w)([^\\w\\d]+)(?=\\w)', ' ', sample))"
   ]
  },
  {
   "cell_type": "markdown",
   "id": "c391534d",
   "metadata": {},
   "source": [
    "### Map and Lambda Function"
   ]
  },
  {
   "cell_type": "code",
   "execution_count": 100,
   "id": "810f2531",
   "metadata": {},
   "outputs": [],
   "source": [
    "cube = lambda x: x**3"
   ]
  },
  {
   "cell_type": "code",
   "execution_count": 109,
   "id": "68d265ec",
   "metadata": {},
   "outputs": [],
   "source": [
    "def fibonacci(n):\n",
    "    fib_list = [0,1]\n",
    "    \n",
    "    for i in range(2,n):\n",
    "        fib_list.append(fib_list[i-2] + fib_list[i-1])\n",
    "        \n",
    "    return(fib_list[:n])"
   ]
  },
  {
   "cell_type": "code",
   "execution_count": 110,
   "id": "4470eec9",
   "metadata": {},
   "outputs": [
    {
     "name": "stdout",
     "output_type": "stream",
     "text": [
      "[0, 1, 1, 8, 27, 125, 512, 2197, 9261, 39304, 166375, 704969, 2985984, 12649337, 53582633]\n"
     ]
    }
   ],
   "source": [
    "print(list(map(cube, fibonacci(15))))"
   ]
  },
  {
   "cell_type": "markdown",
   "id": "0092dd63",
   "metadata": {},
   "source": [
    "### Validating Email Addresses With a Filter"
   ]
  },
  {
   "cell_type": "code",
   "execution_count": 129,
   "id": "9fa67504",
   "metadata": {},
   "outputs": [],
   "source": [
    "import re"
   ]
  },
  {
   "cell_type": "code",
   "execution_count": 189,
   "id": "d0846772",
   "metadata": {},
   "outputs": [],
   "source": [
    "def fun(s):\n",
    "    email_regex = r\"^[\\w-]+@[a-zA-Z\\d]+\\.[a-zA-Z]{1,3}$\"\n",
    "    if re.match(email_regex, s):\n",
    "        return True\n",
    "    else:\n",
    "        return False"
   ]
  },
  {
   "cell_type": "code",
   "execution_count": 190,
   "id": "6c7a083d",
   "metadata": {},
   "outputs": [],
   "source": [
    "def filter_mail(emails):\n",
    "    return list(filter(fun, emails))"
   ]
  },
  {
   "cell_type": "code",
   "execution_count": 191,
   "id": "4e6f10ec",
   "metadata": {},
   "outputs": [],
   "source": [
    "emails = ['lara@hackerrank.com', 'brian-23@hackerrank.com', 'britts_54@hackerrank.com']"
   ]
  },
  {
   "cell_type": "code",
   "execution_count": 192,
   "id": "b2620e50",
   "metadata": {},
   "outputs": [
    {
     "data": {
      "text/plain": [
       "['lara@hackerrank.com', 'brian-23@hackerrank.com', 'britts_54@hackerrank.com']"
      ]
     },
     "execution_count": 192,
     "metadata": {},
     "output_type": "execute_result"
    }
   ],
   "source": [
    "filter_mail(emails)"
   ]
  },
  {
   "cell_type": "markdown",
   "id": "cfb50ac8",
   "metadata": {},
   "source": [
    "### Reduce Function"
   ]
  },
  {
   "cell_type": "code",
   "execution_count": 193,
   "id": "b8c6a00a",
   "metadata": {},
   "outputs": [],
   "source": [
    "from fractions import Fraction\n",
    "from functools import reduce"
   ]
  },
  {
   "cell_type": "code",
   "execution_count": 197,
   "id": "2b6f9fb5",
   "metadata": {},
   "outputs": [],
   "source": [
    "def product(fracs):\n",
    "    t = reduce(lambda x, y : x * y, fracs)\n",
    "    return t.numerator, t.denominator"
   ]
  },
  {
   "cell_type": "code",
   "execution_count": 198,
   "id": "7162492a",
   "metadata": {},
   "outputs": [
    {
     "name": "stdout",
     "output_type": "stream",
     "text": [
      "3\n",
      "1 2\n",
      "3 4\n",
      "10 6\n",
      "5 8\n"
     ]
    }
   ],
   "source": [
    "if __name__ == '__main__':\n",
    "    fracs = []\n",
    "    for _ in range(int(input())):\n",
    "        fracs.append(Fraction(*map(int, input().split())))\n",
    "    result = product(fracs)\n",
    "    print(*result)"
   ]
  },
  {
   "cell_type": "markdown",
   "id": "26d849de",
   "metadata": {},
   "source": [
    "### XML 1 - Find the Score"
   ]
  },
  {
   "cell_type": "code",
   "execution_count": 199,
   "id": "3b4cb284",
   "metadata": {},
   "outputs": [],
   "source": [
    "import xml.etree.ElementTree as etree"
   ]
  },
  {
   "cell_type": "code",
   "execution_count": 225,
   "id": "1cd8ddd6",
   "metadata": {},
   "outputs": [
    {
     "name": "stdout",
     "output_type": "stream",
     "text": [
      "6\n",
      "<feed xml:lang='en'>\n",
      "<title>HackerRank</title>\n",
      "<subtitle lang='en'>Programming challenges</subtitle>\n",
      "<link rel='alternate' type='text/html' href='http://hackerrank.com/'/>\n",
      "<updated>2013-12-25T12:00:00</updated>\n",
      "</feed>\n"
     ]
    }
   ],
   "source": [
    "xml = []\n",
    "for _ in range(int(input())):\n",
    "    xml.append(input())\n",
    "    \n",
    "xml = ''.join(xml)"
   ]
  },
  {
   "cell_type": "code",
   "execution_count": 231,
   "id": "fa3f2585",
   "metadata": {},
   "outputs": [],
   "source": [
    "xml = \"\"\"<feed xml:lang='en'>\n",
    "  <title>HackerRank</title>\n",
    "  <subtitle lang='en'>Programming challenges</subtitle>\n",
    "  <link rel='alternate' type='text/html' href='http://hackerrank.com/'/>\n",
    "  <updated>2013-12-25T12:00:00</updated>\n",
    "  <entry>\n",
    "  \t<author gender='male'>Harsh</author>\n",
    "    <question type='hard'>XML 1</question>\n",
    "    <description type='text'>This is related to XML parsing</description>\n",
    "  </entry>\n",
    "</feed>\"\"\""
   ]
  },
  {
   "cell_type": "code",
   "execution_count": 232,
   "id": "b7f9cb6c",
   "metadata": {},
   "outputs": [],
   "source": [
    "tree = etree.ElementTree(etree.fromstring(xml))"
   ]
  },
  {
   "cell_type": "code",
   "execution_count": 233,
   "id": "781c186d",
   "metadata": {},
   "outputs": [],
   "source": [
    "root = tree.getroot()"
   ]
  },
  {
   "cell_type": "code",
   "execution_count": 236,
   "id": "e0f8992e",
   "metadata": {},
   "outputs": [
    {
     "data": {
      "text/plain": [
       "5"
      ]
     },
     "execution_count": 236,
     "metadata": {},
     "output_type": "execute_result"
    }
   ],
   "source": [
    "len(root)"
   ]
  },
  {
   "cell_type": "code",
   "execution_count": 240,
   "id": "20c76d3d",
   "metadata": {},
   "outputs": [],
   "source": [
    "def get_attr_number(node):\n",
    "    score = len(node.attrib)\n",
    "\n",
    "    for r in node:\n",
    "        print(r.tag)\n",
    "        score += get_attr_number(r)\n",
    "\n",
    "    return score"
   ]
  },
  {
   "cell_type": "code",
   "execution_count": 241,
   "id": "c641e8b5",
   "metadata": {},
   "outputs": [
    {
     "name": "stdout",
     "output_type": "stream",
     "text": [
      "title\n",
      "subtitle\n",
      "link\n",
      "updated\n",
      "entry\n",
      "author\n",
      "question\n",
      "description\n"
     ]
    },
    {
     "data": {
      "text/plain": [
       "8"
      ]
     },
     "execution_count": 241,
     "metadata": {},
     "output_type": "execute_result"
    }
   ],
   "source": [
    "get_attr_number(root)"
   ]
  },
  {
   "cell_type": "code",
   "execution_count": 242,
   "id": "a93d0ccd",
   "metadata": {},
   "outputs": [],
   "source": [
    "# Another approach\n",
    "\n",
    "def get_attr_number(node):\n",
    "    return len(node.attrib) + sum(get_attr_number(child) for child in node)"
   ]
  },
  {
   "cell_type": "markdown",
   "id": "a6c6c439",
   "metadata": {},
   "source": [
    "### XML2 - Find the Maximum Depth"
   ]
  },
  {
   "cell_type": "code",
   "execution_count": 243,
   "id": "cab6b6f0",
   "metadata": {},
   "outputs": [],
   "source": [
    "import xml.etree.ElementTree as etree"
   ]
  },
  {
   "cell_type": "code",
   "execution_count": 254,
   "id": "21d978fa",
   "metadata": {},
   "outputs": [
    {
     "name": "stdout",
     "output_type": "stream",
     "text": [
      "6\n",
      "<feed xml:lang='en'>\n",
      "<title>HackerRank</title>\n",
      "<subtitle lang='en'>Programming challenges</subtitle>\n",
      "<link rel='alternate' type='text/html' href='http://hackerrank.com/'/>\n",
      "<updated>2013-12-25T12:00:00</updated>\n",
      "</feed>\n"
     ]
    }
   ],
   "source": [
    "xml = []\n",
    "for _ in range(int(input())):\n",
    "    xml.append(input())\n",
    "    \n",
    "xml = ''.join(xml)"
   ]
  },
  {
   "cell_type": "code",
   "execution_count": 255,
   "id": "e2ca6531",
   "metadata": {},
   "outputs": [],
   "source": [
    "maxdepth = 0\n",
    "def depth(elem, level):\n",
    "    global maxdepth\n",
    "    if (level == maxdepth):\n",
    "        maxdepth += 1\n",
    "        \n",
    "    for child in elem:\n",
    "        depth(child, level + 1)"
   ]
  },
  {
   "cell_type": "code",
   "execution_count": 256,
   "id": "aae6c13f",
   "metadata": {},
   "outputs": [
    {
     "name": "stdout",
     "output_type": "stream",
     "text": [
      "1\n"
     ]
    }
   ],
   "source": [
    "tree = etree.ElementTree(etree.fromstring(xml))\n",
    "depth(tree.getroot(), -1)\n",
    "print(maxdepth)"
   ]
  },
  {
   "cell_type": "markdown",
   "id": "1810bf68",
   "metadata": {},
   "source": [
    "### Standardize Mobile Number Using Decorators"
   ]
  },
  {
   "cell_type": "code",
   "execution_count": 325,
   "id": "7f1ce4b4",
   "metadata": {},
   "outputs": [],
   "source": [
    "def wrapper(f):\n",
    "    def fun(l):\n",
    "        f(['+91 '+x[-10:-5]+' '+x[-5:] for x in l])\n",
    "    return fun"
   ]
  },
  {
   "cell_type": "code",
   "execution_count": 326,
   "id": "f76b7aa5",
   "metadata": {},
   "outputs": [],
   "source": [
    "@wrapper\n",
    "def sort_phone(l):\n",
    "    print(*sorted(l), sep='\\n')"
   ]
  },
  {
   "cell_type": "code",
   "execution_count": 323,
   "id": "68837889",
   "metadata": {},
   "outputs": [
    {
     "name": "stdout",
     "output_type": "stream",
     "text": [
      "3\n",
      "09191919191\n",
      "9100256236\n",
      "+919593621456\n"
     ]
    },
    {
     "data": {
      "text/plain": [
       "['09191919191', '9100256236', '+919593621456']"
      ]
     },
     "execution_count": 323,
     "metadata": {},
     "output_type": "execute_result"
    }
   ],
   "source": [
    "l = [input() for _ in range(int(input()))]\n",
    "print(l)"
   ]
  },
  {
   "cell_type": "code",
   "execution_count": 327,
   "id": "e7fc64dc",
   "metadata": {},
   "outputs": [
    {
     "name": "stdout",
     "output_type": "stream",
     "text": [
      "+91 91002 56236\n",
      "+91 91919 19191\n",
      "+91 95936 21456\n"
     ]
    }
   ],
   "source": [
    "sort_phone(l)"
   ]
  },
  {
   "cell_type": "markdown",
   "id": "7dff2b68",
   "metadata": {},
   "source": [
    "### Decorators 2 - Name Directory"
   ]
  },
  {
   "cell_type": "code",
   "execution_count": 339,
   "id": "1b9f2432",
   "metadata": {},
   "outputs": [],
   "source": [
    "import operator"
   ]
  },
  {
   "cell_type": "code",
   "execution_count": 368,
   "id": "c39ea049",
   "metadata": {},
   "outputs": [],
   "source": [
    "def person_lister(f):\n",
    "    def inner(people):\n",
    "        return map(f, sorted(people, key=lambda x: int(x[2])))\n",
    "    return inner"
   ]
  },
  {
   "cell_type": "code",
   "execution_count": 369,
   "id": "3314d70c",
   "metadata": {},
   "outputs": [],
   "source": [
    "@person_lister\n",
    "def name_format(person):\n",
    "    return (\"Mr. \" if person[3] == \"M\" else \"Ms. \") + person[0] + \" \" + person[1]"
   ]
  },
  {
   "cell_type": "code",
   "execution_count": 336,
   "id": "040ccafe",
   "metadata": {},
   "outputs": [
    {
     "name": "stdout",
     "output_type": "stream",
     "text": [
      "3\n",
      "Mike Thomson 20 M\n",
      "Robert Bustle 32 M\n",
      "Andria Bustle 30 F\n"
     ]
    }
   ],
   "source": [
    "people = [input().split() for i in range(int(input()))]"
   ]
  },
  {
   "cell_type": "code",
   "execution_count": 370,
   "id": "8cb50b1d",
   "metadata": {},
   "outputs": [
    {
     "name": "stdout",
     "output_type": "stream",
     "text": [
      "Mr. Mike Thomson\n",
      "Ms. Andria Bustle\n",
      "Mr. Robert Bustle\n"
     ]
    }
   ],
   "source": [
    "print(*name_format(people), sep='\\n')"
   ]
  },
  {
   "cell_type": "code",
   "execution_count": null,
   "id": "47155033",
   "metadata": {},
   "outputs": [],
   "source": []
  }
 ],
 "metadata": {
  "kernelspec": {
   "display_name": "Python 3 (ipykernel)",
   "language": "python",
   "name": "python3"
  },
  "language_info": {
   "codemirror_mode": {
    "name": "ipython",
    "version": 3
   },
   "file_extension": ".py",
   "mimetype": "text/x-python",
   "name": "python",
   "nbconvert_exporter": "python",
   "pygments_lexer": "ipython3",
   "version": "3.8.16"
  }
 },
 "nbformat": 4,
 "nbformat_minor": 5
}
