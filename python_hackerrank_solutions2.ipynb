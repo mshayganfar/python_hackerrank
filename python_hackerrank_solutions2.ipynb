{
 "cells": [
  {
   "cell_type": "markdown",
   "id": "2c537e0c",
   "metadata": {},
   "source": [
    "### HTML Parser - Part 1"
   ]
  },
  {
   "cell_type": "code",
   "execution_count": 6,
   "id": "1127e64b",
   "metadata": {},
   "outputs": [],
   "source": [
    "from html.parser import HTMLParser"
   ]
  },
  {
   "cell_type": "code",
   "execution_count": 7,
   "id": "d599c190",
   "metadata": {},
   "outputs": [],
   "source": [
    "# create a subclass and override the handler methods\n",
    "class MyHTMLParser(HTMLParser):\n",
    "    def handle_starttag(self, tag, attrs):        \n",
    "        print ('Start :', tag)\n",
    "        for ele in attrs:\n",
    "            print ('->', ele[0], '>', ele[1])\n",
    "            \n",
    "    def handle_endtag(self, tag):\n",
    "        print ('End   :', tag)\n",
    "        \n",
    "    def handle_startendtag(self, tag, attrs):\n",
    "        print ('Empty :', tag)\n",
    "        for ele in attrs:\n",
    "            print ('->', ele[0], '>', ele[1])"
   ]
  },
  {
   "cell_type": "code",
   "execution_count": 10,
   "id": "e211bec0",
   "metadata": {},
   "outputs": [
    {
     "name": "stdout",
     "output_type": "stream",
     "text": [
      "2\n",
      "<html><head><title>HTML Parser - I</title></head>\n",
      "<body data-modal-target class='1'><h1>HackerRank</h1><br /></body></html>\n",
      "Start : html\n",
      "Start : head\n",
      "Start : title\n",
      "End   : title\n",
      "End   : head\n",
      "Start : body\n",
      "-> data-modal-target > None\n",
      "-> class > 1\n",
      "Start : h1\n",
      "End   : h1\n",
      "Empty : br\n",
      "End   : body\n",
      "End   : html\n"
     ]
    }
   ],
   "source": [
    "# instantiate the parser and fed it some HTML\n",
    "parser = MyHTMLParser()\n",
    "parser.feed(''.join([input().strip() for _ in range(int(input()))]))\n",
    "parser.close()"
   ]
  },
  {
   "cell_type": "markdown",
   "id": "90e69680",
   "metadata": {},
   "source": [
    "### HTML Parser - Part 2"
   ]
  },
  {
   "cell_type": "code",
   "execution_count": 1,
   "id": "4f7ed951",
   "metadata": {},
   "outputs": [],
   "source": [
    "from html.parser import HTMLParser"
   ]
  },
  {
   "cell_type": "code",
   "execution_count": 3,
   "id": "d6fc301b",
   "metadata": {},
   "outputs": [],
   "source": [
    "class MyHTMLParser(HTMLParser):\n",
    "    def handle_comment(self,data):\n",
    "        if('\\n' in data):\n",
    "            print(\">>> Multi-line Comment\")\n",
    "        else:\n",
    "            print(\">>> Single-line Comment\")\n",
    "        print(data)\n",
    "    def handle_data(self,data):\n",
    "        if(data != '\\n'):\n",
    "            print(\">>> Data\")\n",
    "            print(data)"
   ]
  },
  {
   "cell_type": "code",
   "execution_count": 4,
   "id": "9a0d0498",
   "metadata": {},
   "outputs": [
    {
     "name": "stdout",
     "output_type": "stream",
     "text": [
      "4\n",
      "<!--[if IE 9]>IE9-specific content\n",
      "<![endif]-->\n",
      "<div> Welcome to HackerRank</div>\n",
      "<!--[if IE 9]>IE9-specific content<![endif]-->\n"
     ]
    }
   ],
   "source": [
    "html = \"\"\n",
    "for i in range(int(input())):\n",
    "    html += input().rstrip()\n",
    "    html += '\\n'"
   ]
  },
  {
   "cell_type": "code",
   "execution_count": 5,
   "id": "cce3fdbd",
   "metadata": {},
   "outputs": [
    {
     "name": "stdout",
     "output_type": "stream",
     "text": [
      ">>> Multi-line Comment\n",
      "[if IE 9]>IE9-specific content\n",
      "<![endif]\n",
      ">>> Data\n",
      " Welcome to HackerRank\n",
      ">>> Single-line Comment\n",
      "[if IE 9]>IE9-specific content<![endif]\n"
     ]
    }
   ],
   "source": [
    "parser = MyHTMLParser()\n",
    "parser.feed(html)\n",
    "parser.close()"
   ]
  },
  {
   "cell_type": "markdown",
   "id": "6d55267c",
   "metadata": {},
   "source": [
    "### Detect HTML Tags, Attributes and Attribute Values"
   ]
  },
  {
   "cell_type": "code",
   "execution_count": 9,
   "id": "4e88ef09",
   "metadata": {},
   "outputs": [],
   "source": [
    "from html.parser import HTMLParser"
   ]
  },
  {
   "cell_type": "code",
   "execution_count": 12,
   "id": "d1e2c948",
   "metadata": {},
   "outputs": [],
   "source": [
    "# create a subclass and override the handler methods\n",
    "class MyHTMLParser(HTMLParser):\n",
    "    def handle_starttag(self, tag, attrs):        \n",
    "        print (tag)\n",
    "        for ele in attrs:\n",
    "            print ('->', ele[0], '>', ele[1])\n",
    "\n",
    "    def handle_startendtag(self, tag, attrs):\n",
    "        print (tag)\n",
    "        for ele in attrs:\n",
    "            print ('->', ele[0], '>', ele[1])"
   ]
  },
  {
   "cell_type": "code",
   "execution_count": 13,
   "id": "690ff26a",
   "metadata": {},
   "outputs": [
    {
     "name": "stdout",
     "output_type": "stream",
     "text": [
      "head\n",
      "title\n",
      "object\n",
      "-> type > application/x-flash\n",
      "-> data > your-file.swf\n",
      "-> width > 0\n",
      "-> height > 0\n",
      "param\n",
      "-> name > quality\n",
      "-> value > high\n"
     ]
    }
   ],
   "source": [
    "# instantiate the parser and fed it some HTML\n",
    "parser = MyHTMLParser()\n",
    "parser.feed(''.join([input().strip() for _ in range(int(input()))]))\n",
    "parser.close()"
   ]
  },
  {
   "cell_type": "markdown",
   "id": "80279f47",
   "metadata": {},
   "source": [
    "### Validating UID"
   ]
  },
  {
   "cell_type": "code",
   "execution_count": 14,
   "id": "7abde0d5",
   "metadata": {},
   "outputs": [],
   "source": [
    "import re"
   ]
  },
  {
   "cell_type": "code",
   "execution_count": 19,
   "id": "033c0074",
   "metadata": {},
   "outputs": [],
   "source": [
    "regex_uid = r\"^(?=(?:[a-z\\d]*[A-Z]){2})(?=(?:\\D*\\d){3})(?:([a-zA-Z\\d])(?!.*\\1)){10}$\""
   ]
  },
  {
   "cell_type": "code",
   "execution_count": 20,
   "id": "7ef07037",
   "metadata": {},
   "outputs": [
    {
     "name": "stdout",
     "output_type": "stream",
     "text": [
      "2\n",
      "B1CD102354\n",
      "B1CDEF2354\n"
     ]
    }
   ],
   "source": [
    "emp_uid = []\n",
    "for _ in range(int(input())):\n",
    "    emp_uid.append(input().strip())"
   ]
  },
  {
   "cell_type": "code",
   "execution_count": 21,
   "id": "53b49369",
   "metadata": {},
   "outputs": [
    {
     "name": "stdout",
     "output_type": "stream",
     "text": [
      "Invalid\n",
      "Valid\n"
     ]
    }
   ],
   "source": [
    "for uid in emp_uid:\n",
    "    if re.match(regex_uid, uid):\n",
    "        print('Valid')\n",
    "    else:\n",
    "        print('Invalid')"
   ]
  },
  {
   "cell_type": "markdown",
   "id": "d57b9fbb",
   "metadata": {},
   "source": [
    "### Validating Credit Card Numbers"
   ]
  },
  {
   "cell_type": "code",
   "execution_count": 22,
   "id": "d9db1e5c",
   "metadata": {},
   "outputs": [],
   "source": [
    "import re"
   ]
  },
  {
   "cell_type": "code",
   "execution_count": 28,
   "id": "3054bdd9",
   "metadata": {},
   "outputs": [],
   "source": [
    "pattern = re.compile(\n",
    "    r'^'\n",
    "    r'(?!.*(\\d)(-?\\1){3})'\n",
    "    r'[456]\\d{3}'\n",
    "    r'(?:-?\\d{4}){3}'\n",
    "    r'$')"
   ]
  },
  {
   "cell_type": "code",
   "execution_count": 25,
   "id": "677b4c77",
   "metadata": {},
   "outputs": [
    {
     "name": "stdout",
     "output_type": "stream",
     "text": [
      "6\n",
      "4123456789123456\n",
      "5123-4567-8912-3456\n",
      "61234-567-8912-3456\n",
      "4123356789123456\n",
      "5133-3367-8912-3456\n",
      "5123 - 3567 - 8912 - 3456\n"
     ]
    }
   ],
   "source": [
    "credit_cards = []\n",
    "for _ in range(int(input())):\n",
    "    credit_cards.append(input().strip())"
   ]
  },
  {
   "cell_type": "code",
   "execution_count": 29,
   "id": "59f490c0",
   "metadata": {},
   "outputs": [
    {
     "name": "stdout",
     "output_type": "stream",
     "text": [
      "Valid\n",
      "Valid\n",
      "Invalid\n",
      "Valid\n",
      "Invalid\n",
      "Invalid\n"
     ]
    }
   ],
   "source": [
    "for card_number in credit_cards:\n",
    "    print('Valid' if pattern.search(card_number) else 'Invalid')"
   ]
  },
  {
   "cell_type": "markdown",
   "id": "d5e57365",
   "metadata": {},
   "source": [
    "### Validating Postal Codes"
   ]
  },
  {
   "cell_type": "code",
   "execution_count": 31,
   "id": "45fc711f",
   "metadata": {},
   "outputs": [],
   "source": [
    "import re"
   ]
  },
  {
   "cell_type": "code",
   "execution_count": 32,
   "id": "e7415b60",
   "metadata": {},
   "outputs": [
    {
     "name": "stdout",
     "output_type": "stream",
     "text": [
      "110000\n"
     ]
    }
   ],
   "source": [
    "P = input()"
   ]
  },
  {
   "cell_type": "code",
   "execution_count": 50,
   "id": "9193be7c",
   "metadata": {},
   "outputs": [],
   "source": [
    "regex_integer_in_range = r\"^([1-9][0-9]{5})$\"   # Do not delete 'r'.\n",
    "regex_alternating_repetitive_digit_pair = r\"(?=(\\d)\\d\\1)\"   # Do not delete 'r'."
   ]
  },
  {
   "cell_type": "code",
   "execution_count": 52,
   "id": "e1fdc5b7",
   "metadata": {},
   "outputs": [
    {
     "name": "stdout",
     "output_type": "stream",
     "text": [
      "False\n"
     ]
    }
   ],
   "source": [
    "if bool(re.match(regex_integer_in_range, P)) and (len(re.findall(regex_alternating_repetitive_digit_pair, P)) < 2):\n",
    "    print(True)\n",
    "else:\n",
    "    print(False)"
   ]
  },
  {
   "cell_type": "code",
   "execution_count": 58,
   "id": "06ae9362",
   "metadata": {},
   "outputs": [
    {
     "data": {
      "text/plain": [
       "<re.Match object; span=(1, 1), match=''>"
      ]
     },
     "execution_count": 58,
     "metadata": {},
     "output_type": "execute_result"
    }
   ],
   "source": [
    "S=\"25351\"\n",
    "re.search(regex_alternating_repetitive_digit_pair, S)"
   ]
  },
  {
   "cell_type": "markdown",
   "id": "2dd0762c",
   "metadata": {},
   "source": [
    "### Matrix Script"
   ]
  },
  {
   "cell_type": "code",
   "execution_count": null,
   "id": "5bc458af",
   "metadata": {},
   "outputs": [],
   "source": [
    "import re"
   ]
  },
  {
   "cell_type": "code",
   "execution_count": 84,
   "id": "7fdadd89",
   "metadata": {},
   "outputs": [
    {
     "name": "stdout",
     "output_type": "stream",
     "text": [
      "7 3\n"
     ]
    }
   ],
   "source": [
    "n, m = input().split(' ')"
   ]
  },
  {
   "cell_type": "code",
   "execution_count": 93,
   "id": "d33d60d3",
   "metadata": {},
   "outputs": [
    {
     "name": "stdout",
     "output_type": "stream",
     "text": [
      "Tsi\n",
      "h%x\n",
      "i #\n",
      "sM \n",
      "$a \n",
      "#t%\n",
      "ir!\n"
     ]
    }
   ],
   "source": [
    "lines = []\n",
    "for _ in range(int(n)):\n",
    "    lines.append([c for c in input()])"
   ]
  },
  {
   "cell_type": "code",
   "execution_count": 97,
   "id": "69132402",
   "metadata": {},
   "outputs": [
    {
     "data": {
      "text/plain": [
       "[['T', 's', 'i'],\n",
       " ['h', '%', 'x'],\n",
       " ['i', ' ', '#'],\n",
       " ['s', 'M', ' '],\n",
       " ['$', 'a', ' '],\n",
       " ['#', 't', '%'],\n",
       " ['i', 'r', '!']]"
      ]
     },
     "execution_count": 97,
     "metadata": {},
     "output_type": "execute_result"
    }
   ],
   "source": [
    "lines"
   ]
  },
  {
   "cell_type": "code",
   "execution_count": 94,
   "id": "e5541320",
   "metadata": {},
   "outputs": [
    {
     "name": "stdout",
     "output_type": "stream",
     "text": [
      "This is Matrix \n"
     ]
    }
   ],
   "source": [
    "messasge = \"\"\n",
    "for x in zip(*lines):\n",
    "    column = ''.join(x)\n",
    "    messasge += re.sub(r\"[!@#$%&]\", \" \", column)\n",
    "\n",
    "print(re.sub(r\"\\s{2,}\", \" \", messasge))"
   ]
  },
  {
   "cell_type": "code",
   "execution_count": null,
   "id": "06e13cc3",
   "metadata": {},
   "outputs": [],
   "source": [
    "# Another approach\n",
    "#!/bin/python3\n",
    "\n",
    "import math\n",
    "import os\n",
    "import random\n",
    "import re\n",
    "import sys\n",
    "\n",
    "first_multiple_input = input().rstrip().split()\n",
    "\n",
    "n = int(first_multiple_input[0])\n",
    "\n",
    "m = int(first_multiple_input[1])\n",
    "\n",
    "matrix = []\n",
    "\n",
    "for _ in range(n):\n",
    "    matrix_item = input()\n",
    "    matrix.append(matrix_item)\n",
    "\n",
    "lines = []\n",
    "for _ in range(int(n)):\n",
    "    lines.append([c for c in matrix])\n",
    "\n",
    "matrix = list(zip(*matrix))\n",
    "sample = str()\n",
    "    \n",
    "for words in matrix:\n",
    "    for char in words:\n",
    "        sample += char\n",
    "           \n",
    "print(re.sub(r'(?<=\\w)([^\\w\\d]+)(?=\\w)', ' ', sample))"
   ]
  },
  {
   "cell_type": "markdown",
   "id": "9b449cc6",
   "metadata": {},
   "source": [
    "### Map and Lambda Function"
   ]
  },
  {
   "cell_type": "code",
   "execution_count": 100,
   "id": "f23e9dc7",
   "metadata": {},
   "outputs": [],
   "source": [
    "cube = lambda x: x**3"
   ]
  },
  {
   "cell_type": "code",
   "execution_count": 109,
   "id": "fe01f917",
   "metadata": {},
   "outputs": [],
   "source": [
    "def fibonacci(n):\n",
    "    fib_list = [0,1]\n",
    "    \n",
    "    for i in range(2,n):\n",
    "        fib_list.append(fib_list[i-2] + fib_list[i-1])\n",
    "        \n",
    "    return(fib_list[:n])"
   ]
  },
  {
   "cell_type": "code",
   "execution_count": 110,
   "id": "f964aa61",
   "metadata": {},
   "outputs": [
    {
     "name": "stdout",
     "output_type": "stream",
     "text": [
      "[0, 1, 1, 8, 27, 125, 512, 2197, 9261, 39304, 166375, 704969, 2985984, 12649337, 53582633]\n"
     ]
    }
   ],
   "source": [
    "print(list(map(cube, fibonacci(15))))"
   ]
  },
  {
   "cell_type": "markdown",
   "id": "ba7166d2",
   "metadata": {},
   "source": [
    "### Validating Email Addresses With a Filter"
   ]
  },
  {
   "cell_type": "code",
   "execution_count": 129,
   "id": "2ef8a224",
   "metadata": {},
   "outputs": [],
   "source": [
    "import re"
   ]
  },
  {
   "cell_type": "code",
   "execution_count": 189,
   "id": "39788890",
   "metadata": {},
   "outputs": [],
   "source": [
    "def fun(s):\n",
    "    email_regex = r\"^[\\w-]+@[a-zA-Z\\d]+\\.[a-zA-Z]{1,3}$\"\n",
    "    if re.match(email_regex, s):\n",
    "        return True\n",
    "    else:\n",
    "        return False"
   ]
  },
  {
   "cell_type": "code",
   "execution_count": 190,
   "id": "e8f897b3",
   "metadata": {},
   "outputs": [],
   "source": [
    "def filter_mail(emails):\n",
    "    return list(filter(fun, emails))"
   ]
  },
  {
   "cell_type": "code",
   "execution_count": 191,
   "id": "8c12746e",
   "metadata": {},
   "outputs": [],
   "source": [
    "emails = ['lara@hackerrank.com', 'brian-23@hackerrank.com', 'britts_54@hackerrank.com']"
   ]
  },
  {
   "cell_type": "code",
   "execution_count": 192,
   "id": "324154b4",
   "metadata": {},
   "outputs": [
    {
     "data": {
      "text/plain": [
       "['lara@hackerrank.com', 'brian-23@hackerrank.com', 'britts_54@hackerrank.com']"
      ]
     },
     "execution_count": 192,
     "metadata": {},
     "output_type": "execute_result"
    }
   ],
   "source": [
    "filter_mail(emails)"
   ]
  },
  {
   "cell_type": "markdown",
   "id": "9292fefe",
   "metadata": {},
   "source": [
    "### Reduce Function"
   ]
  },
  {
   "cell_type": "code",
   "execution_count": 193,
   "id": "a1588f6b",
   "metadata": {},
   "outputs": [],
   "source": [
    "from fractions import Fraction\n",
    "from functools import reduce"
   ]
  },
  {
   "cell_type": "code",
   "execution_count": 197,
   "id": "4912105a",
   "metadata": {},
   "outputs": [],
   "source": [
    "def product(fracs):\n",
    "    t = reduce(lambda x, y : x * y, fracs)\n",
    "    return t.numerator, t.denominator"
   ]
  },
  {
   "cell_type": "code",
   "execution_count": 198,
   "id": "d46ae5cc",
   "metadata": {},
   "outputs": [
    {
     "name": "stdout",
     "output_type": "stream",
     "text": [
      "3\n",
      "1 2\n",
      "3 4\n",
      "10 6\n",
      "5 8\n"
     ]
    }
   ],
   "source": [
    "if __name__ == '__main__':\n",
    "    fracs = []\n",
    "    for _ in range(int(input())):\n",
    "        fracs.append(Fraction(*map(int, input().split())))\n",
    "    result = product(fracs)\n",
    "    print(*result)"
   ]
  },
  {
   "cell_type": "markdown",
   "id": "04c3d665",
   "metadata": {},
   "source": [
    "### XML 1 - Find the Score"
   ]
  },
  {
   "cell_type": "code",
   "execution_count": 199,
   "id": "3dd9b225",
   "metadata": {},
   "outputs": [],
   "source": [
    "import xml.etree.ElementTree as etree"
   ]
  },
  {
   "cell_type": "code",
   "execution_count": 225,
   "id": "b8b82137",
   "metadata": {},
   "outputs": [
    {
     "name": "stdout",
     "output_type": "stream",
     "text": [
      "6\n",
      "<feed xml:lang='en'>\n",
      "<title>HackerRank</title>\n",
      "<subtitle lang='en'>Programming challenges</subtitle>\n",
      "<link rel='alternate' type='text/html' href='http://hackerrank.com/'/>\n",
      "<updated>2013-12-25T12:00:00</updated>\n",
      "</feed>\n"
     ]
    }
   ],
   "source": [
    "xml = []\n",
    "for _ in range(int(input())):\n",
    "    xml.append(input())\n",
    "    \n",
    "xml = ''.join(xml)"
   ]
  },
  {
   "cell_type": "code",
   "execution_count": 232,
   "id": "0883a0f8",
   "metadata": {},
   "outputs": [],
   "source": [
    "tree = etree.ElementTree(etree.fromstring(xml))"
   ]
  },
  {
   "cell_type": "code",
   "execution_count": 233,
   "id": "c690c40c",
   "metadata": {},
   "outputs": [],
   "source": [
    "root = tree.getroot()"
   ]
  },
  {
   "cell_type": "code",
   "execution_count": 236,
   "id": "4d19dcc9",
   "metadata": {},
   "outputs": [
    {
     "data": {
      "text/plain": [
       "5"
      ]
     },
     "execution_count": 236,
     "metadata": {},
     "output_type": "execute_result"
    }
   ],
   "source": [
    "len(root)"
   ]
  },
  {
   "cell_type": "code",
   "execution_count": 240,
   "id": "2f4933aa",
   "metadata": {},
   "outputs": [],
   "source": [
    "def get_attr_number(node):\n",
    "    score = len(node.attrib)\n",
    "\n",
    "    for r in node:\n",
    "        print(r.tag)\n",
    "        score += get_attr_number(r)\n",
    "\n",
    "    return score"
   ]
  },
  {
   "cell_type": "code",
   "execution_count": 241,
   "id": "a394a539",
   "metadata": {},
   "outputs": [
    {
     "name": "stdout",
     "output_type": "stream",
     "text": [
      "title\n",
      "subtitle\n",
      "link\n",
      "updated\n",
      "entry\n",
      "author\n",
      "question\n",
      "description\n"
     ]
    },
    {
     "data": {
      "text/plain": [
       "8"
      ]
     },
     "execution_count": 241,
     "metadata": {},
     "output_type": "execute_result"
    }
   ],
   "source": [
    "get_attr_number(root)"
   ]
  },
  {
   "cell_type": "code",
   "execution_count": 242,
   "id": "f6e31f27",
   "metadata": {},
   "outputs": [],
   "source": [
    "# Another approach\n",
    "\n",
    "def get_attr_number(node):\n",
    "    return len(node.attrib) + sum(get_attr_number(child) for child in node)"
   ]
  },
  {
   "cell_type": "markdown",
   "id": "6cc23e84",
   "metadata": {},
   "source": [
    "### XML2 - Find the Maximum Depth"
   ]
  },
  {
   "cell_type": "code",
   "execution_count": 243,
   "id": "03168d0f",
   "metadata": {},
   "outputs": [],
   "source": [
    "import xml.etree.ElementTree as etree"
   ]
  },
  {
   "cell_type": "code",
   "execution_count": 254,
   "id": "4708d1be",
   "metadata": {},
   "outputs": [
    {
     "name": "stdout",
     "output_type": "stream",
     "text": [
      "6\n",
      "<feed xml:lang='en'>\n",
      "<title>HackerRank</title>\n",
      "<subtitle lang='en'>Programming challenges</subtitle>\n",
      "<link rel='alternate' type='text/html' href='http://hackerrank.com/'/>\n",
      "<updated>2013-12-25T12:00:00</updated>\n",
      "</feed>\n"
     ]
    }
   ],
   "source": [
    "xml = []\n",
    "for _ in range(int(input())):\n",
    "    xml.append(input())\n",
    "    \n",
    "xml = ''.join(xml)"
   ]
  },
  {
   "cell_type": "code",
   "execution_count": 255,
   "id": "fd215075",
   "metadata": {},
   "outputs": [],
   "source": [
    "maxdepth = 0\n",
    "def depth(elem, level):\n",
    "    global maxdepth\n",
    "    if (level == maxdepth):\n",
    "        maxdepth += 1\n",
    "        \n",
    "    for child in elem:\n",
    "        depth(child, level + 1)"
   ]
  },
  {
   "cell_type": "code",
   "execution_count": 256,
   "id": "20afc9f3",
   "metadata": {},
   "outputs": [
    {
     "name": "stdout",
     "output_type": "stream",
     "text": [
      "1\n"
     ]
    }
   ],
   "source": [
    "tree = etree.ElementTree(etree.fromstring(xml))\n",
    "depth(tree.getroot(), -1)\n",
    "print(maxdepth)"
   ]
  },
  {
   "cell_type": "markdown",
   "id": "70a0bf3f",
   "metadata": {},
   "source": [
    "### Standardize Mobile Number Using Decorators"
   ]
  },
  {
   "cell_type": "code",
   "execution_count": 325,
   "id": "875851ce",
   "metadata": {},
   "outputs": [],
   "source": [
    "def wrapper(f):\n",
    "    def fun(l):\n",
    "        f(['+91 '+x[-10:-5]+' '+x[-5:] for x in l])\n",
    "    return fun"
   ]
  },
  {
   "cell_type": "code",
   "execution_count": 326,
   "id": "eaa89d8e",
   "metadata": {},
   "outputs": [],
   "source": [
    "@wrapper\n",
    "def sort_phone(l):\n",
    "    print(*sorted(l), sep='\\n')"
   ]
  },
  {
   "cell_type": "code",
   "execution_count": 323,
   "id": "db69611e",
   "metadata": {},
   "outputs": [
    {
     "name": "stdout",
     "output_type": "stream",
     "text": [
      "3\n",
      "09191919191\n",
      "9100256236\n",
      "+919593621456\n"
     ]
    },
    {
     "data": {
      "text/plain": [
       "['09191919191', '9100256236', '+919593621456']"
      ]
     },
     "execution_count": 323,
     "metadata": {},
     "output_type": "execute_result"
    }
   ],
   "source": [
    "l = [input() for _ in range(int(input()))]\n",
    "print(l)"
   ]
  },
  {
   "cell_type": "code",
   "execution_count": 327,
   "id": "cbba00b3",
   "metadata": {},
   "outputs": [
    {
     "name": "stdout",
     "output_type": "stream",
     "text": [
      "+91 91002 56236\n",
      "+91 91919 19191\n",
      "+91 95936 21456\n"
     ]
    }
   ],
   "source": [
    "sort_phone(l)"
   ]
  },
  {
   "cell_type": "markdown",
   "id": "d04d09e5",
   "metadata": {},
   "source": [
    "### Decorators 2 - Name Directory"
   ]
  },
  {
   "cell_type": "code",
   "execution_count": 339,
   "id": "c9c98e6a",
   "metadata": {},
   "outputs": [],
   "source": [
    "import operator"
   ]
  },
  {
   "cell_type": "code",
   "execution_count": 368,
   "id": "e96571cf",
   "metadata": {},
   "outputs": [],
   "source": [
    "def person_lister(f):\n",
    "    def inner(people):\n",
    "        return map(f, sorted(people, key=lambda x: int(x[2])))\n",
    "    return inner"
   ]
  },
  {
   "cell_type": "code",
   "execution_count": 369,
   "id": "21f0d59a",
   "metadata": {},
   "outputs": [],
   "source": [
    "@person_lister\n",
    "def name_format(person):\n",
    "    return (\"Mr. \" if person[3] == \"M\" else \"Ms. \") + person[0] + \" \" + person[1]"
   ]
  },
  {
   "cell_type": "code",
   "execution_count": 336,
   "id": "9f906f1f",
   "metadata": {},
   "outputs": [
    {
     "name": "stdout",
     "output_type": "stream",
     "text": [
      "3\n",
      "Mike Thomson 20 M\n",
      "Robert Bustle 32 M\n",
      "Andria Bustle 30 F\n"
     ]
    }
   ],
   "source": [
    "people = [input().split() for i in range(int(input()))]"
   ]
  },
  {
   "cell_type": "code",
   "execution_count": 370,
   "id": "9092b65c",
   "metadata": {},
   "outputs": [
    {
     "name": "stdout",
     "output_type": "stream",
     "text": [
      "Mr. Mike Thomson\n",
      "Ms. Andria Bustle\n",
      "Mr. Robert Bustle\n"
     ]
    }
   ],
   "source": [
    "print(*name_format(people), sep='\\n')"
   ]
  },
  {
   "cell_type": "markdown",
   "id": "0a21f636",
   "metadata": {},
   "source": [
    "### Words Score"
   ]
  },
  {
   "cell_type": "code",
   "execution_count": 371,
   "id": "ff676ea1",
   "metadata": {},
   "outputs": [],
   "source": [
    "import re"
   ]
  },
  {
   "cell_type": "code",
   "execution_count": 376,
   "id": "d3c39473",
   "metadata": {},
   "outputs": [
    {
     "name": "stdout",
     "output_type": "stream",
     "text": [
      "3\n",
      "programming is awesome\n"
     ]
    }
   ],
   "source": [
    "words = []\n",
    "n = int(input())\n",
    "words = input().split(' ')"
   ]
  },
  {
   "cell_type": "code",
   "execution_count": 381,
   "id": "4e186160",
   "metadata": {},
   "outputs": [],
   "source": [
    "def score_words(words):\n",
    "    vowels = 'aeiouy'\n",
    "    count = 0\n",
    "    for word in words:\n",
    "        vowel_list = re.findall(f'[{vowels}]', word, re.I)\n",
    "        if len(vowel_list)%2 == 0:\n",
    "            count += 2\n",
    "        else:\n",
    "            count += 1\n",
    "    return count"
   ]
  },
  {
   "cell_type": "code",
   "execution_count": 383,
   "id": "8303e1d6",
   "metadata": {},
   "outputs": [
    {
     "name": "stdout",
     "output_type": "stream",
     "text": [
      "4\n"
     ]
    }
   ],
   "source": [
    "print(score_words(words))"
   ]
  },
  {
   "cell_type": "markdown",
   "id": "86ca68bf",
   "metadata": {},
   "source": [
    "### Arrays"
   ]
  },
  {
   "cell_type": "code",
   "execution_count": 384,
   "id": "d45f2519",
   "metadata": {},
   "outputs": [],
   "source": [
    "import numpy"
   ]
  },
  {
   "cell_type": "code",
   "execution_count": 395,
   "id": "f53d39f3",
   "metadata": {},
   "outputs": [],
   "source": [
    "def arrays(arr):\n",
    "    return numpy.array(arr[::-1], float)"
   ]
  },
  {
   "cell_type": "code",
   "execution_count": 396,
   "id": "cd52ba30",
   "metadata": {},
   "outputs": [
    {
     "name": "stdout",
     "output_type": "stream",
     "text": [
      "1 2 3 4 -8 -10\n"
     ]
    }
   ],
   "source": [
    "arr = input().strip().split(' ')"
   ]
  },
  {
   "cell_type": "code",
   "execution_count": 398,
   "id": "acecf2dd",
   "metadata": {},
   "outputs": [
    {
     "name": "stdout",
     "output_type": "stream",
     "text": [
      "[-10.  -8.   4.   3.   2.   1.]\n"
     ]
    }
   ],
   "source": [
    "result = arrays(arr)\n",
    "print(result)"
   ]
  },
  {
   "cell_type": "markdown",
   "id": "ba6b851c",
   "metadata": {},
   "source": [
    "### Shape and Reshape"
   ]
  },
  {
   "cell_type": "code",
   "execution_count": 399,
   "id": "7b2f3f16",
   "metadata": {},
   "outputs": [],
   "source": [
    "import numpy"
   ]
  },
  {
   "cell_type": "code",
   "execution_count": 400,
   "id": "734ca79c",
   "metadata": {},
   "outputs": [
    {
     "name": "stdout",
     "output_type": "stream",
     "text": [
      "1 2 3 4 5 6 7 8 9\n"
     ]
    }
   ],
   "source": [
    "array = list(map(int, input().split(' ')))"
   ]
  },
  {
   "cell_type": "code",
   "execution_count": 401,
   "id": "617d4bcf",
   "metadata": {},
   "outputs": [
    {
     "name": "stdout",
     "output_type": "stream",
     "text": [
      "[[1 2 3]\n",
      " [4 5 6]\n",
      " [7 8 9]]\n"
     ]
    }
   ],
   "source": [
    "print(numpy.reshape(array, (3,3)))"
   ]
  },
  {
   "cell_type": "markdown",
   "id": "58db97fc",
   "metadata": {},
   "source": [
    "### Transpose and Flatten"
   ]
  },
  {
   "cell_type": "code",
   "execution_count": 402,
   "id": "2c68e4e3",
   "metadata": {},
   "outputs": [],
   "source": [
    "import numpy"
   ]
  },
  {
   "cell_type": "code",
   "execution_count": 413,
   "id": "8f8987cd",
   "metadata": {},
   "outputs": [
    {
     "name": "stdout",
     "output_type": "stream",
     "text": [
      "2 2\n",
      "1 2\n",
      "3 4\n"
     ]
    }
   ],
   "source": [
    "N, M = map(int, input().split())\n",
    "array = numpy.array([input().strip().split() for _ in range(N)], int)"
   ]
  },
  {
   "cell_type": "code",
   "execution_count": 414,
   "id": "321fc0b8",
   "metadata": {},
   "outputs": [
    {
     "name": "stdout",
     "output_type": "stream",
     "text": [
      "[[1 3]\n",
      " [2 4]]\n",
      "[1 2 3 4]\n"
     ]
    }
   ],
   "source": [
    "print(array.transpose())\n",
    "print(array.flatten())"
   ]
  },
  {
   "cell_type": "markdown",
   "id": "aa799598",
   "metadata": {},
   "source": [
    "### Concatenate"
   ]
  },
  {
   "cell_type": "code",
   "execution_count": 415,
   "id": "7afdb84e",
   "metadata": {},
   "outputs": [],
   "source": [
    "import numpy"
   ]
  },
  {
   "cell_type": "code",
   "execution_count": 416,
   "id": "d240e0a5",
   "metadata": {},
   "outputs": [
    {
     "name": "stdout",
     "output_type": "stream",
     "text": [
      "4 3 2\n",
      "1 2\n",
      "1 2\n",
      "1 2\n",
      "1 2\n",
      "3 4\n",
      "3 4\n",
      "3 4\n",
      "3 4\n"
     ]
    }
   ],
   "source": [
    "N, M, P = map(int, input().split())\n",
    "array1 = numpy.array([input().strip().split() for _ in range(N)], int)\n",
    "array2 = numpy.array([input().strip().split() for _ in range(M)], int)"
   ]
  },
  {
   "cell_type": "code",
   "execution_count": 419,
   "id": "46dac94e",
   "metadata": {},
   "outputs": [
    {
     "name": "stdout",
     "output_type": "stream",
     "text": [
      "[[1 2]\n",
      " [1 2]\n",
      " [1 2]\n",
      " [1 2]\n",
      " [3 4]\n",
      " [3 4]\n",
      " [3 4]\n",
      " [3 4]]\n"
     ]
    }
   ],
   "source": [
    "print(numpy.concatenate((array1, array2), axis = 0))"
   ]
  },
  {
   "cell_type": "markdown",
   "id": "067e3911",
   "metadata": {},
   "source": [
    "### Zeros and Ones"
   ]
  },
  {
   "cell_type": "code",
   "execution_count": 420,
   "id": "63ea02b9",
   "metadata": {},
   "outputs": [],
   "source": [
    "import numpy"
   ]
  },
  {
   "cell_type": "code",
   "execution_count": 421,
   "id": "1e9e0b00",
   "metadata": {},
   "outputs": [
    {
     "name": "stdout",
     "output_type": "stream",
     "text": [
      "3 3 3\n"
     ]
    }
   ],
   "source": [
    "dimensions = tuple(map(int, input().split()))"
   ]
  },
  {
   "cell_type": "code",
   "execution_count": 425,
   "id": "5e12df17",
   "metadata": {},
   "outputs": [
    {
     "name": "stdout",
     "output_type": "stream",
     "text": [
      "[[[0 0 0]\n",
      "  [0 0 0]\n",
      "  [0 0 0]]\n",
      "\n",
      " [[0 0 0]\n",
      "  [0 0 0]\n",
      "  [0 0 0]]\n",
      "\n",
      " [[0 0 0]\n",
      "  [0 0 0]\n",
      "  [0 0 0]]]\n",
      "[[[1 1 1]\n",
      "  [1 1 1]\n",
      "  [1 1 1]]\n",
      "\n",
      " [[1 1 1]\n",
      "  [1 1 1]\n",
      "  [1 1 1]]\n",
      "\n",
      " [[1 1 1]\n",
      "  [1 1 1]\n",
      "  [1 1 1]]]\n"
     ]
    }
   ],
   "source": [
    "print(numpy.zeros(dimensions, dtype = numpy.int64))\n",
    "print(numpy.ones(dimensions, dtype = numpy.int64))"
   ]
  },
  {
   "cell_type": "markdown",
   "id": "f35f9b21",
   "metadata": {},
   "source": [
    "### Eye and Identity"
   ]
  },
  {
   "cell_type": "code",
   "execution_count": 427,
   "id": "ef532c73",
   "metadata": {},
   "outputs": [],
   "source": [
    "import numpy\n",
    "numpy.set_printoptions(legacy='1.13')"
   ]
  },
  {
   "cell_type": "code",
   "execution_count": 428,
   "id": "a343ebe6",
   "metadata": {},
   "outputs": [
    {
     "name": "stdout",
     "output_type": "stream",
     "text": [
      "3 3\n"
     ]
    }
   ],
   "source": [
    "N, M = map(int, input().split())"
   ]
  },
  {
   "cell_type": "code",
   "execution_count": 429,
   "id": "ebc077c7",
   "metadata": {},
   "outputs": [
    {
     "name": "stdout",
     "output_type": "stream",
     "text": [
      "[[ 1.  0.  0.]\n",
      " [ 0.  1.  0.]\n",
      " [ 0.  0.  1.]]\n"
     ]
    }
   ],
   "source": [
    "print(numpy.eye(N, M, k = 0))"
   ]
  },
  {
   "cell_type": "markdown",
   "id": "106a771a",
   "metadata": {},
   "source": [
    "### Array Mathematics"
   ]
  },
  {
   "cell_type": "code",
   "execution_count": 430,
   "id": "b1081eaa",
   "metadata": {},
   "outputs": [],
   "source": [
    "import numpy"
   ]
  },
  {
   "cell_type": "code",
   "execution_count": 434,
   "id": "a5d584a3",
   "metadata": {},
   "outputs": [
    {
     "name": "stdout",
     "output_type": "stream",
     "text": [
      "1 4\n",
      "1 2 3 4\n",
      "5 6 7 8\n"
     ]
    }
   ],
   "source": [
    "N, M = map(int, input().split())\n",
    "A = numpy.array([input().strip().split() for _ in range(N)], int)\n",
    "B = numpy.array([input().strip().split() for _ in range(N)], int)"
   ]
  },
  {
   "cell_type": "code",
   "execution_count": 438,
   "id": "ba321a8c",
   "metadata": {},
   "outputs": [
    {
     "name": "stdout",
     "output_type": "stream",
     "text": [
      "[[ 6  8 10 12]]\n",
      "[[-4 -4 -4 -4]]\n",
      "[[ 5 12 21 32]]\n",
      "[[0 0 0 0]]\n",
      "[[1 2 3 4]]\n",
      "[[    1    64  2187 65536]]\n"
     ]
    }
   ],
   "source": [
    "print(A+B)\n",
    "print(A-B)\n",
    "print(A*B)\n",
    "print(A//B)\n",
    "print(A%B)\n",
    "print(A**B)"
   ]
  },
  {
   "cell_type": "markdown",
   "id": "5aec35a5",
   "metadata": {},
   "source": [
    "### Floor, Ceil and Rint"
   ]
  },
  {
   "cell_type": "code",
   "execution_count": 443,
   "id": "d7a2cebe",
   "metadata": {},
   "outputs": [],
   "source": [
    "import numpy\n",
    "numpy.set_printoptions(legacy='1.13')"
   ]
  },
  {
   "cell_type": "code",
   "execution_count": 444,
   "id": "f31c3d19",
   "metadata": {},
   "outputs": [
    {
     "name": "stdout",
     "output_type": "stream",
     "text": [
      "1.1 2.2 3.3 4.4 5.5 6.6 7.7 8.8 9.9\n"
     ]
    }
   ],
   "source": [
    "A = list(map(float, input().split()))"
   ]
  },
  {
   "cell_type": "code",
   "execution_count": 445,
   "id": "f6e8e5bd",
   "metadata": {},
   "outputs": [
    {
     "name": "stdout",
     "output_type": "stream",
     "text": [
      "[ 1.  2.  3.  4.  5.  6.  7.  8.  9.]\n",
      "[  2.   3.   4.   5.   6.   7.   8.   9.  10.]\n",
      "[  1.   2.   3.   4.   6.   7.   8.   9.  10.]\n"
     ]
    }
   ],
   "source": [
    "print(numpy.floor(A))\n",
    "print(numpy.ceil(A))\n",
    "print(numpy.rint(A))"
   ]
  },
  {
   "cell_type": "markdown",
   "id": "6f3ccbe5",
   "metadata": {},
   "source": [
    "### Sum and Prod"
   ]
  },
  {
   "cell_type": "code",
   "execution_count": 446,
   "id": "94d69b51",
   "metadata": {},
   "outputs": [],
   "source": [
    "import numpy"
   ]
  },
  {
   "cell_type": "code",
   "execution_count": 447,
   "id": "0551b828",
   "metadata": {},
   "outputs": [
    {
     "name": "stdout",
     "output_type": "stream",
     "text": [
      "2 2\n",
      "1 2\n",
      "3 4\n"
     ]
    }
   ],
   "source": [
    "N, M = map(int, input().split())\n",
    "array1 = numpy.array([input().strip().split() for _ in range(N)], int)"
   ]
  },
  {
   "cell_type": "code",
   "execution_count": 449,
   "id": "2bcb6b3d",
   "metadata": {},
   "outputs": [
    {
     "name": "stdout",
     "output_type": "stream",
     "text": [
      "24\n"
     ]
    }
   ],
   "source": [
    "sum_arr = numpy.sum(array1, axis = 0)\n",
    "print(numpy.prod(sum_arr))"
   ]
  },
  {
   "cell_type": "markdown",
   "id": "b999b410",
   "metadata": {},
   "source": [
    "### Min and Max"
   ]
  },
  {
   "cell_type": "code",
   "execution_count": 450,
   "id": "cbcb669b",
   "metadata": {},
   "outputs": [],
   "source": [
    "import numpy"
   ]
  },
  {
   "cell_type": "code",
   "execution_count": 451,
   "id": "1b1d25ce",
   "metadata": {},
   "outputs": [
    {
     "name": "stdout",
     "output_type": "stream",
     "text": [
      "4 2\n",
      "2 5\n",
      "3 7\n",
      "1 3\n",
      "4 0\n"
     ]
    }
   ],
   "source": [
    "N, M = map(int, input().split())\n",
    "array1 = numpy.array([input().strip().split() for _ in range(N)], int)"
   ]
  },
  {
   "cell_type": "code",
   "execution_count": 453,
   "id": "340ea233",
   "metadata": {},
   "outputs": [
    {
     "name": "stdout",
     "output_type": "stream",
     "text": [
      "3\n"
     ]
    }
   ],
   "source": [
    "min_arr = numpy.min(array1, axis = 1)\n",
    "print(numpy.max(min_arr))"
   ]
  },
  {
   "cell_type": "code",
   "execution_count": null,
   "id": "4130d5c2",
   "metadata": {},
   "outputs": [],
   "source": []
  }
 ],
 "metadata": {
  "kernelspec": {
   "display_name": "Python 3 (ipykernel)",
   "language": "python",
   "name": "python3"
  },
  "language_info": {
   "codemirror_mode": {
    "name": "ipython",
    "version": 3
   },
   "file_extension": ".py",
   "mimetype": "text/x-python",
   "name": "python",
   "nbconvert_exporter": "python",
   "pygments_lexer": "ipython3",
   "version": "3.8.16"
  }
 },
 "nbformat": 4,
 "nbformat_minor": 5
}
