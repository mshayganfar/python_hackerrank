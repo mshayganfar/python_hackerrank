{
 "cells": [
  {
   "cell_type": "markdown",
   "id": "d7772d85",
   "metadata": {},
   "source": [
    "### HTML Parser - Part 1"
   ]
  },
  {
   "cell_type": "code",
   "execution_count": 6,
   "id": "762e3322",
   "metadata": {},
   "outputs": [],
   "source": [
    "from html.parser import HTMLParser"
   ]
  },
  {
   "cell_type": "code",
   "execution_count": 7,
   "id": "51b64e10",
   "metadata": {},
   "outputs": [],
   "source": [
    "# create a subclass and override the handler methods\n",
    "class MyHTMLParser(HTMLParser):\n",
    "    def handle_starttag(self, tag, attrs):        \n",
    "        print ('Start :', tag)\n",
    "        for ele in attrs:\n",
    "            print ('->', ele[0], '>', ele[1])\n",
    "            \n",
    "    def handle_endtag(self, tag):\n",
    "        print ('End   :', tag)\n",
    "        \n",
    "    def handle_startendtag(self, tag, attrs):\n",
    "        print ('Empty :', tag)\n",
    "        for ele in attrs:\n",
    "            print ('->', ele[0], '>', ele[1])"
   ]
  },
  {
   "cell_type": "code",
   "execution_count": 10,
   "id": "237d239d",
   "metadata": {},
   "outputs": [
    {
     "name": "stdout",
     "output_type": "stream",
     "text": [
      "2\n",
      "<html><head><title>HTML Parser - I</title></head>\n",
      "<body data-modal-target class='1'><h1>HackerRank</h1><br /></body></html>\n",
      "Start : html\n",
      "Start : head\n",
      "Start : title\n",
      "End   : title\n",
      "End   : head\n",
      "Start : body\n",
      "-> data-modal-target > None\n",
      "-> class > 1\n",
      "Start : h1\n",
      "End   : h1\n",
      "Empty : br\n",
      "End   : body\n",
      "End   : html\n"
     ]
    }
   ],
   "source": [
    "# instantiate the parser and fed it some HTML\n",
    "parser = MyHTMLParser()\n",
    "parser.feed(''.join([input().strip() for _ in range(int(input()))]))\n",
    "parser.close()"
   ]
  },
  {
   "cell_type": "markdown",
   "id": "c0d9749f",
   "metadata": {},
   "source": [
    "### HTML Parser - Part 2"
   ]
  },
  {
   "cell_type": "code",
   "execution_count": 1,
   "id": "d981af05",
   "metadata": {},
   "outputs": [],
   "source": [
    "from html.parser import HTMLParser"
   ]
  },
  {
   "cell_type": "code",
   "execution_count": 3,
   "id": "c5c763a9",
   "metadata": {},
   "outputs": [],
   "source": [
    "class MyHTMLParser(HTMLParser):\n",
    "    def handle_comment(self,data):\n",
    "        if('\\n' in data):\n",
    "            print(\">>> Multi-line Comment\")\n",
    "        else:\n",
    "            print(\">>> Single-line Comment\")\n",
    "        print(data)\n",
    "    def handle_data(self,data):\n",
    "        if(data != '\\n'):\n",
    "            print(\">>> Data\")\n",
    "            print(data)"
   ]
  },
  {
   "cell_type": "code",
   "execution_count": 4,
   "id": "a2c7cd6c",
   "metadata": {},
   "outputs": [
    {
     "name": "stdout",
     "output_type": "stream",
     "text": [
      "4\n",
      "<!--[if IE 9]>IE9-specific content\n",
      "<![endif]-->\n",
      "<div> Welcome to HackerRank</div>\n",
      "<!--[if IE 9]>IE9-specific content<![endif]-->\n"
     ]
    }
   ],
   "source": [
    "html = \"\"\n",
    "for i in range(int(input())):\n",
    "    html += input().rstrip()\n",
    "    html += '\\n'"
   ]
  },
  {
   "cell_type": "code",
   "execution_count": 5,
   "id": "58e40793",
   "metadata": {},
   "outputs": [
    {
     "name": "stdout",
     "output_type": "stream",
     "text": [
      ">>> Multi-line Comment\n",
      "[if IE 9]>IE9-specific content\n",
      "<![endif]\n",
      ">>> Data\n",
      " Welcome to HackerRank\n",
      ">>> Single-line Comment\n",
      "[if IE 9]>IE9-specific content<![endif]\n"
     ]
    }
   ],
   "source": [
    "parser = MyHTMLParser()\n",
    "parser.feed(html)\n",
    "parser.close()"
   ]
  },
  {
   "cell_type": "markdown",
   "id": "97b4c7b2",
   "metadata": {},
   "source": [
    "### Detect HTML Tags, Attributes and Attribute Values"
   ]
  },
  {
   "cell_type": "code",
   "execution_count": 9,
   "id": "383afe4d",
   "metadata": {},
   "outputs": [],
   "source": [
    "from html.parser import HTMLParser"
   ]
  },
  {
   "cell_type": "code",
   "execution_count": 12,
   "id": "96efd6bc",
   "metadata": {},
   "outputs": [],
   "source": [
    "# create a subclass and override the handler methods\n",
    "class MyHTMLParser(HTMLParser):\n",
    "    def handle_starttag(self, tag, attrs):        \n",
    "        print (tag)\n",
    "        for ele in attrs:\n",
    "            print ('->', ele[0], '>', ele[1])\n",
    "\n",
    "    def handle_startendtag(self, tag, attrs):\n",
    "        print (tag)\n",
    "        for ele in attrs:\n",
    "            print ('->', ele[0], '>', ele[1])"
   ]
  },
  {
   "cell_type": "code",
   "execution_count": 13,
   "id": "b722b89e",
   "metadata": {},
   "outputs": [
    {
     "name": "stdout",
     "output_type": "stream",
     "text": [
      "head\n",
      "title\n",
      "object\n",
      "-> type > application/x-flash\n",
      "-> data > your-file.swf\n",
      "-> width > 0\n",
      "-> height > 0\n",
      "param\n",
      "-> name > quality\n",
      "-> value > high\n"
     ]
    }
   ],
   "source": [
    "# instantiate the parser and fed it some HTML\n",
    "parser = MyHTMLParser()\n",
    "parser.feed(''.join([input().strip() for _ in range(int(input()))]))\n",
    "parser.close()"
   ]
  },
  {
   "cell_type": "markdown",
   "id": "86a0db36",
   "metadata": {},
   "source": [
    "### Validating UID"
   ]
  },
  {
   "cell_type": "code",
   "execution_count": 14,
   "id": "64ae982d",
   "metadata": {},
   "outputs": [],
   "source": [
    "import re"
   ]
  },
  {
   "cell_type": "code",
   "execution_count": 19,
   "id": "10adc79b",
   "metadata": {},
   "outputs": [],
   "source": [
    "regex_uid = r\"^(?=(?:[a-z\\d]*[A-Z]){2})(?=(?:\\D*\\d){3})(?:([a-zA-Z\\d])(?!.*\\1)){10}$\""
   ]
  },
  {
   "cell_type": "code",
   "execution_count": 20,
   "id": "7d50985c",
   "metadata": {},
   "outputs": [
    {
     "name": "stdout",
     "output_type": "stream",
     "text": [
      "2\n",
      "B1CD102354\n",
      "B1CDEF2354\n"
     ]
    }
   ],
   "source": [
    "emp_uid = []\n",
    "for _ in range(int(input())):\n",
    "    emp_uid.append(input().strip())"
   ]
  },
  {
   "cell_type": "code",
   "execution_count": 21,
   "id": "37e144bd",
   "metadata": {},
   "outputs": [
    {
     "name": "stdout",
     "output_type": "stream",
     "text": [
      "Invalid\n",
      "Valid\n"
     ]
    }
   ],
   "source": [
    "for uid in emp_uid:\n",
    "    if re.match(regex_uid, uid):\n",
    "        print('Valid')\n",
    "    else:\n",
    "        print('Invalid')"
   ]
  },
  {
   "cell_type": "markdown",
   "id": "76816360",
   "metadata": {},
   "source": [
    "### Validating Credit Card Numbers"
   ]
  },
  {
   "cell_type": "code",
   "execution_count": 22,
   "id": "529086c0",
   "metadata": {},
   "outputs": [],
   "source": [
    "import re"
   ]
  },
  {
   "cell_type": "code",
   "execution_count": 28,
   "id": "a0b76e55",
   "metadata": {},
   "outputs": [],
   "source": [
    "pattern = re.compile(\n",
    "    r'^'\n",
    "    r'(?!.*(\\d)(-?\\1){3})'\n",
    "    r'[456]\\d{3}'\n",
    "    r'(?:-?\\d{4}){3}'\n",
    "    r'$')"
   ]
  },
  {
   "cell_type": "code",
   "execution_count": 25,
   "id": "ef745f06",
   "metadata": {},
   "outputs": [
    {
     "name": "stdout",
     "output_type": "stream",
     "text": [
      "6\n",
      "4123456789123456\n",
      "5123-4567-8912-3456\n",
      "61234-567-8912-3456\n",
      "4123356789123456\n",
      "5133-3367-8912-3456\n",
      "5123 - 3567 - 8912 - 3456\n"
     ]
    }
   ],
   "source": [
    "credit_cards = []\n",
    "for _ in range(int(input())):\n",
    "    credit_cards.append(input().strip())"
   ]
  },
  {
   "cell_type": "code",
   "execution_count": 29,
   "id": "90708c8a",
   "metadata": {},
   "outputs": [
    {
     "name": "stdout",
     "output_type": "stream",
     "text": [
      "Valid\n",
      "Valid\n",
      "Invalid\n",
      "Valid\n",
      "Invalid\n",
      "Invalid\n"
     ]
    }
   ],
   "source": [
    "for card_number in credit_cards:\n",
    "    print('Valid' if pattern.search(card_number) else 'Invalid')"
   ]
  },
  {
   "cell_type": "markdown",
   "id": "7b3f0d9d",
   "metadata": {},
   "source": [
    "### Validating Postal Codes"
   ]
  },
  {
   "cell_type": "code",
   "execution_count": 31,
   "id": "9ea8aa40",
   "metadata": {},
   "outputs": [],
   "source": [
    "import re"
   ]
  },
  {
   "cell_type": "code",
   "execution_count": 32,
   "id": "4a02b03f",
   "metadata": {},
   "outputs": [
    {
     "name": "stdout",
     "output_type": "stream",
     "text": [
      "110000\n"
     ]
    }
   ],
   "source": [
    "P = input()"
   ]
  },
  {
   "cell_type": "code",
   "execution_count": 50,
   "id": "33c1ac0b",
   "metadata": {},
   "outputs": [],
   "source": [
    "regex_integer_in_range = r\"^([1-9][0-9]{5})$\"   # Do not delete 'r'.\n",
    "regex_alternating_repetitive_digit_pair = r\"(?=(\\d)\\d\\1)\"   # Do not delete 'r'."
   ]
  },
  {
   "cell_type": "code",
   "execution_count": 52,
   "id": "19fcc8a8",
   "metadata": {},
   "outputs": [
    {
     "name": "stdout",
     "output_type": "stream",
     "text": [
      "False\n"
     ]
    }
   ],
   "source": [
    "if bool(re.match(regex_integer_in_range, P)) and (len(re.findall(regex_alternating_repetitive_digit_pair, P)) < 2):\n",
    "    print(True)\n",
    "else:\n",
    "    print(False)"
   ]
  },
  {
   "cell_type": "code",
   "execution_count": 58,
   "id": "96658ac7",
   "metadata": {},
   "outputs": [
    {
     "data": {
      "text/plain": [
       "<re.Match object; span=(1, 1), match=''>"
      ]
     },
     "execution_count": 58,
     "metadata": {},
     "output_type": "execute_result"
    }
   ],
   "source": [
    "S=\"25351\"\n",
    "re.search(regex_alternating_repetitive_digit_pair, S)"
   ]
  },
  {
   "cell_type": "markdown",
   "id": "e089df48",
   "metadata": {},
   "source": [
    "### Matrix Script"
   ]
  },
  {
   "cell_type": "code",
   "execution_count": null,
   "id": "dfb0735f",
   "metadata": {},
   "outputs": [],
   "source": [
    "import re"
   ]
  },
  {
   "cell_type": "code",
   "execution_count": 84,
   "id": "f65276f2",
   "metadata": {},
   "outputs": [
    {
     "name": "stdout",
     "output_type": "stream",
     "text": [
      "7 3\n"
     ]
    }
   ],
   "source": [
    "n, m = input().split(' ')"
   ]
  },
  {
   "cell_type": "code",
   "execution_count": 93,
   "id": "cbafe099",
   "metadata": {},
   "outputs": [
    {
     "name": "stdout",
     "output_type": "stream",
     "text": [
      "Tsi\n",
      "h%x\n",
      "i #\n",
      "sM \n",
      "$a \n",
      "#t%\n",
      "ir!\n"
     ]
    }
   ],
   "source": [
    "lines = []\n",
    "for _ in range(int(n)):\n",
    "    lines.append([c for c in input()])"
   ]
  },
  {
   "cell_type": "code",
   "execution_count": 97,
   "id": "68d137a8",
   "metadata": {},
   "outputs": [
    {
     "data": {
      "text/plain": [
       "[['T', 's', 'i'],\n",
       " ['h', '%', 'x'],\n",
       " ['i', ' ', '#'],\n",
       " ['s', 'M', ' '],\n",
       " ['$', 'a', ' '],\n",
       " ['#', 't', '%'],\n",
       " ['i', 'r', '!']]"
      ]
     },
     "execution_count": 97,
     "metadata": {},
     "output_type": "execute_result"
    }
   ],
   "source": [
    "lines"
   ]
  },
  {
   "cell_type": "code",
   "execution_count": 94,
   "id": "11dc91e8",
   "metadata": {},
   "outputs": [
    {
     "name": "stdout",
     "output_type": "stream",
     "text": [
      "This is Matrix \n"
     ]
    }
   ],
   "source": [
    "messasge = \"\"\n",
    "for x in zip(*lines):\n",
    "    column = ''.join(x)\n",
    "    messasge += re.sub(r\"[!@#$%&]\", \" \", column)\n",
    "\n",
    "print(re.sub(r\"\\s{2,}\", \" \", messasge))"
   ]
  },
  {
   "cell_type": "code",
   "execution_count": null,
   "id": "6d6b3e7d",
   "metadata": {},
   "outputs": [],
   "source": [
    "# Another approach\n",
    "#!/bin/python3\n",
    "\n",
    "import math\n",
    "import os\n",
    "import random\n",
    "import re\n",
    "import sys\n",
    "\n",
    "first_multiple_input = input().rstrip().split()\n",
    "\n",
    "n = int(first_multiple_input[0])\n",
    "\n",
    "m = int(first_multiple_input[1])\n",
    "\n",
    "matrix = []\n",
    "\n",
    "for _ in range(n):\n",
    "    matrix_item = input()\n",
    "    matrix.append(matrix_item)\n",
    "\n",
    "lines = []\n",
    "for _ in range(int(n)):\n",
    "    lines.append([c for c in matrix])\n",
    "\n",
    "matrix = list(zip(*matrix))\n",
    "sample = str()\n",
    "    \n",
    "for words in matrix:\n",
    "    for char in words:\n",
    "        sample += char\n",
    "           \n",
    "print(re.sub(r'(?<=\\w)([^\\w\\d]+)(?=\\w)', ' ', sample))"
   ]
  },
  {
   "cell_type": "markdown",
   "id": "b22a9f01",
   "metadata": {},
   "source": [
    "### Map and Lambda Function"
   ]
  },
  {
   "cell_type": "code",
   "execution_count": 100,
   "id": "03c175c8",
   "metadata": {},
   "outputs": [],
   "source": [
    "cube = lambda x: x**3"
   ]
  },
  {
   "cell_type": "code",
   "execution_count": 109,
   "id": "c909c38a",
   "metadata": {},
   "outputs": [],
   "source": [
    "def fibonacci(n):\n",
    "    fib_list = [0,1]\n",
    "    \n",
    "    for i in range(2,n):\n",
    "        fib_list.append(fib_list[i-2] + fib_list[i-1])\n",
    "        \n",
    "    return(fib_list[:n])"
   ]
  },
  {
   "cell_type": "code",
   "execution_count": 110,
   "id": "96485ad3",
   "metadata": {},
   "outputs": [
    {
     "name": "stdout",
     "output_type": "stream",
     "text": [
      "[0, 1, 1, 8, 27, 125, 512, 2197, 9261, 39304, 166375, 704969, 2985984, 12649337, 53582633]\n"
     ]
    }
   ],
   "source": [
    "print(list(map(cube, fibonacci(15))))"
   ]
  },
  {
   "cell_type": "markdown",
   "id": "544050b5",
   "metadata": {},
   "source": [
    "### Validating Email Addresses With a Filter"
   ]
  },
  {
   "cell_type": "code",
   "execution_count": 129,
   "id": "d12dff29",
   "metadata": {},
   "outputs": [],
   "source": [
    "import re"
   ]
  },
  {
   "cell_type": "code",
   "execution_count": 189,
   "id": "02a23b21",
   "metadata": {},
   "outputs": [],
   "source": [
    "def fun(s):\n",
    "    email_regex = r\"^[\\w-]+@[a-zA-Z\\d]+\\.[a-zA-Z]{1,3}$\"\n",
    "    if re.match(email_regex, s):\n",
    "        return True\n",
    "    else:\n",
    "        return False"
   ]
  },
  {
   "cell_type": "code",
   "execution_count": 190,
   "id": "d50a629c",
   "metadata": {},
   "outputs": [],
   "source": [
    "def filter_mail(emails):\n",
    "    return list(filter(fun, emails))"
   ]
  },
  {
   "cell_type": "code",
   "execution_count": 191,
   "id": "965626c4",
   "metadata": {},
   "outputs": [],
   "source": [
    "emails = ['lara@hackerrank.com', 'brian-23@hackerrank.com', 'britts_54@hackerrank.com']"
   ]
  },
  {
   "cell_type": "code",
   "execution_count": 192,
   "id": "b89275f0",
   "metadata": {},
   "outputs": [
    {
     "data": {
      "text/plain": [
       "['lara@hackerrank.com', 'brian-23@hackerrank.com', 'britts_54@hackerrank.com']"
      ]
     },
     "execution_count": 192,
     "metadata": {},
     "output_type": "execute_result"
    }
   ],
   "source": [
    "filter_mail(emails)"
   ]
  },
  {
   "cell_type": "markdown",
   "id": "7f87a8be",
   "metadata": {},
   "source": [
    "### Reduce Function"
   ]
  },
  {
   "cell_type": "code",
   "execution_count": 193,
   "id": "d4d36fe7",
   "metadata": {},
   "outputs": [],
   "source": [
    "from fractions import Fraction\n",
    "from functools import reduce"
   ]
  },
  {
   "cell_type": "code",
   "execution_count": 197,
   "id": "690a1c42",
   "metadata": {},
   "outputs": [],
   "source": [
    "def product(fracs):\n",
    "    t = reduce(lambda x, y : x * y, fracs)\n",
    "    return t.numerator, t.denominator"
   ]
  },
  {
   "cell_type": "code",
   "execution_count": 198,
   "id": "8a987b47",
   "metadata": {},
   "outputs": [
    {
     "name": "stdout",
     "output_type": "stream",
     "text": [
      "3\n",
      "1 2\n",
      "3 4\n",
      "10 6\n",
      "5 8\n"
     ]
    }
   ],
   "source": [
    "if __name__ == '__main__':\n",
    "    fracs = []\n",
    "    for _ in range(int(input())):\n",
    "        fracs.append(Fraction(*map(int, input().split())))\n",
    "    result = product(fracs)\n",
    "    print(*result)"
   ]
  },
  {
   "cell_type": "markdown",
   "id": "ff3c34a2",
   "metadata": {},
   "source": [
    "### XML 1 - Find the Score"
   ]
  },
  {
   "cell_type": "code",
   "execution_count": 199,
   "id": "7c1b7752",
   "metadata": {},
   "outputs": [],
   "source": [
    "import xml.etree.ElementTree as etree"
   ]
  },
  {
   "cell_type": "code",
   "execution_count": 225,
   "id": "c796171f",
   "metadata": {},
   "outputs": [
    {
     "name": "stdout",
     "output_type": "stream",
     "text": [
      "6\n",
      "<feed xml:lang='en'>\n",
      "<title>HackerRank</title>\n",
      "<subtitle lang='en'>Programming challenges</subtitle>\n",
      "<link rel='alternate' type='text/html' href='http://hackerrank.com/'/>\n",
      "<updated>2013-12-25T12:00:00</updated>\n",
      "</feed>\n"
     ]
    }
   ],
   "source": [
    "xml = []\n",
    "for _ in range(int(input())):\n",
    "    xml.append(input())\n",
    "    \n",
    "xml = ''.join(xml)"
   ]
  },
  {
   "cell_type": "code",
   "execution_count": 232,
   "id": "fac952da",
   "metadata": {},
   "outputs": [],
   "source": [
    "tree = etree.ElementTree(etree.fromstring(xml))"
   ]
  },
  {
   "cell_type": "code",
   "execution_count": 233,
   "id": "80ed0fc3",
   "metadata": {},
   "outputs": [],
   "source": [
    "root = tree.getroot()"
   ]
  },
  {
   "cell_type": "code",
   "execution_count": 236,
   "id": "ebadf708",
   "metadata": {},
   "outputs": [
    {
     "data": {
      "text/plain": [
       "5"
      ]
     },
     "execution_count": 236,
     "metadata": {},
     "output_type": "execute_result"
    }
   ],
   "source": [
    "len(root)"
   ]
  },
  {
   "cell_type": "code",
   "execution_count": 240,
   "id": "64083610",
   "metadata": {},
   "outputs": [],
   "source": [
    "def get_attr_number(node):\n",
    "    score = len(node.attrib)\n",
    "\n",
    "    for r in node:\n",
    "        print(r.tag)\n",
    "        score += get_attr_number(r)\n",
    "\n",
    "    return score"
   ]
  },
  {
   "cell_type": "code",
   "execution_count": 241,
   "id": "db96e7bb",
   "metadata": {},
   "outputs": [
    {
     "name": "stdout",
     "output_type": "stream",
     "text": [
      "title\n",
      "subtitle\n",
      "link\n",
      "updated\n",
      "entry\n",
      "author\n",
      "question\n",
      "description\n"
     ]
    },
    {
     "data": {
      "text/plain": [
       "8"
      ]
     },
     "execution_count": 241,
     "metadata": {},
     "output_type": "execute_result"
    }
   ],
   "source": [
    "get_attr_number(root)"
   ]
  },
  {
   "cell_type": "code",
   "execution_count": 242,
   "id": "15cdfe0f",
   "metadata": {},
   "outputs": [],
   "source": [
    "# Another approach\n",
    "\n",
    "def get_attr_number(node):\n",
    "    return len(node.attrib) + sum(get_attr_number(child) for child in node)"
   ]
  },
  {
   "cell_type": "markdown",
   "id": "27894c0b",
   "metadata": {},
   "source": [
    "### XML2 - Find the Maximum Depth"
   ]
  },
  {
   "cell_type": "code",
   "execution_count": 243,
   "id": "3d042979",
   "metadata": {},
   "outputs": [],
   "source": [
    "import xml.etree.ElementTree as etree"
   ]
  },
  {
   "cell_type": "code",
   "execution_count": 254,
   "id": "0afab384",
   "metadata": {},
   "outputs": [
    {
     "name": "stdout",
     "output_type": "stream",
     "text": [
      "6\n",
      "<feed xml:lang='en'>\n",
      "<title>HackerRank</title>\n",
      "<subtitle lang='en'>Programming challenges</subtitle>\n",
      "<link rel='alternate' type='text/html' href='http://hackerrank.com/'/>\n",
      "<updated>2013-12-25T12:00:00</updated>\n",
      "</feed>\n"
     ]
    }
   ],
   "source": [
    "xml = []\n",
    "for _ in range(int(input())):\n",
    "    xml.append(input())\n",
    "    \n",
    "xml = ''.join(xml)"
   ]
  },
  {
   "cell_type": "code",
   "execution_count": 255,
   "id": "f62bacf5",
   "metadata": {},
   "outputs": [],
   "source": [
    "maxdepth = 0\n",
    "def depth(elem, level):\n",
    "    global maxdepth\n",
    "    if (level == maxdepth):\n",
    "        maxdepth += 1\n",
    "        \n",
    "    for child in elem:\n",
    "        depth(child, level + 1)"
   ]
  },
  {
   "cell_type": "code",
   "execution_count": 256,
   "id": "0325023b",
   "metadata": {},
   "outputs": [
    {
     "name": "stdout",
     "output_type": "stream",
     "text": [
      "1\n"
     ]
    }
   ],
   "source": [
    "tree = etree.ElementTree(etree.fromstring(xml))\n",
    "depth(tree.getroot(), -1)\n",
    "print(maxdepth)"
   ]
  },
  {
   "cell_type": "markdown",
   "id": "3271e8ba",
   "metadata": {},
   "source": [
    "### Standardize Mobile Number Using Decorators"
   ]
  },
  {
   "cell_type": "code",
   "execution_count": 325,
   "id": "7f1d3108",
   "metadata": {},
   "outputs": [],
   "source": [
    "def wrapper(f):\n",
    "    def fun(l):\n",
    "        f(['+91 '+x[-10:-5]+' '+x[-5:] for x in l])\n",
    "    return fun"
   ]
  },
  {
   "cell_type": "code",
   "execution_count": 326,
   "id": "d5bf7f74",
   "metadata": {},
   "outputs": [],
   "source": [
    "@wrapper\n",
    "def sort_phone(l):\n",
    "    print(*sorted(l), sep='\\n')"
   ]
  },
  {
   "cell_type": "code",
   "execution_count": 323,
   "id": "b20ad8e2",
   "metadata": {},
   "outputs": [
    {
     "name": "stdout",
     "output_type": "stream",
     "text": [
      "3\n",
      "09191919191\n",
      "9100256236\n",
      "+919593621456\n"
     ]
    },
    {
     "data": {
      "text/plain": [
       "['09191919191', '9100256236', '+919593621456']"
      ]
     },
     "execution_count": 323,
     "metadata": {},
     "output_type": "execute_result"
    }
   ],
   "source": [
    "l = [input() for _ in range(int(input()))]\n",
    "print(l)"
   ]
  },
  {
   "cell_type": "code",
   "execution_count": 327,
   "id": "4927fd6c",
   "metadata": {},
   "outputs": [
    {
     "name": "stdout",
     "output_type": "stream",
     "text": [
      "+91 91002 56236\n",
      "+91 91919 19191\n",
      "+91 95936 21456\n"
     ]
    }
   ],
   "source": [
    "sort_phone(l)"
   ]
  },
  {
   "cell_type": "markdown",
   "id": "36289799",
   "metadata": {},
   "source": [
    "### Decorators 2 - Name Directory"
   ]
  },
  {
   "cell_type": "code",
   "execution_count": 339,
   "id": "ecd4d3b7",
   "metadata": {},
   "outputs": [],
   "source": [
    "import operator"
   ]
  },
  {
   "cell_type": "code",
   "execution_count": 368,
   "id": "173eb499",
   "metadata": {},
   "outputs": [],
   "source": [
    "def person_lister(f):\n",
    "    def inner(people):\n",
    "        return map(f, sorted(people, key=lambda x: int(x[2])))\n",
    "    return inner"
   ]
  },
  {
   "cell_type": "code",
   "execution_count": 369,
   "id": "2c2e9b95",
   "metadata": {},
   "outputs": [],
   "source": [
    "@person_lister\n",
    "def name_format(person):\n",
    "    return (\"Mr. \" if person[3] == \"M\" else \"Ms. \") + person[0] + \" \" + person[1]"
   ]
  },
  {
   "cell_type": "code",
   "execution_count": 336,
   "id": "32134234",
   "metadata": {},
   "outputs": [
    {
     "name": "stdout",
     "output_type": "stream",
     "text": [
      "3\n",
      "Mike Thomson 20 M\n",
      "Robert Bustle 32 M\n",
      "Andria Bustle 30 F\n"
     ]
    }
   ],
   "source": [
    "people = [input().split() for i in range(int(input()))]"
   ]
  },
  {
   "cell_type": "code",
   "execution_count": 370,
   "id": "979a6238",
   "metadata": {},
   "outputs": [
    {
     "name": "stdout",
     "output_type": "stream",
     "text": [
      "Mr. Mike Thomson\n",
      "Ms. Andria Bustle\n",
      "Mr. Robert Bustle\n"
     ]
    }
   ],
   "source": [
    "print(*name_format(people), sep='\\n')"
   ]
  },
  {
   "cell_type": "markdown",
   "id": "5fd846d1",
   "metadata": {},
   "source": [
    "### Words Score"
   ]
  },
  {
   "cell_type": "code",
   "execution_count": 371,
   "id": "c1256f2e",
   "metadata": {},
   "outputs": [],
   "source": [
    "import re"
   ]
  },
  {
   "cell_type": "code",
   "execution_count": 376,
   "id": "5a5f8c3d",
   "metadata": {},
   "outputs": [
    {
     "name": "stdout",
     "output_type": "stream",
     "text": [
      "3\n",
      "programming is awesome\n"
     ]
    }
   ],
   "source": [
    "words = []\n",
    "n = int(input())\n",
    "words = input().split(' ')"
   ]
  },
  {
   "cell_type": "code",
   "execution_count": 381,
   "id": "228a446b",
   "metadata": {},
   "outputs": [],
   "source": [
    "def score_words(words):\n",
    "    vowels = 'aeiouy'\n",
    "    count = 0\n",
    "    for word in words:\n",
    "        vowel_list = re.findall(f'[{vowels}]', word, re.I)\n",
    "        if len(vowel_list)%2 == 0:\n",
    "            count += 2\n",
    "        else:\n",
    "            count += 1\n",
    "    return count"
   ]
  },
  {
   "cell_type": "code",
   "execution_count": 383,
   "id": "38fe4dd8",
   "metadata": {},
   "outputs": [
    {
     "name": "stdout",
     "output_type": "stream",
     "text": [
      "4\n"
     ]
    }
   ],
   "source": [
    "print(score_words(words))"
   ]
  },
  {
   "cell_type": "markdown",
   "id": "dba19069",
   "metadata": {},
   "source": [
    "### Arrays"
   ]
  },
  {
   "cell_type": "code",
   "execution_count": 384,
   "id": "8f5ea248",
   "metadata": {},
   "outputs": [],
   "source": [
    "import numpy"
   ]
  },
  {
   "cell_type": "code",
   "execution_count": 395,
   "id": "86d1c2fb",
   "metadata": {},
   "outputs": [],
   "source": [
    "def arrays(arr):\n",
    "    return numpy.array(arr[::-1], float)"
   ]
  },
  {
   "cell_type": "code",
   "execution_count": 396,
   "id": "3d853683",
   "metadata": {},
   "outputs": [
    {
     "name": "stdout",
     "output_type": "stream",
     "text": [
      "1 2 3 4 -8 -10\n"
     ]
    }
   ],
   "source": [
    "arr = input().strip().split(' ')"
   ]
  },
  {
   "cell_type": "code",
   "execution_count": 398,
   "id": "c2fafc7e",
   "metadata": {},
   "outputs": [
    {
     "name": "stdout",
     "output_type": "stream",
     "text": [
      "[-10.  -8.   4.   3.   2.   1.]\n"
     ]
    }
   ],
   "source": [
    "result = arrays(arr)\n",
    "print(result)"
   ]
  },
  {
   "cell_type": "markdown",
   "id": "601cee5a",
   "metadata": {},
   "source": [
    "### Shape and Reshape"
   ]
  },
  {
   "cell_type": "code",
   "execution_count": 399,
   "id": "97165c69",
   "metadata": {},
   "outputs": [],
   "source": [
    "import numpy"
   ]
  },
  {
   "cell_type": "code",
   "execution_count": 400,
   "id": "24464a14",
   "metadata": {},
   "outputs": [
    {
     "name": "stdout",
     "output_type": "stream",
     "text": [
      "1 2 3 4 5 6 7 8 9\n"
     ]
    }
   ],
   "source": [
    "array = list(map(int, input().split(' ')))"
   ]
  },
  {
   "cell_type": "code",
   "execution_count": 401,
   "id": "128f21e0",
   "metadata": {},
   "outputs": [
    {
     "name": "stdout",
     "output_type": "stream",
     "text": [
      "[[1 2 3]\n",
      " [4 5 6]\n",
      " [7 8 9]]\n"
     ]
    }
   ],
   "source": [
    "print(numpy.reshape(array, (3,3)))"
   ]
  },
  {
   "cell_type": "markdown",
   "id": "1681f8c2",
   "metadata": {},
   "source": [
    "### Transpose and Flatten"
   ]
  },
  {
   "cell_type": "code",
   "execution_count": 402,
   "id": "4c9a2356",
   "metadata": {},
   "outputs": [],
   "source": [
    "import numpy"
   ]
  },
  {
   "cell_type": "code",
   "execution_count": 413,
   "id": "1a9d98cb",
   "metadata": {},
   "outputs": [
    {
     "name": "stdout",
     "output_type": "stream",
     "text": [
      "2 2\n",
      "1 2\n",
      "3 4\n"
     ]
    }
   ],
   "source": [
    "N, M = map(int, input().split())\n",
    "array = numpy.array([input().strip().split() for _ in range(N)], int)"
   ]
  },
  {
   "cell_type": "code",
   "execution_count": 414,
   "id": "3f3a6f70",
   "metadata": {},
   "outputs": [
    {
     "name": "stdout",
     "output_type": "stream",
     "text": [
      "[[1 3]\n",
      " [2 4]]\n",
      "[1 2 3 4]\n"
     ]
    }
   ],
   "source": [
    "print(array.transpose())\n",
    "print(array.flatten())"
   ]
  },
  {
   "cell_type": "markdown",
   "id": "791d00f5",
   "metadata": {},
   "source": [
    "### Concatenate"
   ]
  },
  {
   "cell_type": "code",
   "execution_count": 415,
   "id": "5f2f4948",
   "metadata": {},
   "outputs": [],
   "source": [
    "import numpy"
   ]
  },
  {
   "cell_type": "code",
   "execution_count": 416,
   "id": "94b38268",
   "metadata": {},
   "outputs": [
    {
     "name": "stdout",
     "output_type": "stream",
     "text": [
      "4 3 2\n",
      "1 2\n",
      "1 2\n",
      "1 2\n",
      "1 2\n",
      "3 4\n",
      "3 4\n",
      "3 4\n",
      "3 4\n"
     ]
    }
   ],
   "source": [
    "N, M, P = map(int, input().split())\n",
    "array1 = numpy.array([input().strip().split() for _ in range(N)], int)\n",
    "array2 = numpy.array([input().strip().split() for _ in range(M)], int)"
   ]
  },
  {
   "cell_type": "code",
   "execution_count": 419,
   "id": "f01adfc3",
   "metadata": {},
   "outputs": [
    {
     "name": "stdout",
     "output_type": "stream",
     "text": [
      "[[1 2]\n",
      " [1 2]\n",
      " [1 2]\n",
      " [1 2]\n",
      " [3 4]\n",
      " [3 4]\n",
      " [3 4]\n",
      " [3 4]]\n"
     ]
    }
   ],
   "source": [
    "print(numpy.concatenate((array1, array2), axis = 0))"
   ]
  },
  {
   "cell_type": "markdown",
   "id": "72abf850",
   "metadata": {},
   "source": [
    "### Zeros and Ones"
   ]
  },
  {
   "cell_type": "code",
   "execution_count": 420,
   "id": "eb356fdd",
   "metadata": {},
   "outputs": [],
   "source": [
    "import numpy"
   ]
  },
  {
   "cell_type": "code",
   "execution_count": 421,
   "id": "00707174",
   "metadata": {},
   "outputs": [
    {
     "name": "stdout",
     "output_type": "stream",
     "text": [
      "3 3 3\n"
     ]
    }
   ],
   "source": [
    "dimensions = tuple(map(int, input().split()))"
   ]
  },
  {
   "cell_type": "code",
   "execution_count": 425,
   "id": "5290f225",
   "metadata": {},
   "outputs": [
    {
     "name": "stdout",
     "output_type": "stream",
     "text": [
      "[[[0 0 0]\n",
      "  [0 0 0]\n",
      "  [0 0 0]]\n",
      "\n",
      " [[0 0 0]\n",
      "  [0 0 0]\n",
      "  [0 0 0]]\n",
      "\n",
      " [[0 0 0]\n",
      "  [0 0 0]\n",
      "  [0 0 0]]]\n",
      "[[[1 1 1]\n",
      "  [1 1 1]\n",
      "  [1 1 1]]\n",
      "\n",
      " [[1 1 1]\n",
      "  [1 1 1]\n",
      "  [1 1 1]]\n",
      "\n",
      " [[1 1 1]\n",
      "  [1 1 1]\n",
      "  [1 1 1]]]\n"
     ]
    }
   ],
   "source": [
    "print(numpy.zeros(dimensions, dtype = numpy.int64))\n",
    "print(numpy.ones(dimensions, dtype = numpy.int64))"
   ]
  },
  {
   "cell_type": "markdown",
   "id": "bc1aea26",
   "metadata": {},
   "source": [
    "### Eye and Identity"
   ]
  },
  {
   "cell_type": "code",
   "execution_count": 427,
   "id": "f14dd60f",
   "metadata": {},
   "outputs": [],
   "source": [
    "import numpy\n",
    "numpy.set_printoptions(legacy='1.13')"
   ]
  },
  {
   "cell_type": "code",
   "execution_count": 428,
   "id": "5e461fad",
   "metadata": {},
   "outputs": [
    {
     "name": "stdout",
     "output_type": "stream",
     "text": [
      "3 3\n"
     ]
    }
   ],
   "source": [
    "N, M = map(int, input().split())"
   ]
  },
  {
   "cell_type": "code",
   "execution_count": 429,
   "id": "fd3ebac8",
   "metadata": {},
   "outputs": [
    {
     "name": "stdout",
     "output_type": "stream",
     "text": [
      "[[ 1.  0.  0.]\n",
      " [ 0.  1.  0.]\n",
      " [ 0.  0.  1.]]\n"
     ]
    }
   ],
   "source": [
    "print(numpy.eye(N, M, k = 0))"
   ]
  },
  {
   "cell_type": "markdown",
   "id": "4a397fd4",
   "metadata": {},
   "source": [
    "### Array Mathematics"
   ]
  },
  {
   "cell_type": "code",
   "execution_count": 430,
   "id": "5d906c0e",
   "metadata": {},
   "outputs": [],
   "source": [
    "import numpy"
   ]
  },
  {
   "cell_type": "code",
   "execution_count": 434,
   "id": "4fd03c66",
   "metadata": {},
   "outputs": [
    {
     "name": "stdout",
     "output_type": "stream",
     "text": [
      "1 4\n",
      "1 2 3 4\n",
      "5 6 7 8\n"
     ]
    }
   ],
   "source": [
    "N, M = map(int, input().split())\n",
    "A = numpy.array([input().strip().split() for _ in range(N)], int)\n",
    "B = numpy.array([input().strip().split() for _ in range(N)], int)"
   ]
  },
  {
   "cell_type": "code",
   "execution_count": 438,
   "id": "5d22ba10",
   "metadata": {},
   "outputs": [
    {
     "name": "stdout",
     "output_type": "stream",
     "text": [
      "[[ 6  8 10 12]]\n",
      "[[-4 -4 -4 -4]]\n",
      "[[ 5 12 21 32]]\n",
      "[[0 0 0 0]]\n",
      "[[1 2 3 4]]\n",
      "[[    1    64  2187 65536]]\n"
     ]
    }
   ],
   "source": [
    "print(A+B)\n",
    "print(A-B)\n",
    "print(A*B)\n",
    "print(A//B)\n",
    "print(A%B)\n",
    "print(A**B)"
   ]
  },
  {
   "cell_type": "markdown",
   "id": "fcdff899",
   "metadata": {},
   "source": [
    "### Floor, Ceil and Rint"
   ]
  },
  {
   "cell_type": "code",
   "execution_count": 443,
   "id": "d73ffdcd",
   "metadata": {},
   "outputs": [],
   "source": [
    "import numpy\n",
    "numpy.set_printoptions(legacy='1.13')"
   ]
  },
  {
   "cell_type": "code",
   "execution_count": 444,
   "id": "57eb5279",
   "metadata": {},
   "outputs": [
    {
     "name": "stdout",
     "output_type": "stream",
     "text": [
      "1.1 2.2 3.3 4.4 5.5 6.6 7.7 8.8 9.9\n"
     ]
    }
   ],
   "source": [
    "A = list(map(float, input().split()))"
   ]
  },
  {
   "cell_type": "code",
   "execution_count": 445,
   "id": "7038a2ce",
   "metadata": {},
   "outputs": [
    {
     "name": "stdout",
     "output_type": "stream",
     "text": [
      "[ 1.  2.  3.  4.  5.  6.  7.  8.  9.]\n",
      "[  2.   3.   4.   5.   6.   7.   8.   9.  10.]\n",
      "[  1.   2.   3.   4.   6.   7.   8.   9.  10.]\n"
     ]
    }
   ],
   "source": [
    "print(numpy.floor(A))\n",
    "print(numpy.ceil(A))\n",
    "print(numpy.rint(A))"
   ]
  },
  {
   "cell_type": "code",
   "execution_count": null,
   "id": "19e18d7f",
   "metadata": {},
   "outputs": [],
   "source": []
  }
 ],
 "metadata": {
  "kernelspec": {
   "display_name": "Python 3 (ipykernel)",
   "language": "python",
   "name": "python3"
  },
  "language_info": {
   "codemirror_mode": {
    "name": "ipython",
    "version": 3
   },
   "file_extension": ".py",
   "mimetype": "text/x-python",
   "name": "python",
   "nbconvert_exporter": "python",
   "pygments_lexer": "ipython3",
   "version": "3.8.16"
  }
 },
 "nbformat": 4,
 "nbformat_minor": 5
}
