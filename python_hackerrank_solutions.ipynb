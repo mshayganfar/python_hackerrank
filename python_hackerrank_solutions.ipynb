{
 "cells": [
  {
   "cell_type": "code",
   "execution_count": 30,
   "id": "0862edb4",
   "metadata": {},
   "outputs": [
    {
     "data": {
      "text/plain": [
       "[[0, 0, 0],\n",
       " [0, 1, 1],\n",
       " [1, 0, 1],\n",
       " [1, 1, 0],\n",
       " [1, 1, 1],\n",
       " [2, 0, 0],\n",
       " [2, 0, 1],\n",
       " [2, 1, 0],\n",
       " [2, 1, 1]]"
      ]
     },
     "execution_count": 30,
     "metadata": {},
     "output_type": "execute_result"
    }
   ],
   "source": [
    "x = 2\n",
    "y = 1\n",
    "z = 1\n",
    "n = 1\n",
    "\n",
    "[[i, j, k] for i in range(x+1) for j in range(y+1) for k in range(z+1) if i+j+k != n]"
   ]
  },
  {
   "cell_type": "code",
   "execution_count": 49,
   "id": "9d8ca60e",
   "metadata": {},
   "outputs": [
    {
     "data": {
      "text/plain": [
       "2"
      ]
     },
     "execution_count": 49,
     "metadata": {},
     "output_type": "execute_result"
    }
   ],
   "source": [
    "n = 4\n",
    "arr = [0, -3, 10, 2, 10]\n",
    "\n",
    "sorted(list(set(arr)))[-2]"
   ]
  },
  {
   "cell_type": "code",
   "execution_count": 99,
   "id": "11517cb7",
   "metadata": {},
   "outputs": [
    {
     "name": "stdout",
     "output_type": "stream",
     "text": [
      "Nina\n",
      "37.2\n",
      "Harry\n",
      "37.21\n",
      "Berry\n",
      "37.21\n",
      "Tina\n",
      "37.2\n",
      "Akriti\n",
      "41\n",
      "Harsh\n",
      "39\n",
      "Terry\n",
      "37.21\n"
     ]
    }
   ],
   "source": [
    "students = [['Nina', 37.2], \n",
    "            ['Harry', 37.21], \n",
    "            ['Berry', 37.21], \n",
    "            ['Tina', 37.2], \n",
    "            ['Akriti', 41], \n",
    "            ['Harsh', 39], \n",
    "            ['Terry', 37.21]]\n",
    "\n",
    "for student, grade in students:\n",
    "    print(student)\n",
    "    print(grade)"
   ]
  },
  {
   "cell_type": "code",
   "execution_count": 103,
   "id": "817364ba",
   "metadata": {},
   "outputs": [],
   "source": [
    "mark = sorted(set(map(lambda x: x[1], students)))[1]"
   ]
  },
  {
   "cell_type": "code",
   "execution_count": 107,
   "id": "c3a53539",
   "metadata": {},
   "outputs": [
    {
     "name": "stdout",
     "output_type": "stream",
     "text": [
      "Berry\n",
      "Harry\n",
      "Terry\n"
     ]
    }
   ],
   "source": [
    "for name, grade in sorted(filter(lambda x: x[1] == mark, students)):\n",
    "    print(name)"
   ]
  },
  {
   "cell_type": "code",
   "execution_count": 108,
   "id": "396196f9",
   "metadata": {},
   "outputs": [
    {
     "data": {
      "text/plain": [
       "{'Krishna': [67, 68, 69], 'Arjun': [70, 98, 63], 'Malika': [52, 56, 60]}"
      ]
     },
     "execution_count": 108,
     "metadata": {},
     "output_type": "execute_result"
    }
   ],
   "source": [
    "student_marks = {'Krishna': [67, 68, 69], 'Arjun': [70, 98, 63], 'Malika': [52, 56, 60]}\n",
    "student_marks"
   ]
  },
  {
   "cell_type": "code",
   "execution_count": 124,
   "id": "5c3249ce",
   "metadata": {},
   "outputs": [],
   "source": [
    "query_name = 'Malika'"
   ]
  },
  {
   "cell_type": "code",
   "execution_count": 127,
   "id": "4ec3f5b6",
   "metadata": {},
   "outputs": [
    {
     "name": "stdout",
     "output_type": "stream",
     "text": [
      "56.00\n"
     ]
    }
   ],
   "source": [
    "student_list = list(student_marks[query_name]) \n",
    "student_average = sum(student_list)/len(student_list)\n",
    "print(\"{:.2f}\".format(student_average))"
   ]
  },
  {
   "cell_type": "code",
   "execution_count": 138,
   "id": "914d28db",
   "metadata": {},
   "outputs": [
    {
     "name": "stdout",
     "output_type": "stream",
     "text": [
      "12\n"
     ]
    }
   ],
   "source": [
    "N = int(input())"
   ]
  },
  {
   "cell_type": "code",
   "execution_count": 139,
   "id": "244c6f0c",
   "metadata": {},
   "outputs": [
    {
     "name": "stdout",
     "output_type": "stream",
     "text": [
      "insert 0 5\n",
      "insert 1 10\n",
      "insert 0 6\n",
      "print\n",
      "remove 6\n",
      "append 9\n",
      "append 1\n",
      "sort\n",
      "print\n",
      "pop\n",
      "reverse\n",
      "print\n"
     ]
    }
   ],
   "source": [
    "commands = []\n",
    "\n",
    "for i in range(N):\n",
    "    commands.append(input().split(' '))"
   ]
  },
  {
   "cell_type": "code",
   "execution_count": 140,
   "id": "499d2e0a",
   "metadata": {},
   "outputs": [
    {
     "data": {
      "text/plain": [
       "[['insert', '0', '5'],\n",
       " ['insert', '1', '10'],\n",
       " ['insert', '0', '6'],\n",
       " ['print'],\n",
       " ['remove', '6'],\n",
       " ['append', '9'],\n",
       " ['append', '1'],\n",
       " ['sort'],\n",
       " ['print'],\n",
       " ['pop'],\n",
       " ['reverse'],\n",
       " ['print']]"
      ]
     },
     "execution_count": 140,
     "metadata": {},
     "output_type": "execute_result"
    }
   ],
   "source": [
    "commands"
   ]
  },
  {
   "cell_type": "code",
   "execution_count": 141,
   "id": "4b135092",
   "metadata": {},
   "outputs": [
    {
     "name": "stdout",
     "output_type": "stream",
     "text": [
      "[6, 5, 10]\n",
      "[1, 5, 9, 10]\n",
      "[9, 5, 1]\n"
     ]
    }
   ],
   "source": [
    "final_list = []\n",
    "\n",
    "for command in commands:\n",
    "    if command[0] == 'insert':\n",
    "        final_list.insert(int(command[1]), int(command[2]))\n",
    "    elif command[0] == 'remove':\n",
    "        final_list.remove(int(command[1]))\n",
    "    elif command[0] == 'append':\n",
    "        final_list.append(int(command[1]))\n",
    "    elif command[0] == 'sort':\n",
    "        final_list.sort()\n",
    "    elif command[0] == 'pop':\n",
    "        final_list.pop()\n",
    "    elif command[0] == 'reverse':\n",
    "        final_list.reverse()\n",
    "    elif command[0] == 'print':\n",
    "        print(final_list)"
   ]
  },
  {
   "cell_type": "code",
   "execution_count": 142,
   "id": "3a31dfd8",
   "metadata": {},
   "outputs": [
    {
     "name": "stdout",
     "output_type": "stream",
     "text": [
      "2\n"
     ]
    }
   ],
   "source": [
    "n = int(input())"
   ]
  },
  {
   "cell_type": "code",
   "execution_count": 149,
   "id": "d4247d45",
   "metadata": {},
   "outputs": [
    {
     "name": "stdout",
     "output_type": "stream",
     "text": [
      "1 2\n"
     ]
    }
   ],
   "source": [
    "integer_list = map(int, input().split())"
   ]
  },
  {
   "cell_type": "code",
   "execution_count": 150,
   "id": "150b27d3",
   "metadata": {},
   "outputs": [
    {
     "data": {
      "text/plain": [
       "(1, 2)"
      ]
     },
     "execution_count": 150,
     "metadata": {},
     "output_type": "execute_result"
    }
   ],
   "source": [
    "tuple(integer_list)"
   ]
  },
  {
   "cell_type": "code",
   "execution_count": 151,
   "id": "ffbebaa2",
   "metadata": {},
   "outputs": [
    {
     "data": {
      "text/plain": [
       "5740354900026072187"
      ]
     },
     "execution_count": 151,
     "metadata": {},
     "output_type": "execute_result"
    }
   ],
   "source": [
    "hash(tuple(integer_list))"
   ]
  },
  {
   "cell_type": "code",
   "execution_count": 152,
   "id": "bde16a25",
   "metadata": {},
   "outputs": [],
   "source": [
    "s = 'HackerRank.com presents \"Pythonist 2\".'"
   ]
  },
  {
   "cell_type": "code",
   "execution_count": 156,
   "id": "ec87640a",
   "metadata": {},
   "outputs": [],
   "source": [
    "s_prime = \"\".join([c.lower() if c.isupper()==True else c.upper() for c in s])"
   ]
  },
  {
   "cell_type": "code",
   "execution_count": 157,
   "id": "09d4666d",
   "metadata": {},
   "outputs": [
    {
     "data": {
      "text/plain": [
       "'hACKERrANK.COM PRESENTS \"pYTHONIST 2\".'"
      ]
     },
     "execution_count": 157,
     "metadata": {},
     "output_type": "execute_result"
    }
   ],
   "source": [
    "s_prime"
   ]
  },
  {
   "cell_type": "code",
   "execution_count": 158,
   "id": "dfdedfc7",
   "metadata": {},
   "outputs": [],
   "source": [
    "s = 'this is a string'"
   ]
  },
  {
   "cell_type": "code",
   "execution_count": 159,
   "id": "73397eb3",
   "metadata": {},
   "outputs": [],
   "source": [
    "s = s.split(\" \")"
   ]
  },
  {
   "cell_type": "code",
   "execution_count": 160,
   "id": "f15b4bc1",
   "metadata": {},
   "outputs": [
    {
     "data": {
      "text/plain": [
       "['this', 'is', 'a', 'string']"
      ]
     },
     "execution_count": 160,
     "metadata": {},
     "output_type": "execute_result"
    }
   ],
   "source": [
    "s"
   ]
  },
  {
   "cell_type": "code",
   "execution_count": 161,
   "id": "3dc0356d",
   "metadata": {},
   "outputs": [],
   "source": [
    "s = \"-\".join(s)"
   ]
  },
  {
   "cell_type": "code",
   "execution_count": 162,
   "id": "84fbaf28",
   "metadata": {},
   "outputs": [
    {
     "data": {
      "text/plain": [
       "'this-is-a-string'"
      ]
     },
     "execution_count": 162,
     "metadata": {},
     "output_type": "execute_result"
    }
   ],
   "source": [
    "s"
   ]
  },
  {
   "cell_type": "code",
   "execution_count": 165,
   "id": "24837d36",
   "metadata": {},
   "outputs": [
    {
     "name": "stdout",
     "output_type": "stream",
     "text": [
      "Hello Mahni Shayganfar! You just delved into python.\n"
     ]
    }
   ],
   "source": [
    "first = 'Mahni'\n",
    "last = 'Shayganfar'\n",
    "\n",
    "print(f'Hello {first} {last}! You just delved into python.')"
   ]
  },
  {
   "cell_type": "code",
   "execution_count": 166,
   "id": "81b5de19",
   "metadata": {},
   "outputs": [
    {
     "data": {
      "text/plain": [
       "'thKsisastring'"
      ]
     },
     "execution_count": 166,
     "metadata": {},
     "output_type": "execute_result"
    }
   ],
   "source": [
    "def mutate_string(string, position, character):\n",
    "    l = list(string)\n",
    "    l[position] = character\n",
    "    return ''.join(l)\n",
    "\n",
    "s = 'thisisastring'\n",
    "mutate_string(s, 2, 'K')"
   ]
  },
  {
   "cell_type": "code",
   "execution_count": 168,
   "id": "d9d23439",
   "metadata": {},
   "outputs": [],
   "source": [
    "s = 'this is a test for is!'\n",
    "sub = 'is'"
   ]
  },
  {
   "cell_type": "code",
   "execution_count": 169,
   "id": "c572eaaf",
   "metadata": {},
   "outputs": [
    {
     "data": {
      "text/plain": [
       "[2, 5, 19]"
      ]
     },
     "execution_count": 169,
     "metadata": {},
     "output_type": "execute_result"
    }
   ],
   "source": [
    "[i for i in range(len(s)) if s.startswith(sub, i)]"
   ]
  },
  {
   "cell_type": "code",
   "execution_count": null,
   "id": "5e376dc6",
   "metadata": {},
   "outputs": [],
   "source": [
    "In the first line, print True if  has any alphanumeric characters. Otherwise, print False. \n",
    "In the second line, print True if  has any alphabetical characters. Otherwise, print False. \n",
    "In the third line, print True if  has any digits. Otherwise, print False. \n",
    "In the fourth line, print True if  has any lowercase characters. Otherwise, print False. \n",
    "In the fifth line, print True if  has any uppercase characters. Otherwise, print False."
   ]
  },
  {
   "cell_type": "code",
   "execution_count": 177,
   "id": "354d3268",
   "metadata": {},
   "outputs": [
    {
     "name": "stdout",
     "output_type": "stream",
     "text": [
      "False\n",
      "False\n",
      "False\n",
      "False\n",
      "False\n"
     ]
    }
   ],
   "source": [
    "s = '+++'\n",
    "\n",
    "flag = True\n",
    "for c in s:\n",
    "    if c.isalnum() == True:\n",
    "        print(True)\n",
    "        flag = False\n",
    "        break\n",
    "if flag == True:\n",
    "    print(False)\n",
    "flag = True\n",
    "for c in s:\n",
    "    if c.isalpha() == True:\n",
    "        print(True)\n",
    "        flag = False\n",
    "        break\n",
    "if flag == True:\n",
    "    print(False)\n",
    "flag = True\n",
    "for c in s:\n",
    "    if c.isdigit() == True:\n",
    "        print(True)\n",
    "        flag = False\n",
    "        break\n",
    "if flag == True:\n",
    "    print(False)\n",
    "flag = True\n",
    "for c in s:\n",
    "    if c.islower() == True:\n",
    "        print(True)\n",
    "        flag = False\n",
    "        break\n",
    "if flag == True:\n",
    "    print(False)\n",
    "flag = True\n",
    "for c in s:\n",
    "    if c.isupper() == True:\n",
    "        print(True)\n",
    "        flag = False\n",
    "        break\n",
    "if flag == True:\n",
    "    print(False)"
   ]
  },
  {
   "cell_type": "code",
   "execution_count": 178,
   "id": "0fe79dc3",
   "metadata": {},
   "outputs": [
    {
     "name": "stdout",
     "output_type": "stream",
     "text": [
      "----------HackerRank\n"
     ]
    }
   ],
   "source": [
    "width = 20\n",
    "print('HackerRank'.rjust(width,'-'))"
   ]
  },
  {
   "cell_type": "code",
   "execution_count": 179,
   "id": "187a7285",
   "metadata": {},
   "outputs": [
    {
     "name": "stdout",
     "output_type": "stream",
     "text": [
      "5\n"
     ]
    }
   ],
   "source": [
    "thickness = int(input()) #This must be an odd number\n",
    "c = 'H'"
   ]
  },
  {
   "cell_type": "code",
   "execution_count": 210,
   "id": "0d12e0e8",
   "metadata": {},
   "outputs": [
    {
     "name": "stdout",
     "output_type": "stream",
     "text": [
      "    H    \n",
      "   HHH   \n",
      "  HHHHH  \n",
      " HHHHHHH \n",
      "HHHHHHHHH\n",
      "  HHHHH               HHHHH             \n",
      "  HHHHH               HHHHH             \n",
      "  HHHHH               HHHHH             \n",
      "  HHHHH               HHHHH             \n",
      "  HHHHH               HHHHH             \n",
      "  HHHHH               HHHHH             \n",
      "  HHHHHHHHHHHHHHHHHHHHHHHHH   \n",
      "  HHHHHHHHHHHHHHHHHHHHHHHHH   \n",
      "  HHHHHHHHHHHHHHHHHHHHHHHHH   \n",
      "  HHHHH               HHHHH             \n",
      "  HHHHH               HHHHH             \n",
      "  HHHHH               HHHHH             \n",
      "  HHHHH               HHHHH             \n",
      "  HHHHH               HHHHH             \n",
      "  HHHHH               HHHHH             \n",
      "                    HHHHHHHHH \n",
      "                     HHHHHHH  \n",
      "                      HHHHH   \n",
      "                       HHH    \n",
      "                        H     \n"
     ]
    }
   ],
   "source": [
    "#Top Cone\n",
    "for i in range(thickness):\n",
    "    print((c*i).rjust(thickness-1)+c+(c*i).ljust(thickness-1))\n",
    "    \n",
    "#Top Pillars\n",
    "for i in range(thickness+1):\n",
    "    print((c*thickness).center(thickness*2)+(c*thickness).center(thickness*6))\n",
    "    \n",
    "#Middle Belt\n",
    "for i in range((thickness+1)//2):\n",
    "    print((c*thickness*5).center(thickness*6))\n",
    "    \n",
    "#Bottom Pillars\n",
    "for i in range(thickness+1):\n",
    "    print((c*thickness).center(thickness*2)+(c*thickness).center(thickness*6))    \n",
    "\n",
    "#Bottom Cone\n",
    "for i in range(thickness):\n",
    "    print(((c*(thickness-i-1)).rjust(thickness)+c+(c*(thickness-i-1)).ljust(thickness)).rjust(thickness*6))"
   ]
  },
  {
   "cell_type": "code",
   "execution_count": 211,
   "id": "3b9c646b",
   "metadata": {},
   "outputs": [],
   "source": [
    "s = 'ABCDEFGHIJKLIMNOQRSTUVWXYZ'\n",
    "w = 4"
   ]
  },
  {
   "cell_type": "code",
   "execution_count": 214,
   "id": "3afae406",
   "metadata": {},
   "outputs": [
    {
     "data": {
      "text/plain": [
       "['A',\n",
       " 'B',\n",
       " 'C',\n",
       " 'D',\n",
       " 'E',\n",
       " 'F',\n",
       " 'G',\n",
       " 'H',\n",
       " 'I',\n",
       " 'J',\n",
       " 'K',\n",
       " 'L',\n",
       " 'I',\n",
       " 'M',\n",
       " 'N',\n",
       " 'O',\n",
       " 'Q',\n",
       " 'R',\n",
       " 'S',\n",
       " 'T',\n",
       " 'U',\n",
       " 'V',\n",
       " 'W',\n",
       " 'X',\n",
       " 'Y',\n",
       " 'Z']"
      ]
     },
     "execution_count": 214,
     "metadata": {},
     "output_type": "execute_result"
    }
   ],
   "source": [
    "chars = list(s)\n",
    "chars"
   ]
  },
  {
   "cell_type": "code",
   "execution_count": 226,
   "id": "70e975b0",
   "metadata": {},
   "outputs": [
    {
     "name": "stdout",
     "output_type": "stream",
     "text": [
      "ABCD\n",
      "EFGH\n",
      "IJKL\n",
      "IMNO\n",
      "QRST\n",
      "UVWX\n",
      "YZ\n"
     ]
    }
   ],
   "source": [
    "final_str = ''.join([chars[i-1]+'\\n' if i%w == 0 else chars[i-1] for i in range(1, len(chars)+1)])\n",
    "print(final_str)"
   ]
  },
  {
   "cell_type": "code",
   "execution_count": null,
   "id": "096ede78",
   "metadata": {},
   "outputs": [],
   "source": [
    "# ------------.|.------------\n",
    "# ---------.|..|..|.---------\n",
    "# ------.|..|..|..|..|.------\n",
    "# ---.|..|..|..|..|..|..|.---\n",
    "# ----------WELCOME----------\n",
    "# ---.|..|..|..|..|..|..|.---\n",
    "# ------.|..|..|..|..|.------\n",
    "# ---------.|..|..|.---------\n",
    "# ------------.|.------------"
   ]
  },
  {
   "cell_type": "code",
   "execution_count": 229,
   "id": "01ae23f2",
   "metadata": {},
   "outputs": [
    {
     "name": "stdout",
     "output_type": "stream",
     "text": [
      "13 39\n"
     ]
    }
   ],
   "source": [
    "dm = list(map(int, input().rstrip().split()))"
   ]
  },
  {
   "cell_type": "code",
   "execution_count": 230,
   "id": "c02570ea",
   "metadata": {},
   "outputs": [
    {
     "name": "stdout",
     "output_type": "stream",
     "text": [
      "------------------.|.------------------\n",
      "---------------.|..|..|.---------------\n",
      "------------.|..|..|..|..|.------------\n",
      "---------.|..|..|..|..|..|..|.---------\n",
      "------.|..|..|..|..|..|..|..|..|.------\n",
      "---.|..|..|..|..|..|..|..|..|..|..|.---\n",
      "----------------WELCOME----------------\n",
      "---.|..|..|..|..|..|..|..|..|..|..|.---\n",
      "------.|..|..|..|..|..|..|..|..|.------\n",
      "---------.|..|..|..|..|..|..|.---------\n",
      "------------.|..|..|..|..|.------------\n",
      "---------------.|..|..|.---------------\n",
      "------------------.|.------------------\n"
     ]
    }
   ],
   "source": [
    "n=dm[0]\n",
    "m=dm[1]\n",
    "t=(m-7)//2\n",
    "k=(n//2)+1\n",
    "for i in range (1, n+1):\n",
    "    if i==k:        \n",
    "        print('-'*t+'WELCOME'+'-'*t)\n",
    "    elif(i<k):\n",
    "        print('---'*(k-i)+('.|.'*(i))+('.|.'*(i-1))+('---'*(k-i)))\n",
    "    else:\n",
    "        print(('---'*(i-k))+('.|.'*(n-i+1))+('.|.'*(n-i))+('---'*(i-k)))"
   ]
  },
  {
   "cell_type": "code",
   "execution_count": 274,
   "id": "f497f17b",
   "metadata": {},
   "outputs": [
    {
     "name": "stdout",
     "output_type": "stream",
     "text": [
      "   1   1   1   1\n",
      "   2   2   2  10\n",
      "   3   3   3  11\n",
      "   4   4   4 100\n",
      "   5   5   5 101\n",
      "   6   6   6 110\n",
      "   7   7   7 111\n",
      "   8  10   81000\n",
      "   9  11   91001\n",
      "  10  12   A1010\n",
      "  11  13   B1011\n",
      "  12  14   C1100\n",
      "  13  15   D1101\n",
      "  14  16   E1110\n",
      "  15  17   F1111\n",
      "  16  20  1010000\n",
      "  17  21  1110001\n"
     ]
    }
   ],
   "source": [
    "number=17\n",
    "\n",
    "for i in range(1, n+1):\n",
    "    print(f'{i}'.rjust(4) + f'{oct(i)[2:]}'.rjust(4) + f'{hex(i)[2:].upper()}'.rjust(4) + f'{bin(i)[2:]}'.rjust(4))"
   ]
  },
  {
   "cell_type": "code",
   "execution_count": 275,
   "id": "8fc7c431",
   "metadata": {},
   "outputs": [
    {
     "name": "stdout",
     "output_type": "stream",
     "text": [
      "    1     1     1     1\n",
      "    2     2     2    10\n",
      "    3     3     3    11\n",
      "    4     4     4   100\n",
      "    5     5     5   101\n",
      "    6     6     6   110\n",
      "    7     7     7   111\n",
      "    8    10     8  1000\n",
      "    9    11     9  1001\n",
      "   10    12     A  1010\n",
      "   11    13     B  1011\n",
      "   12    14     C  1100\n",
      "   13    15     D  1101\n",
      "   14    16     E  1110\n",
      "   15    17     F  1111\n",
      "   16    20    10 10000\n",
      "   17    21    11 10001\n"
     ]
    }
   ],
   "source": [
    "number=17\n",
    "\n",
    "width = len(\"{0:b}\".format(number))\n",
    "\n",
    "for i in range(1, number + 1):\n",
    "    print(\"{0:{w}d} {0:{w}o} {0:{w}X} {0:{w}b}\".format(i, w = width))"
   ]
  },
  {
   "cell_type": "code",
   "execution_count": 279,
   "id": "8fd500cc",
   "metadata": {},
   "outputs": [
    {
     "name": "stdout",
     "output_type": "stream",
     "text": [
      "--------------------------------q--------------------------------\n",
      "------------------------------q-p-q------------------------------\n",
      "----------------------------q-p-o-p-q----------------------------\n",
      "--------------------------q-p-o-n-o-p-q--------------------------\n",
      "------------------------q-p-o-n-m-n-o-p-q------------------------\n",
      "----------------------q-p-o-n-m-l-m-n-o-p-q----------------------\n",
      "--------------------q-p-o-n-m-l-k-l-m-n-o-p-q--------------------\n",
      "------------------q-p-o-n-m-l-k-j-k-l-m-n-o-p-q------------------\n",
      "----------------q-p-o-n-m-l-k-j-i-j-k-l-m-n-o-p-q----------------\n",
      "--------------q-p-o-n-m-l-k-j-i-h-i-j-k-l-m-n-o-p-q--------------\n",
      "------------q-p-o-n-m-l-k-j-i-h-g-h-i-j-k-l-m-n-o-p-q------------\n",
      "----------q-p-o-n-m-l-k-j-i-h-g-f-g-h-i-j-k-l-m-n-o-p-q----------\n",
      "--------q-p-o-n-m-l-k-j-i-h-g-f-e-f-g-h-i-j-k-l-m-n-o-p-q--------\n",
      "------q-p-o-n-m-l-k-j-i-h-g-f-e-d-e-f-g-h-i-j-k-l-m-n-o-p-q------\n",
      "----q-p-o-n-m-l-k-j-i-h-g-f-e-d-c-d-e-f-g-h-i-j-k-l-m-n-o-p-q----\n",
      "--q-p-o-n-m-l-k-j-i-h-g-f-e-d-c-b-c-d-e-f-g-h-i-j-k-l-m-n-o-p-q--\n",
      "q-p-o-n-m-l-k-j-i-h-g-f-e-d-c-b-a-b-c-d-e-f-g-h-i-j-k-l-m-n-o-p-q\n",
      "--q-p-o-n-m-l-k-j-i-h-g-f-e-d-c-b-c-d-e-f-g-h-i-j-k-l-m-n-o-p-q--\n",
      "----q-p-o-n-m-l-k-j-i-h-g-f-e-d-c-d-e-f-g-h-i-j-k-l-m-n-o-p-q----\n",
      "------q-p-o-n-m-l-k-j-i-h-g-f-e-d-e-f-g-h-i-j-k-l-m-n-o-p-q------\n",
      "--------q-p-o-n-m-l-k-j-i-h-g-f-e-f-g-h-i-j-k-l-m-n-o-p-q--------\n",
      "----------q-p-o-n-m-l-k-j-i-h-g-f-g-h-i-j-k-l-m-n-o-p-q----------\n",
      "------------q-p-o-n-m-l-k-j-i-h-g-h-i-j-k-l-m-n-o-p-q------------\n",
      "--------------q-p-o-n-m-l-k-j-i-h-i-j-k-l-m-n-o-p-q--------------\n",
      "----------------q-p-o-n-m-l-k-j-i-j-k-l-m-n-o-p-q----------------\n",
      "------------------q-p-o-n-m-l-k-j-k-l-m-n-o-p-q------------------\n",
      "--------------------q-p-o-n-m-l-k-l-m-n-o-p-q--------------------\n",
      "----------------------q-p-o-n-m-l-m-n-o-p-q----------------------\n",
      "------------------------q-p-o-n-m-n-o-p-q------------------------\n",
      "--------------------------q-p-o-n-o-p-q--------------------------\n",
      "----------------------------q-p-o-p-q----------------------------\n",
      "------------------------------q-p-q------------------------------\n",
      "--------------------------------q--------------------------------\n"
     ]
    }
   ],
   "source": [
    "size = 17\n",
    "\n",
    "alpha = \"abcdefghijklmnopqrstuvwxyz\"\n",
    "data = [alpha[i] for i in range(size)]\n",
    "items = list(range(size))\n",
    "items = items[:-1]+items[::-1]\n",
    "for i in items:\n",
    "    temp = data[-(i+1):]\n",
    "    row = temp[::-1]+temp[1:]\n",
    "    print(\"-\".join(row).center(size*4-3, \"-\"))"
   ]
  },
  {
   "cell_type": "code",
   "execution_count": 327,
   "id": "9f6e715f",
   "metadata": {},
   "outputs": [
    {
     "data": {
      "text/plain": [
       "['1', 'a', '1', 'v']"
      ]
     },
     "execution_count": 327,
     "metadata": {},
     "output_type": "execute_result"
    }
   ],
   "source": [
    "s = '1 a 1 v'\n",
    "s.split()"
   ]
  },
  {
   "cell_type": "code",
   "execution_count": 328,
   "id": "34feeb4d",
   "metadata": {},
   "outputs": [
    {
     "data": {
      "text/plain": [
       "'1 A 1 V'"
      ]
     },
     "execution_count": 328,
     "metadata": {},
     "output_type": "execute_result"
    }
   ],
   "source": [
    "#Incorrect\n",
    "' '.join([name.capitalize() for name in s.split()])"
   ]
  },
  {
   "cell_type": "code",
   "execution_count": 329,
   "id": "63891c18",
   "metadata": {},
   "outputs": [
    {
     "data": {
      "text/plain": [
       "'1 A 1 V'"
      ]
     },
     "execution_count": 329,
     "metadata": {},
     "output_type": "execute_result"
    }
   ],
   "source": [
    "#Correct\n",
    "for i in s.split():\n",
    "    s = s.replace(i, i.capitalize())\n",
    "s"
   ]
  },
  {
   "cell_type": "code",
   "execution_count": 357,
   "id": "8fa0d4f9",
   "metadata": {},
   "outputs": [],
   "source": [
    "string = \"BANANA\""
   ]
  },
  {
   "cell_type": "code",
   "execution_count": 358,
   "id": "54cb3d18",
   "metadata": {},
   "outputs": [
    {
     "name": "stdout",
     "output_type": "stream",
     "text": [
      "Stuart 12\n"
     ]
    }
   ],
   "source": [
    "vowel = \"AEIOU\"\n",
    "\n",
    "sc = 0\n",
    "kc = 0\n",
    "x = len(string)\n",
    "\n",
    "for i in range(x):\n",
    "    if string[i] in vowel:\n",
    "        kc += x - i\n",
    "    else:\n",
    "        sc += x - i\n",
    "if sc > kc:\n",
    "    print(\"Stuart\", str(sc))\n",
    "elif kc > sc:\n",
    "    print(\"Kevin\", str(kc))\n",
    "else:\n",
    "    print(\"Draw\")"
   ]
  },
  {
   "cell_type": "code",
   "execution_count": 40,
   "id": "aa0ededa",
   "metadata": {},
   "outputs": [],
   "source": [
    "string = 'AABCAAADA'\n",
    "k = 3"
   ]
  },
  {
   "cell_type": "code",
   "execution_count": 41,
   "id": "5cf54986",
   "metadata": {},
   "outputs": [
    {
     "data": {
      "text/plain": [
       "3"
      ]
     },
     "execution_count": 41,
     "metadata": {},
     "output_type": "execute_result"
    }
   ],
   "source": [
    "n = len(string)//k\n",
    "n"
   ]
  },
  {
   "cell_type": "code",
   "execution_count": 49,
   "id": "9cb11055",
   "metadata": {},
   "outputs": [
    {
     "name": "stdout",
     "output_type": "stream",
     "text": [
      "AB\n",
      "CA\n",
      "AD\n"
     ]
    }
   ],
   "source": [
    "i = 0\n",
    "\n",
    "u = []\n",
    "while i < len(string):\n",
    "    s = [c for c in string[i:i+n]]\n",
    "    sub = []\n",
    "    for c in s:\n",
    "        if c not in sub:\n",
    "            sub.append(c)\n",
    "    u.append(''.join(sub))\n",
    "    i += n\n",
    "\n",
    "for u_i in u:\n",
    "    print(u_i)"
   ]
  },
  {
   "cell_type": "code",
   "execution_count": 51,
   "id": "d57784fd",
   "metadata": {},
   "outputs": [
    {
     "name": "stdout",
     "output_type": "stream",
     "text": [
      "{'A': None, 'B': None}\n",
      "AB\n",
      "{'C': None, 'A': None}\n",
      "CA\n",
      "{'A': None, 'D': None}\n",
      "AD\n"
     ]
    }
   ],
   "source": [
    "l = len(string)//k\n",
    "for i in range(l):\n",
    "    print(dict.fromkeys(string[i*k:(i*k)+k]))\n",
    "    print(''.join(dict.fromkeys(string[i*k:(i*k)+k])))"
   ]
  },
  {
   "cell_type": "code",
   "execution_count": 52,
   "id": "236862a5",
   "metadata": {},
   "outputs": [],
   "source": [
    "A = [1, 2]\n",
    "B = [3, 4]"
   ]
  },
  {
   "cell_type": "code",
   "execution_count": 55,
   "id": "26d9e847",
   "metadata": {},
   "outputs": [
    {
     "data": {
      "text/plain": [
       "[(1, 3), (1, 4), (2, 3), (2, 4)]"
      ]
     },
     "execution_count": 55,
     "metadata": {},
     "output_type": "execute_result"
    }
   ],
   "source": [
    "[(x,y) for x in A for y in B]"
   ]
  },
  {
   "cell_type": "code",
   "execution_count": 56,
   "id": "c9ee207e",
   "metadata": {},
   "outputs": [],
   "source": [
    "from itertools import product"
   ]
  },
  {
   "cell_type": "code",
   "execution_count": 57,
   "id": "377f0dbc",
   "metadata": {},
   "outputs": [
    {
     "name": "stdout",
     "output_type": "stream",
     "text": [
      "1 2\n",
      "3 4\n"
     ]
    }
   ],
   "source": [
    "list1 =list(map(int, input().split()))\n",
    "list2 =list(map(int, input().split()))"
   ]
  },
  {
   "cell_type": "code",
   "execution_count": 58,
   "id": "8b634e6a",
   "metadata": {},
   "outputs": [],
   "source": [
    "flist = list(product(list1, list2))"
   ]
  },
  {
   "cell_type": "code",
   "execution_count": 60,
   "id": "c4f05f56",
   "metadata": {},
   "outputs": [
    {
     "name": "stdout",
     "output_type": "stream",
     "text": [
      "(1, 3) (1, 4) (2, 3) (2, 4)\n"
     ]
    }
   ],
   "source": [
    "print(*flist)"
   ]
  },
  {
   "cell_type": "code",
   "execution_count": 61,
   "id": "eddb7216",
   "metadata": {},
   "outputs": [],
   "source": [
    "from itertools import permutations"
   ]
  },
  {
   "cell_type": "code",
   "execution_count": 88,
   "id": "8aef0cf6",
   "metadata": {},
   "outputs": [
    {
     "name": "stdout",
     "output_type": "stream",
     "text": [
      "HACK 2\n"
     ]
    }
   ],
   "source": [
    "S = input().split()"
   ]
  },
  {
   "cell_type": "code",
   "execution_count": 89,
   "id": "d6f20b26",
   "metadata": {},
   "outputs": [],
   "source": [
    "perm = sorted([''.join(each) for each in list(permutations(S[0], int(S[1])))])"
   ]
  },
  {
   "cell_type": "code",
   "execution_count": 90,
   "id": "d70e56f8",
   "metadata": {},
   "outputs": [
    {
     "name": "stdout",
     "output_type": "stream",
     "text": [
      "AC\n",
      "AH\n",
      "AK\n",
      "CA\n",
      "CH\n",
      "CK\n",
      "HA\n",
      "HC\n",
      "HK\n",
      "KA\n",
      "KC\n",
      "KH\n"
     ]
    }
   ],
   "source": [
    "for each in perm:\n",
    "    print(each)"
   ]
  },
  {
   "cell_type": "code",
   "execution_count": 91,
   "id": "8f260204",
   "metadata": {},
   "outputs": [],
   "source": [
    "from itertools import combinations"
   ]
  },
  {
   "cell_type": "code",
   "execution_count": 108,
   "id": "4b6507de",
   "metadata": {},
   "outputs": [
    {
     "name": "stdout",
     "output_type": "stream",
     "text": [
      "HACK 2\n"
     ]
    }
   ],
   "source": [
    "S, k = input().split()"
   ]
  },
  {
   "cell_type": "code",
   "execution_count": 115,
   "id": "a894972a",
   "metadata": {},
   "outputs": [
    {
     "name": "stdout",
     "output_type": "stream",
     "text": [
      "A\n",
      "C\n",
      "H\n",
      "K\n",
      "AC\n",
      "AH\n",
      "AK\n",
      "CH\n",
      "CK\n",
      "HK\n"
     ]
    }
   ],
   "source": [
    "for i in range(1, int(k)+1):\n",
    "    for j in combinations(sorted(S), i):\n",
    "        print(''.join(j))"
   ]
  },
  {
   "cell_type": "code",
   "execution_count": 116,
   "id": "257f1edc",
   "metadata": {},
   "outputs": [],
   "source": [
    "from itertools import combinations_with_replacement"
   ]
  },
  {
   "cell_type": "code",
   "execution_count": 117,
   "id": "375c547c",
   "metadata": {},
   "outputs": [
    {
     "name": "stdout",
     "output_type": "stream",
     "text": [
      "HACK 2\n"
     ]
    }
   ],
   "source": [
    "S, k = input().split()"
   ]
  },
  {
   "cell_type": "code",
   "execution_count": 120,
   "id": "1e076247",
   "metadata": {},
   "outputs": [
    {
     "name": "stdout",
     "output_type": "stream",
     "text": [
      "AA\n",
      "AC\n",
      "AH\n",
      "AK\n",
      "CC\n",
      "CH\n",
      "CK\n",
      "HH\n",
      "HK\n",
      "KK\n"
     ]
    }
   ],
   "source": [
    "for each in combinations_with_replacement(sorted(S), int(k)):\n",
    "        print(''.join(each))"
   ]
  },
  {
   "cell_type": "code",
   "execution_count": 158,
   "id": "000c67cd",
   "metadata": {},
   "outputs": [
    {
     "name": "stdout",
     "output_type": "stream",
     "text": [
      "1222311\n"
     ]
    }
   ],
   "source": [
    "S = input()"
   ]
  },
  {
   "cell_type": "code",
   "execution_count": 159,
   "id": "dddd5ee8",
   "metadata": {},
   "outputs": [
    {
     "name": "stdout",
     "output_type": "stream",
     "text": [
      "(1, 1) (3, 2) (1, 3) (2, 1)\n"
     ]
    }
   ],
   "source": [
    "i = 0\n",
    "count = 0\n",
    "compressed_str = []\n",
    "\n",
    "while i < len(S):\n",
    "    ch_tuple = ()\n",
    "    for j in range(i, len(S)):\n",
    "        if S[i] == S[j]:\n",
    "            count += 1\n",
    "        else:\n",
    "            break\n",
    "    \n",
    "    ch_tuple = (count, int(S[i]))\n",
    "    compressed_str.append(ch_tuple)\n",
    "    i += count\n",
    "    count = 0\n",
    "\n",
    "print(*compressed_str)"
   ]
  },
  {
   "cell_type": "code",
   "execution_count": 178,
   "id": "dd42c9e2",
   "metadata": {},
   "outputs": [],
   "source": [
    "from itertools import combinations"
   ]
  },
  {
   "cell_type": "code",
   "execution_count": 214,
   "id": "ff5dcc27",
   "metadata": {},
   "outputs": [
    {
     "name": "stdout",
     "output_type": "stream",
     "text": [
      "4\n",
      "a a c d\n",
      "2\n"
     ]
    }
   ],
   "source": [
    "N = int(input())\n",
    "char_list = input().split(' ')\n",
    "K = int(input())"
   ]
  },
  {
   "cell_type": "code",
   "execution_count": 215,
   "id": "def80564",
   "metadata": {},
   "outputs": [
    {
     "data": {
      "text/plain": [
       "[(1, 'a'), (2, 'a'), (3, 'c'), (4, 'd')]"
      ]
     },
     "execution_count": 215,
     "metadata": {},
     "output_type": "execute_result"
    }
   ],
   "source": [
    "index_char_list = [(i, char_list[i-1]) for i in range(1, len(char_list)+1)]\n",
    "index_char_list"
   ]
  },
  {
   "cell_type": "code",
   "execution_count": 216,
   "id": "731e18cf",
   "metadata": {},
   "outputs": [
    {
     "data": {
      "text/plain": [
       "[(1, 2), (1, 3), (1, 4), (2, 3), (2, 4), (3, 4)]"
      ]
     },
     "execution_count": 216,
     "metadata": {},
     "output_type": "execute_result"
    }
   ],
   "source": [
    "index_list = list(combinations(range(1, len(char_list)+1), 2))\n",
    "index_list"
   ]
  },
  {
   "cell_type": "code",
   "execution_count": 217,
   "id": "6b167af4",
   "metadata": {},
   "outputs": [
    {
     "data": {
      "text/plain": [
       "[1, 2]"
      ]
     },
     "execution_count": 217,
     "metadata": {},
     "output_type": "execute_result"
    }
   ],
   "source": [
    "a_indices = [i+1 for i in range(0, len(index_char_list)) if index_char_list[i][1] == 'a']\n",
    "a_indices"
   ]
  },
  {
   "cell_type": "code",
   "execution_count": 218,
   "id": "b25dfaeb",
   "metadata": {},
   "outputs": [
    {
     "name": "stdout",
     "output_type": "stream",
     "text": [
      "0.8333\n"
     ]
    }
   ],
   "source": [
    "a_count = 0\n",
    "\n",
    "for index_tuple in index_list:\n",
    "    if (index_tuple[0] in a_indices) or (index_tuple[1] in a_indices):\n",
    "        a_count += 1\n",
    "\n",
    "print(\"%.4f\" % (a_count/len(index_list)))"
   ]
  },
  {
   "cell_type": "code",
   "execution_count": 219,
   "id": "5afbb734",
   "metadata": {},
   "outputs": [
    {
     "name": "stdout",
     "output_type": "stream",
     "text": [
      "0.8333\n"
     ]
    }
   ],
   "source": [
    "com = list(combinations(char_list, K))\n",
    "tol = [i for i in com  if \"a\" in i ]\n",
    "print(f'{(len(tol)/len(com)):.4f}')"
   ]
  },
  {
   "cell_type": "code",
   "execution_count": 220,
   "id": "144100c9",
   "metadata": {},
   "outputs": [
    {
     "name": "stdout",
     "output_type": "stream",
     "text": [
      "4\n",
      "a a c d\n",
      "2\n",
      "0.8333\n"
     ]
    }
   ],
   "source": [
    "from itertools import combinations\n",
    "\n",
    "N = int(input())\n",
    "char_list = input().split(' ')\n",
    "K = int(input())\n",
    "\n",
    "index_char_list = [(i, char_list[i-1]) for i in range(1, len(char_list)+1)]\n",
    "\n",
    "index_list = list(combinations(range(1, len(char_list)+1), 2))\n",
    "\n",
    "a_indices = [i+1 for i in range(0, len(index_char_list)) if index_char_list[i][1] == 'a']\n",
    "\n",
    "a_count = 0\n",
    "for index_tuple in index_list:\n",
    "    if (index_tuple[0] in a_indices) or (index_tuple[1] in a_indices):\n",
    "        a_count += 1\n",
    "            \n",
    "print(\"%.4f\" % (a_count/len(index_list)))"
   ]
  },
  {
   "cell_type": "code",
   "execution_count": null,
   "id": "3aceb644",
   "metadata": {},
   "outputs": [],
   "source": [
    "3 1000\n",
    "2 5 4\n",
    "3 7 8 9 \n",
    "5 5 7 8 9 10 "
   ]
  },
  {
   "cell_type": "code",
   "execution_count": 11,
   "id": "b7ee59c8",
   "metadata": {},
   "outputs": [
    {
     "name": "stdout",
     "output_type": "stream",
     "text": [
      "3 1000\n"
     ]
    }
   ],
   "source": [
    "K, M = input().split(' ')"
   ]
  },
  {
   "cell_type": "code",
   "execution_count": 16,
   "id": "ca035ae4",
   "metadata": {},
   "outputs": [
    {
     "name": "stdout",
     "output_type": "stream",
     "text": [
      "2 5 4\n",
      "3 7 8 9\n",
      "5 5 7 8 9 10\n"
     ]
    },
    {
     "data": {
      "text/plain": [
       "[[5, 4], [7, 8, 9], [5, 7, 8, 9, 10]]"
      ]
     },
     "execution_count": 16,
     "metadata": {},
     "output_type": "execute_result"
    }
   ],
   "source": [
    "line = 0\n",
    "lists = []\n",
    "while line < int(K):\n",
    "    j = 1\n",
    "    l = input().split(' ')\n",
    "    each_list = []\n",
    "    while j <= int(l[0]):\n",
    "        each_list.append(int(l[j]))\n",
    "        j += 1\n",
    "    lists.append(each_list)\n",
    "    line += 1\n",
    "lists"
   ]
  },
  {
   "cell_type": "code",
   "execution_count": 30,
   "id": "578f6a81",
   "metadata": {},
   "outputs": [],
   "source": [
    "import itertools"
   ]
  },
  {
   "cell_type": "code",
   "execution_count": 33,
   "id": "2148de6c",
   "metadata": {},
   "outputs": [
    {
     "data": {
      "text/plain": [
       "[(5, 7, 5),\n",
       " (5, 7, 7),\n",
       " (5, 7, 8),\n",
       " (5, 7, 9),\n",
       " (5, 7, 10),\n",
       " (5, 8, 5),\n",
       " (5, 8, 7),\n",
       " (5, 8, 8),\n",
       " (5, 8, 9),\n",
       " (5, 8, 10),\n",
       " (5, 9, 5),\n",
       " (5, 9, 7),\n",
       " (5, 9, 8),\n",
       " (5, 9, 9),\n",
       " (5, 9, 10),\n",
       " (4, 7, 5),\n",
       " (4, 7, 7),\n",
       " (4, 7, 8),\n",
       " (4, 7, 9),\n",
       " (4, 7, 10),\n",
       " (4, 8, 5),\n",
       " (4, 8, 7),\n",
       " (4, 8, 8),\n",
       " (4, 8, 9),\n",
       " (4, 8, 10),\n",
       " (4, 9, 5),\n",
       " (4, 9, 7),\n",
       " (4, 9, 8),\n",
       " (4, 9, 9),\n",
       " (4, 9, 10)]"
      ]
     },
     "execution_count": 33,
     "metadata": {},
     "output_type": "execute_result"
    }
   ],
   "source": [
    "lists = list(itertools.product(*lists))\n",
    "lists"
   ]
  },
  {
   "cell_type": "code",
   "execution_count": 41,
   "id": "6c38a700",
   "metadata": {},
   "outputs": [],
   "source": [
    "square_sums = []\n",
    "\n",
    "for dyna_list in lists:\n",
    "    square_sum = 0\n",
    "    for elm in dyna_list:\n",
    "        square_sum += elm**2\n",
    "    square_sums.append(square_sum%int(M))"
   ]
  },
  {
   "cell_type": "code",
   "execution_count": 42,
   "id": "8e415c3b",
   "metadata": {},
   "outputs": [
    {
     "data": {
      "text/plain": [
       "206"
      ]
     },
     "execution_count": 42,
     "metadata": {},
     "output_type": "execute_result"
    }
   ],
   "source": [
    "max(square_sums)"
   ]
  },
  {
   "cell_type": "code",
   "execution_count": 13,
   "id": "f3526e7f",
   "metadata": {},
   "outputs": [
    {
     "name": "stdout",
     "output_type": "stream",
     "text": [
      "10\n",
      "2 3 4 5 6 8 7 6 5 18\n",
      "6\n",
      "6 55\n",
      "6 45\n",
      "6 55\n",
      "4 40\n",
      "18 60\n",
      "10 50\n"
     ]
    }
   ],
   "source": [
    "X = int(input())\n",
    "shoe_sizes = input().split(' ')\n",
    "N = int(input())\n",
    "i = 0\n",
    "shoe_size_price = []\n",
    "for i in range(0, N):\n",
    "    shoe = input().split(' ')\n",
    "    shoe_size_price.append(tuple(shoe))"
   ]
  },
  {
   "cell_type": "code",
   "execution_count": 21,
   "id": "289c25fa",
   "metadata": {},
   "outputs": [
    {
     "data": {
      "text/plain": [
       "[2, 3, 4, 5, 6, 8, 7, 6, 5, 18]"
      ]
     },
     "execution_count": 21,
     "metadata": {},
     "output_type": "execute_result"
    }
   ],
   "source": [
    "shoe_sizes = [int(x) for x in shoe_sizes]\n",
    "shoe_sizes"
   ]
  },
  {
   "cell_type": "code",
   "execution_count": 14,
   "id": "bd2c9cdd",
   "metadata": {},
   "outputs": [
    {
     "data": {
      "text/plain": [
       "[(6, 55), (6, 45), (6, 55), (4, 40), (18, 60), (10, 50)]"
      ]
     },
     "execution_count": 14,
     "metadata": {},
     "output_type": "execute_result"
    }
   ],
   "source": [
    "shoe_size_price = [(int(x[0]), int(x[1])) for x in shoe_size_price]\n",
    "shoe_size_price"
   ]
  },
  {
   "cell_type": "code",
   "execution_count": 29,
   "id": "40319d85",
   "metadata": {},
   "outputs": [
    {
     "name": "stdout",
     "output_type": "stream",
     "text": [
      "200\n"
     ]
    }
   ],
   "source": [
    "total = 0\n",
    "\n",
    "for k, v in shoe_size_price:\n",
    "    if k in shoe_sizes:\n",
    "        total += v\n",
    "        shoe_sizes.remove(k)\n",
    "\n",
    "print(total)"
   ]
  },
  {
   "cell_type": "code",
   "execution_count": 30,
   "id": "b0865fe9",
   "metadata": {},
   "outputs": [],
   "source": [
    "import collections"
   ]
  },
  {
   "cell_type": "code",
   "execution_count": 31,
   "id": "f9615938",
   "metadata": {},
   "outputs": [
    {
     "name": "stdout",
     "output_type": "stream",
     "text": [
      "10\n",
      "2 3 4 5 6 8 7 6 5 18\n"
     ]
    }
   ],
   "source": [
    "input()\n",
    "shoes = list(map(int,input().split()))"
   ]
  },
  {
   "cell_type": "code",
   "execution_count": 32,
   "id": "ee7d3f5d",
   "metadata": {},
   "outputs": [
    {
     "data": {
      "text/plain": [
       "Counter({2: 1, 3: 1, 4: 1, 5: 2, 6: 2, 8: 1, 7: 1, 18: 1})"
      ]
     },
     "execution_count": 32,
     "metadata": {},
     "output_type": "execute_result"
    }
   ],
   "source": [
    "shoesCollection = collections.Counter(shoes)\n",
    "shoesCollection"
   ]
  },
  {
   "cell_type": "code",
   "execution_count": 33,
   "id": "61c7ccba",
   "metadata": {},
   "outputs": [
    {
     "name": "stdout",
     "output_type": "stream",
     "text": [
      "6\n",
      "6 55\n",
      "6 45\n",
      "6 55\n",
      "4 40\n",
      "18 60\n",
      "10 50\n",
      "200\n"
     ]
    }
   ],
   "source": [
    "sale = 0\n",
    "for i in range(int(input())):\n",
    "    s,n = map(int,input().split())\n",
    "    if shoesCollection[s] > 0:\n",
    "        sale += n\n",
    "        shoesCollection[s] -= 1\n",
    "print(sale)"
   ]
  },
  {
   "cell_type": "code",
   "execution_count": 40,
   "id": "bbb34ce9",
   "metadata": {},
   "outputs": [],
   "source": [
    "from collections import defaultdict"
   ]
  },
  {
   "cell_type": "code",
   "execution_count": 94,
   "id": "f60ba37f",
   "metadata": {},
   "outputs": [
    {
     "name": "stdout",
     "output_type": "stream",
     "text": [
      "5 3\n"
     ]
    }
   ],
   "source": [
    "n, m = map(int,input().split())"
   ]
  },
  {
   "cell_type": "code",
   "execution_count": 95,
   "id": "9a42644a",
   "metadata": {},
   "outputs": [],
   "source": [
    "d = defaultdict(list)"
   ]
  },
  {
   "cell_type": "code",
   "execution_count": 96,
   "id": "460c8148",
   "metadata": {},
   "outputs": [
    {
     "name": "stdout",
     "output_type": "stream",
     "text": [
      "a\n",
      "a\n",
      "b\n",
      "a\n",
      "b\n",
      "a\n",
      "c\n",
      "b\n"
     ]
    }
   ],
   "source": [
    "for i in range(0, n):\n",
    "    d['A'].append(input())\n",
    "for i in range(0, m):\n",
    "    d['B'].append(input())"
   ]
  },
  {
   "cell_type": "code",
   "execution_count": 97,
   "id": "35ef874a",
   "metadata": {},
   "outputs": [],
   "source": [
    "indices_list = []\n",
    "for j, y in enumerate(d['B']):\n",
    "    index_list = []\n",
    "    for i, x in enumerate(d['A']):\n",
    "        if y == x:\n",
    "            index_list.append(i+1)\n",
    "    if len(index_list) == 0:\n",
    "        index_list.append(-1)\n",
    "    indices_list.append(index_list)\n"
   ]
  },
  {
   "cell_type": "code",
   "execution_count": 98,
   "id": "80f24451",
   "metadata": {},
   "outputs": [
    {
     "name": "stdout",
     "output_type": "stream",
     "text": [
      "1 2 4\n",
      "-1\n",
      "3 5\n"
     ]
    }
   ],
   "source": [
    "for item in indices_list:\n",
    "    print(*item)"
   ]
  },
  {
   "cell_type": "code",
   "execution_count": 99,
   "id": "a6e1e501",
   "metadata": {},
   "outputs": [
    {
     "name": "stdout",
     "output_type": "stream",
     "text": [
      "5 3\n",
      "a\n",
      "a\n",
      "b\n",
      "a\n",
      "b\n",
      "a\n",
      "1 2 4\n",
      "c\n",
      "-1\n",
      "b\n",
      "3 5\n"
     ]
    }
   ],
   "source": [
    "from collections import defaultdict\n",
    "d = defaultdict(list)\n",
    "n,m = map(int,input().split())\n",
    "for i in range(1,n+1):\n",
    "    d[input()].append(i)\n",
    "for i in range(m):\n",
    "    temp = input()\n",
    "    if temp in d:\n",
    "        print(*d[temp]) \n",
    "    else: \n",
    "        print(-1)"
   ]
  },
  {
   "cell_type": "code",
   "execution_count": null,
   "id": "a0bea38d",
   "metadata": {},
   "outputs": [],
   "source": [
    "from collections import defaultdict\n",
    "\n",
    "n, m = map(int,input().split())\n",
    "\n",
    "d = defaultdict(list)\n",
    "\n",
    "for i in range(0, n):\n",
    "    d['A'].append(input())\n",
    "for i in range(0, m):\n",
    "    d['B'].append(input())\n",
    "    \n",
    "indices_list = []\n",
    "for j, y in enumerate(d['B']):\n",
    "    index_list = []\n",
    "    for i, x in enumerate(d['A']):\n",
    "        if y == x:\n",
    "            index_list.append(i+1)\n",
    "    if len(index_list) == 0:\n",
    "        index_list.append(-1)\n",
    "    indices_list.append(index_list)\n",
    "    \n",
    "for item in indices_list:\n",
    "    print(*item)"
   ]
  },
  {
   "cell_type": "code",
   "execution_count": 100,
   "id": "6d02c78d",
   "metadata": {},
   "outputs": [],
   "source": [
    "from collections import namedtuple"
   ]
  },
  {
   "cell_type": "code",
   "execution_count": 122,
   "id": "afd6e610",
   "metadata": {},
   "outputs": [
    {
     "name": "stdout",
     "output_type": "stream",
     "text": [
      "5\n",
      "MARKS CLASS NAME ID\n"
     ]
    }
   ],
   "source": [
    "N = int(input())\n",
    "titles = input().split(' ')"
   ]
  },
  {
   "cell_type": "code",
   "execution_count": 126,
   "id": "5fadc4f4",
   "metadata": {},
   "outputs": [
    {
     "name": "stdout",
     "output_type": "stream",
     "text": [
      "92\n",
      "2\n",
      "Calum\n",
      "1\n",
      "82\n",
      "5\n",
      "Scott\n",
      "2\n",
      "94\n",
      "2\n",
      "Jason\n",
      "3\n",
      "55\n",
      "8\n",
      "Glenn\n",
      "4\n",
      "82\n",
      "2\n",
      "Fergus\n",
      "5\n",
      "3.8\n"
     ]
    }
   ],
   "source": [
    "# This solution still needs some work.\n",
    "Student = namedtuple('Student', ' '.join(titles))\n",
    "\n",
    "marks_sum = 0\n",
    "for i in range(0, N):\n",
    "    st = Student(ID = int(input()), MARKS = int(input()), NAME = input(), CLASS = int(input()))\n",
    "    marks_sum += st.MARKS\n",
    "    \n",
    "print(round(marks_sum/N, 2))"
   ]
  },
  {
   "cell_type": "code",
   "execution_count": 130,
   "id": "5357a98e",
   "metadata": {},
   "outputs": [
    {
     "name": "stdout",
     "output_type": "stream",
     "text": [
      "5\n",
      "MARKS CLASS NAME ID\n",
      "92 2 Calum 1\n",
      "82 5 Scott 2\n",
      "94 2 Jason 3\n",
      "55 8 Glenn 4\n",
      "82 2 Fergus 5\n",
      "81.00\n"
     ]
    }
   ],
   "source": [
    "from collections import namedtuple\n",
    "\n",
    "n = int(input())\n",
    "Student = namedtuple('Student', input())\n",
    "\n",
    "total = 0\n",
    "for _ in range(n):\n",
    "    s = Student(*input().split())\n",
    "    total += int(s.MARKS)\n",
    "\n",
    "print(f'{total / n:.2f}')"
   ]
  },
  {
   "cell_type": "code",
   "execution_count": 131,
   "id": "869e9dc5",
   "metadata": {},
   "outputs": [
    {
     "data": {
      "text/plain": [
       "__main__.Student"
      ]
     },
     "execution_count": 131,
     "metadata": {},
     "output_type": "execute_result"
    }
   ],
   "source": [
    "Student"
   ]
  },
  {
   "cell_type": "code",
   "execution_count": 132,
   "id": "e8e6f9b1",
   "metadata": {},
   "outputs": [],
   "source": [
    "from collections import OrderedDict"
   ]
  },
  {
   "cell_type": "code",
   "execution_count": 157,
   "id": "020b4f93",
   "metadata": {},
   "outputs": [
    {
     "name": "stdout",
     "output_type": "stream",
     "text": [
      "3\n"
     ]
    }
   ],
   "source": [
    "N = int(input())"
   ]
  },
  {
   "cell_type": "code",
   "execution_count": 156,
   "id": "78ae2986",
   "metadata": {},
   "outputs": [],
   "source": [
    "items_dict = OrderedDict()"
   ]
  },
  {
   "cell_type": "code",
   "execution_count": 160,
   "id": "5064ba29",
   "metadata": {},
   "outputs": [
    {
     "name": "stdout",
     "output_type": "stream",
     "text": [
      "s 2\n",
      "s v 3\n",
      "s 2\n"
     ]
    }
   ],
   "source": [
    "for i in range(N):\n",
    "    item_price = input().split(' ')\n",
    "    items_dict[' '.join(item_price[:-1])] = int(item_price[-1])"
   ]
  },
  {
   "cell_type": "code",
   "execution_count": 161,
   "id": "6fe8dd5d",
   "metadata": {},
   "outputs": [
    {
     "data": {
      "text/plain": [
       "OrderedDict([('CANDY', 5), ('APPLE JUICE', 10), ('s', 2), ('s v', 3)])"
      ]
     },
     "execution_count": 161,
     "metadata": {},
     "output_type": "execute_result"
    }
   ],
   "source": [
    "items_dict"
   ]
  },
  {
   "cell_type": "code",
   "execution_count": 163,
   "id": "50503306",
   "metadata": {},
   "outputs": [
    {
     "name": "stdout",
     "output_type": "stream",
     "text": [
      "3\n",
      "a 50\n",
      "b 42\n",
      "a 33\n",
      "a 83\n",
      "b 42\n"
     ]
    }
   ],
   "source": [
    "orders_dict = OrderedDict()\n",
    "input_ = int(input())\n",
    "for _ in range(input_):\n",
    "    item, space, price = input().rpartition(' ')\n",
    "    orders_dict[item] = orders_dict.get(item, 0) + int(price)\n",
    "for item, price in orders_dict.items():\n",
    "    print(item, price)"
   ]
  },
  {
   "cell_type": "code",
   "execution_count": 167,
   "id": "0afbdc6a",
   "metadata": {},
   "outputs": [
    {
     "data": {
      "text/plain": [
       "42"
      ]
     },
     "execution_count": 167,
     "metadata": {},
     "output_type": "execute_result"
    }
   ],
   "source": [
    "orders_dict.get('b', 0)"
   ]
  },
  {
   "cell_type": "markdown",
   "id": "8b45e665",
   "metadata": {},
   "source": [
    "### Word Order"
   ]
  },
  {
   "cell_type": "code",
   "execution_count": 168,
   "id": "9ad005e1",
   "metadata": {},
   "outputs": [
    {
     "name": "stdout",
     "output_type": "stream",
     "text": [
      "3\n"
     ]
    }
   ],
   "source": [
    "n = int(input())"
   ]
  },
  {
   "cell_type": "code",
   "execution_count": 179,
   "id": "fcbfe132",
   "metadata": {},
   "outputs": [
    {
     "name": "stdout",
     "output_type": "stream",
     "text": [
      "ali\n",
      "mahni\n",
      "mahni\n"
     ]
    }
   ],
   "source": [
    "words_dict = OrderedDict()\n",
    "for _ in range(n):\n",
    "    word = input()\n",
    "    if word not in words_dict:\n",
    "        words_dict[word] = 1\n",
    "    else:\n",
    "        words_dict[word] += 1"
   ]
  },
  {
   "cell_type": "code",
   "execution_count": 180,
   "id": "c5ac4ec8",
   "metadata": {},
   "outputs": [
    {
     "name": "stdout",
     "output_type": "stream",
     "text": [
      "2\n",
      "1 2\n"
     ]
    }
   ],
   "source": [
    "print(len(words_dict))\n",
    "print(*words_dict.values())"
   ]
  },
  {
   "cell_type": "markdown",
   "id": "ecd2f81d",
   "metadata": {},
   "source": [
    "### collections.deque()"
   ]
  },
  {
   "cell_type": "code",
   "execution_count": 181,
   "id": "39d1ff23",
   "metadata": {},
   "outputs": [],
   "source": [
    "from collections import deque"
   ]
  },
  {
   "cell_type": "code",
   "execution_count": 184,
   "id": "771a041c",
   "metadata": {},
   "outputs": [
    {
     "name": "stdout",
     "output_type": "stream",
     "text": [
      "6\n"
     ]
    }
   ],
   "source": [
    "n = int(input())"
   ]
  },
  {
   "cell_type": "code",
   "execution_count": 185,
   "id": "a7d9145d",
   "metadata": {},
   "outputs": [
    {
     "name": "stdout",
     "output_type": "stream",
     "text": [
      "append 1\n",
      "append 2\n",
      "append 3\n",
      "appendleft 4\n",
      "pop\n",
      "popleft\n"
     ]
    }
   ],
   "source": [
    "d = deque()\n",
    "for _ in range(n):\n",
    "    command = input().split(' ')\n",
    "    if command[0] == 'append':\n",
    "        d.append(command[1])\n",
    "    elif command[0] == 'appendleft':\n",
    "        d.appendleft(command[1])\n",
    "    elif command[0] == 'pop':\n",
    "        d.pop()\n",
    "    elif command[0] == 'popleft':\n",
    "        d.popleft()"
   ]
  },
  {
   "cell_type": "code",
   "execution_count": 187,
   "id": "060ab6c3",
   "metadata": {},
   "outputs": [
    {
     "name": "stdout",
     "output_type": "stream",
     "text": [
      "1 2\n"
     ]
    }
   ],
   "source": [
    "print(*d)"
   ]
  },
  {
   "cell_type": "markdown",
   "id": "ea235817",
   "metadata": {},
   "source": [
    "### Company Logo"
   ]
  },
  {
   "cell_type": "code",
   "execution_count": 226,
   "id": "62af4584",
   "metadata": {},
   "outputs": [],
   "source": [
    "from collections import OrderedDict\n",
    "from itertools import islice"
   ]
  },
  {
   "cell_type": "code",
   "execution_count": 208,
   "id": "50299686",
   "metadata": {},
   "outputs": [
    {
     "name": "stdout",
     "output_type": "stream",
     "text": [
      "eaaccdbbdb\n"
     ]
    },
    {
     "data": {
      "text/plain": [
       "'eaaccdbbdb'"
      ]
     },
     "execution_count": 208,
     "metadata": {},
     "output_type": "execute_result"
    }
   ],
   "source": [
    "s = input()\n",
    "s"
   ]
  },
  {
   "cell_type": "code",
   "execution_count": 209,
   "id": "7b3a847a",
   "metadata": {},
   "outputs": [
    {
     "data": {
      "text/plain": [
       "OrderedDict([('e', 1), ('a', 2), ('c', 2), ('d', 2), ('b', 3)])"
      ]
     },
     "execution_count": 209,
     "metadata": {},
     "output_type": "execute_result"
    }
   ],
   "source": [
    "chars_dict = OrderedDict()\n",
    "for char in s:\n",
    "    if char not in chars_dict:\n",
    "        chars_dict[char] = 1\n",
    "    else:\n",
    "        chars_dict[char] += 1\n",
    "\n",
    "chars_dict"
   ]
  },
  {
   "cell_type": "code",
   "execution_count": 212,
   "id": "96a3a115",
   "metadata": {},
   "outputs": [
    {
     "data": {
      "text/plain": [
       "OrderedDict([('a', 2), ('b', 3), ('c', 2), ('d', 2), ('e', 1)])"
      ]
     },
     "execution_count": 212,
     "metadata": {},
     "output_type": "execute_result"
    }
   ],
   "source": [
    "sorted_char_dict = OrderedDict(sorted(chars_dict.items(), key=lambda x: x[0]))\n",
    "sorted_char_dict"
   ]
  },
  {
   "cell_type": "code",
   "execution_count": 233,
   "id": "6d4f09bb",
   "metadata": {},
   "outputs": [
    {
     "data": {
      "text/plain": [
       "OrderedDict([('b', 3), ('a', 2), ('c', 2), ('d', 2), ('e', 1)])"
      ]
     },
     "execution_count": 233,
     "metadata": {},
     "output_type": "execute_result"
    }
   ],
   "source": [
    "sorted_freq_dict = OrderedDict(sorted(sorted_char_dict.items(), key=lambda x: x[1], reverse=True))\n",
    "sorted_freq_dict"
   ]
  },
  {
   "cell_type": "code",
   "execution_count": 232,
   "id": "c02b78f3",
   "metadata": {},
   "outputs": [
    {
     "name": "stdout",
     "output_type": "stream",
     "text": [
      "b 3\n",
      "a 2\n",
      "c 2\n"
     ]
    }
   ],
   "source": [
    "for k, v in list(islice(sorted_freq_dict.items(), 3)):\n",
    "    print(k, v)"
   ]
  },
  {
   "cell_type": "markdown",
   "id": "0b89e84c",
   "metadata": {},
   "source": [
    "### Pilling Up!"
   ]
  },
  {
   "cell_type": "code",
   "execution_count": 234,
   "id": "5318aca2",
   "metadata": {},
   "outputs": [],
   "source": [
    "from collections import deque"
   ]
  },
  {
   "cell_type": "code",
   "execution_count": 235,
   "id": "c6f445c3",
   "metadata": {},
   "outputs": [
    {
     "name": "stdout",
     "output_type": "stream",
     "text": [
      "2\n"
     ]
    }
   ],
   "source": [
    "T = int(input())"
   ]
  },
  {
   "cell_type": "code",
   "execution_count": 249,
   "id": "604326b3",
   "metadata": {},
   "outputs": [
    {
     "name": "stdout",
     "output_type": "stream",
     "text": [
      "6\n",
      "4 3 2 1 3 4\n",
      "3\n",
      "1 3 2\n"
     ]
    }
   ],
   "source": [
    "all_cubes = deque()\n",
    "for _ in range(T):\n",
    "    n = int(input())\n",
    "    cubes = deque(map(int, input().split(' ')))\n",
    "    all_cubes.append(cubes)"
   ]
  },
  {
   "cell_type": "code",
   "execution_count": 310,
   "id": "8537b848",
   "metadata": {},
   "outputs": [
    {
     "data": {
      "text/plain": [
       "deque([deque([4, 4, 1]), deque([1, 3, 2])])"
      ]
     },
     "execution_count": 310,
     "metadata": {},
     "output_type": "execute_result"
    }
   ],
   "source": [
    "all_cubes = deque([deque([4, 4, 1]), deque([1, 3, 2])])\n",
    "all_cubes"
   ]
  },
  {
   "cell_type": "code",
   "execution_count": 311,
   "id": "bf6d2663",
   "metadata": {},
   "outputs": [
    {
     "name": "stdout",
     "output_type": "stream",
     "text": [
      "Yes\n",
      "No\n"
     ]
    }
   ],
   "source": [
    "for cubes in all_cubes:\n",
    "    if len(cubes) <= 2:\n",
    "        print('Yes')\n",
    "        continue\n",
    "    \n",
    "    lower_level = max(cubes[0], cubes[-1])\n",
    "    \n",
    "    while len(cubes) > 1:\n",
    "        if (cubes[0] >= cubes[-1]) and (cubes[0] <= lower_level):\n",
    "            lower_level = cubes.popleft()\n",
    "        elif (cubes[0] <= cubes[-1]) and (cubes[-1] <= lower_level):\n",
    "            lower_level = cubes.pop()\n",
    "        else:\n",
    "            print('No')\n",
    "            break\n",
    "\n",
    "    if len(cubes) == 1:\n",
    "        if lower_level >= cubes[0]:\n",
    "            print('Yes')\n",
    "        else:\n",
    "            print('No')\n",
    "        cubes.pop()"
   ]
  },
  {
   "cell_type": "markdown",
   "id": "1a5d868f",
   "metadata": {},
   "source": [
    "### Polar Coordinates"
   ]
  },
  {
   "cell_type": "code",
   "execution_count": 333,
   "id": "ac45df84",
   "metadata": {},
   "outputs": [],
   "source": [
    "import cmath"
   ]
  },
  {
   "cell_type": "code",
   "execution_count": 353,
   "id": "c89d50a5",
   "metadata": {},
   "outputs": [
    {
     "name": "stdout",
     "output_type": "stream",
     "text": [
      "1-2j\n"
     ]
    }
   ],
   "source": [
    "z = complex(input())"
   ]
  },
  {
   "cell_type": "code",
   "execution_count": 354,
   "id": "b118efbd",
   "metadata": {},
   "outputs": [
    {
     "name": "stdout",
     "output_type": "stream",
     "text": [
      "2.23606797749979\n",
      "-1.1071487177940904\n"
     ]
    }
   ],
   "source": [
    "print(abs(z))\n",
    "print(cmath.phase(z))"
   ]
  },
  {
   "cell_type": "markdown",
   "id": "d053faf4",
   "metadata": {},
   "source": [
    "### Find Angle MBC"
   ]
  },
  {
   "cell_type": "code",
   "execution_count": 357,
   "id": "59e60930",
   "metadata": {},
   "outputs": [],
   "source": [
    "import math"
   ]
  },
  {
   "cell_type": "code",
   "execution_count": 370,
   "id": "11702f1c",
   "metadata": {},
   "outputs": [
    {
     "name": "stdout",
     "output_type": "stream",
     "text": [
      "10\n",
      "10\n"
     ]
    }
   ],
   "source": [
    "AB = int(input())\n",
    "BC = int(input())"
   ]
  },
  {
   "cell_type": "code",
   "execution_count": 375,
   "id": "203353b7",
   "metadata": {},
   "outputs": [
    {
     "name": "stdout",
     "output_type": "stream",
     "text": [
      "45°\n"
     ]
    }
   ],
   "source": [
    "AC = math.sqrt(AB**2+BC**2)\n",
    "theta = math.acos(BC/AC)\n",
    "print(int(round(math.degrees(theta), 0)),'\\u00B0',sep='')"
   ]
  },
  {
   "cell_type": "markdown",
   "id": "3aaa7317",
   "metadata": {},
   "source": [
    "### Tirangle Quest 2"
   ]
  },
  {
   "cell_type": "code",
   "execution_count": 377,
   "id": "87ec4b14",
   "metadata": {},
   "outputs": [
    {
     "name": "stdout",
     "output_type": "stream",
     "text": [
      "5\n",
      "1\n",
      "121\n",
      "12321\n",
      "1234321\n",
      "123454321\n"
     ]
    }
   ],
   "source": [
    "for i in range(1, int(input())+1):\n",
    "    print(int((10**i-1)/9)**2)"
   ]
  },
  {
   "cell_type": "markdown",
   "id": "c9c574ed",
   "metadata": {},
   "source": [
    "### Mod Divmod"
   ]
  },
  {
   "cell_type": "code",
   "execution_count": 379,
   "id": "975f5153",
   "metadata": {},
   "outputs": [
    {
     "name": "stdout",
     "output_type": "stream",
     "text": [
      "177\n",
      "10\n"
     ]
    }
   ],
   "source": [
    "a = int(input())\n",
    "b = int(input())"
   ]
  },
  {
   "cell_type": "code",
   "execution_count": 382,
   "id": "16520a79",
   "metadata": {},
   "outputs": [
    {
     "name": "stdout",
     "output_type": "stream",
     "text": [
      "17\n",
      "7\n",
      "(17, 7)\n"
     ]
    }
   ],
   "source": [
    "print(a//b)\n",
    "print(a%b)\n",
    "print(divmod(a, b))"
   ]
  },
  {
   "cell_type": "markdown",
   "id": "e8c00940",
   "metadata": {},
   "source": [
    "### Power - Mod Power"
   ]
  },
  {
   "cell_type": "code",
   "execution_count": 385,
   "id": "66c4bf67",
   "metadata": {},
   "outputs": [
    {
     "name": "stdout",
     "output_type": "stream",
     "text": [
      "3\n",
      "4\n",
      "5\n"
     ]
    }
   ],
   "source": [
    "a = int(input())\n",
    "b = int(input())\n",
    "m = int(input())"
   ]
  },
  {
   "cell_type": "code",
   "execution_count": 386,
   "id": "92980fdb",
   "metadata": {},
   "outputs": [
    {
     "name": "stdout",
     "output_type": "stream",
     "text": [
      "81\n",
      "1\n"
     ]
    }
   ],
   "source": [
    "print(pow(a, b))\n",
    "print(pow(a, b, m))"
   ]
  },
  {
   "cell_type": "markdown",
   "id": "49f9cbe2",
   "metadata": {},
   "source": [
    "### Integers Come In All Sizes"
   ]
  },
  {
   "cell_type": "code",
   "execution_count": 388,
   "id": "234baf9a",
   "metadata": {},
   "outputs": [
    {
     "name": "stdout",
     "output_type": "stream",
     "text": [
      "9\n",
      "29\n",
      "7\n",
      "27\n"
     ]
    }
   ],
   "source": [
    "a = int(input())\n",
    "b = int(input())\n",
    "c = int(input())\n",
    "d = int(input())"
   ]
  },
  {
   "cell_type": "code",
   "execution_count": 389,
   "id": "5cb6a5d6",
   "metadata": {},
   "outputs": [
    {
     "name": "stdout",
     "output_type": "stream",
     "text": [
      "4710194409608608369201743232\n"
     ]
    }
   ],
   "source": [
    "print(a**b+c**d)"
   ]
  },
  {
   "cell_type": "markdown",
   "id": "16e6b230",
   "metadata": {},
   "source": [
    "### Triangle Quest"
   ]
  },
  {
   "cell_type": "code",
   "execution_count": 391,
   "id": "d234ef53",
   "metadata": {},
   "outputs": [
    {
     "name": "stdout",
     "output_type": "stream",
     "text": [
      "5\n",
      "1\n",
      "22\n",
      "333\n",
      "4444\n"
     ]
    }
   ],
   "source": [
    "for i in range(1, int(input())):\n",
    "    print(i*((10**i-1)//9))"
   ]
  },
  {
   "cell_type": "markdown",
   "id": "2fea33d0",
   "metadata": {},
   "source": [
    "### Introduction to Sets"
   ]
  },
  {
   "cell_type": "code",
   "execution_count": 392,
   "id": "78ca0bb9",
   "metadata": {},
   "outputs": [],
   "source": [
    "def average(array):\n",
    "    distinct_heights = set(array)\n",
    "    if len(distinct_heights) == 0:\n",
    "        return 0\n",
    "    else:\n",
    "        return sum(distinct_heights)/len(distinct_heights)"
   ]
  },
  {
   "cell_type": "code",
   "execution_count": 403,
   "id": "d31678e3",
   "metadata": {},
   "outputs": [
    {
     "name": "stdout",
     "output_type": "stream",
     "text": [
      "1\n",
      "0\n",
      "0.000\n"
     ]
    }
   ],
   "source": [
    "n = int(input())\n",
    "arr = list(map(int, input().split()))\n",
    "print('{:.3f}'.format(average(arr)))"
   ]
  },
  {
   "cell_type": "markdown",
   "id": "9906a797",
   "metadata": {},
   "source": [
    "### No Idea!"
   ]
  },
  {
   "cell_type": "code",
   "execution_count": 421,
   "id": "fd8c6274",
   "metadata": {},
   "outputs": [
    {
     "name": "stdout",
     "output_type": "stream",
     "text": [
      "3 2\n",
      "1 5 3\n",
      "3 1\n",
      "5 7\n",
      "1\n"
     ]
    }
   ],
   "source": [
    "n, m = input().split()\n",
    "\n",
    "origin_set = input().split()\n",
    "\n",
    "A = set(input().split())\n",
    "B = set(input().split())\n",
    "print(sum([(i in A) - (i in B) for i in origin_set]))"
   ]
  },
  {
   "cell_type": "markdown",
   "id": "3922b5f7",
   "metadata": {},
   "source": [
    "### Symmetric Difference"
   ]
  },
  {
   "cell_type": "code",
   "execution_count": 436,
   "id": "3b0ef537",
   "metadata": {},
   "outputs": [
    {
     "name": "stdout",
     "output_type": "stream",
     "text": [
      "4\n",
      "2 4 5 9\n",
      "4\n",
      "2 4 11 12\n"
     ]
    }
   ],
   "source": [
    "M = int(input())\n",
    "a = set(map(int, input().split(' ')))\n",
    "N = int(input())\n",
    "b = set(map(int, input().split(' ')))"
   ]
  },
  {
   "cell_type": "code",
   "execution_count": 442,
   "id": "64f4afe8",
   "metadata": {},
   "outputs": [],
   "source": [
    "result = set()\n",
    "\n",
    "result.update(a.difference(b))\n",
    "result.update(b.difference(a))"
   ]
  },
  {
   "cell_type": "code",
   "execution_count": 446,
   "id": "07e1bbd2",
   "metadata": {},
   "outputs": [
    {
     "name": "stdout",
     "output_type": "stream",
     "text": [
      "5\n",
      "9\n",
      "11\n",
      "12\n"
     ]
    }
   ],
   "source": [
    "for each in sorted(list(result)):\n",
    "    print(each)"
   ]
  },
  {
   "cell_type": "markdown",
   "id": "c912634a",
   "metadata": {},
   "source": [
    "### Set .add()"
   ]
  },
  {
   "cell_type": "code",
   "execution_count": 451,
   "id": "2b050a42",
   "metadata": {},
   "outputs": [
    {
     "name": "stdout",
     "output_type": "stream",
     "text": [
      "UK\n",
      "China\n",
      "USA\n",
      "France\n",
      "New Zealnd\n",
      "UK\n",
      "France\n"
     ]
    }
   ],
   "source": [
    "stamps = set()\n",
    "for _ in range(int(input())):\n",
    "    stamps.add(input())"
   ]
  },
  {
   "cell_type": "code",
   "execution_count": 453,
   "id": "5ee0d9dd",
   "metadata": {},
   "outputs": [
    {
     "name": "stdout",
     "output_type": "stream",
     "text": [
      "5\n"
     ]
    }
   ],
   "source": [
    "print(len(stamps))"
   ]
  },
  {
   "cell_type": "markdown",
   "id": "16e43a1e",
   "metadata": {},
   "source": [
    "### Set .discard(), .remove() & .pop()"
   ]
  },
  {
   "cell_type": "code",
   "execution_count": 476,
   "id": "a212666b",
   "metadata": {},
   "outputs": [
    {
     "name": "stdout",
     "output_type": "stream",
     "text": [
      "9\n",
      "1 2 3 4 5 6 7 8 9\n",
      "10\n"
     ]
    }
   ],
   "source": [
    "n = int(input())\n",
    "s = set(map(int, input().split(' ')))\n",
    "N = int(input())"
   ]
  },
  {
   "cell_type": "code",
   "execution_count": 455,
   "id": "22e232dc",
   "metadata": {},
   "outputs": [
    {
     "name": "stdout",
     "output_type": "stream",
     "text": [
      "pop\n",
      "remove 9\n",
      "discard 9\n",
      "discard 8\n",
      "remove 7\n",
      "pop\n",
      "discard 6\n",
      "remove 5\n",
      "pop\n",
      "discard 5\n"
     ]
    }
   ],
   "source": [
    "commands = []\n",
    "\n",
    "for _ in range(N):\n",
    "    commands.append(input().split(' '))"
   ]
  },
  {
   "cell_type": "code",
   "execution_count": 468,
   "id": "07d80152",
   "metadata": {},
   "outputs": [
    {
     "data": {
      "text/plain": [
       "[['pop'],\n",
       " ['remove', '9'],\n",
       " ['discard', '9'],\n",
       " ['discard', '8'],\n",
       " ['remove', '7'],\n",
       " ['pop'],\n",
       " ['discard', '6'],\n",
       " ['remove', '5'],\n",
       " ['pop'],\n",
       " ['discard', '5']]"
      ]
     },
     "execution_count": 468,
     "metadata": {},
     "output_type": "execute_result"
    }
   ],
   "source": [
    "commands"
   ]
  },
  {
   "cell_type": "code",
   "execution_count": 477,
   "id": "a8709e93",
   "metadata": {},
   "outputs": [
    {
     "name": "stdout",
     "output_type": "stream",
     "text": [
      "4\n"
     ]
    }
   ],
   "source": [
    "for command in commands:\n",
    "    if command[0] == 'pop':\n",
    "        s.pop()\n",
    "    elif command[0] == 'discard':\n",
    "        s.discard(int(command[1]))\n",
    "    elif command[0] == 'remove':\n",
    "        if int(command[1]) in s:\n",
    "            s.remove(int(command[1]))\n",
    "\n",
    "print(sum(s))"
   ]
  },
  {
   "cell_type": "code",
   "execution_count": 479,
   "id": "0ee3e1d3",
   "metadata": {},
   "outputs": [
    {
     "name": "stdout",
     "output_type": "stream",
     "text": [
      "9\n",
      "1 2 3 4 5 6 7 8 9\n",
      "10\n",
      "pop\n",
      "remove 9\n",
      "discard 9\n",
      "discard 8\n",
      "remove 7\n",
      "pop\n",
      "discard 6\n",
      "remove 5\n",
      "pop\n",
      "discard 5\n",
      "4\n"
     ]
    }
   ],
   "source": [
    "# Another implementation\n",
    "\n",
    "n = int(input())\n",
    "s = set(map(int, input().split()))\n",
    "\n",
    "for i in range(int(input())):\n",
    "    s1 = input().split()\n",
    "    if s1[0] == 'pop':\n",
    "        s.pop()\n",
    "    elif s1[0] == 'remove':\n",
    "        if int(s1[1]) in s:\n",
    "            s.remove(int(s1[1]))\n",
    "    elif s1[0] == 'discard':\n",
    "        s.discard(int(s1[1]))\n",
    "\n",
    "print(sum(s))"
   ]
  },
  {
   "cell_type": "markdown",
   "id": "1bffd61d",
   "metadata": {},
   "source": [
    "### Set .union() Operation"
   ]
  },
  {
   "cell_type": "code",
   "execution_count": 481,
   "id": "d49b0c15",
   "metadata": {},
   "outputs": [
    {
     "name": "stdout",
     "output_type": "stream",
     "text": [
      "9\n",
      "1 2 3 4 5 6 7 8 9\n",
      "9\n",
      "10 1 2 3 11 21 55 6 8\n"
     ]
    }
   ],
   "source": [
    "n = int(input())\n",
    "s = set(map(int, input().split()))\n",
    "\n",
    "b = int(input())\n",
    "t = set(map(int, input().split()))"
   ]
  },
  {
   "cell_type": "code",
   "execution_count": 482,
   "id": "12607e1c",
   "metadata": {},
   "outputs": [
    {
     "name": "stdout",
     "output_type": "stream",
     "text": [
      "13\n"
     ]
    }
   ],
   "source": [
    "print(len(s.union(t)))"
   ]
  },
  {
   "cell_type": "markdown",
   "id": "381d1c1b",
   "metadata": {},
   "source": [
    "### Set .intersection() Operation"
   ]
  },
  {
   "cell_type": "code",
   "execution_count": 483,
   "id": "96e23ad0",
   "metadata": {},
   "outputs": [
    {
     "name": "stdout",
     "output_type": "stream",
     "text": [
      "9\n",
      "1 2 3 4 5 6 7 8 9\n",
      "9\n",
      "10 1 2 3 11 21 55 6 8\n"
     ]
    }
   ],
   "source": [
    "n = int(input())\n",
    "s = set(map(int, input().split()))\n",
    "\n",
    "b = int(input())\n",
    "t = set(map(int, input().split()))"
   ]
  },
  {
   "cell_type": "code",
   "execution_count": 484,
   "id": "ef844faa",
   "metadata": {},
   "outputs": [
    {
     "name": "stdout",
     "output_type": "stream",
     "text": [
      "5\n"
     ]
    }
   ],
   "source": [
    "print(len(s.intersection(t)))"
   ]
  },
  {
   "cell_type": "markdown",
   "id": "d9fbc899",
   "metadata": {},
   "source": [
    "### Set .difference() Operation"
   ]
  },
  {
   "cell_type": "code",
   "execution_count": 485,
   "id": "153cc503",
   "metadata": {},
   "outputs": [
    {
     "name": "stdout",
     "output_type": "stream",
     "text": [
      "9\n",
      "1 2 3 4 5 6 7 8 9\n",
      "9\n",
      "10 1 2 3 11 21 55 6 8\n"
     ]
    }
   ],
   "source": [
    "n = int(input())\n",
    "s = set(map(int, input().split()))\n",
    "\n",
    "b = int(input())\n",
    "t = set(map(int, input().split()))"
   ]
  },
  {
   "cell_type": "code",
   "execution_count": 486,
   "id": "f0e01c66",
   "metadata": {},
   "outputs": [
    {
     "name": "stdout",
     "output_type": "stream",
     "text": [
      "4\n"
     ]
    }
   ],
   "source": [
    "print(len(s.difference(t)))"
   ]
  },
  {
   "cell_type": "markdown",
   "id": "fcca031c",
   "metadata": {},
   "source": [
    "### Set .symmetric_difference() Operation"
   ]
  },
  {
   "cell_type": "code",
   "execution_count": 487,
   "id": "f7d49782",
   "metadata": {},
   "outputs": [
    {
     "name": "stdout",
     "output_type": "stream",
     "text": [
      "9\n",
      "1 2 3 4 5 6 7 8 9\n",
      "9\n",
      "10 1 2 3 11 21 55 6 8\n"
     ]
    }
   ],
   "source": [
    "n = int(input())\n",
    "s = set(map(int, input().split()))\n",
    "\n",
    "b = int(input())\n",
    "t = set(map(int, input().split()))"
   ]
  },
  {
   "cell_type": "code",
   "execution_count": 488,
   "id": "d003665b",
   "metadata": {},
   "outputs": [
    {
     "name": "stdout",
     "output_type": "stream",
     "text": [
      "8\n"
     ]
    }
   ],
   "source": [
    "print(len(s.symmetric_difference(t)))"
   ]
  },
  {
   "cell_type": "markdown",
   "id": "9c8cc417",
   "metadata": {},
   "source": [
    "### Set Mutations"
   ]
  },
  {
   "cell_type": "code",
   "execution_count": 489,
   "id": "6f7a6d3a",
   "metadata": {},
   "outputs": [
    {
     "name": "stdout",
     "output_type": "stream",
     "text": [
      "16\n",
      "1 2 3 4 5 6 7 8 9 10 11 12 13 14 24 52\n",
      "4\n",
      "intersection_update 10\n",
      "2 3 5 6 8 9 1 4 7 11\n",
      "update 2\n",
      "55 66\n",
      "symmetric_difference_update 5\n",
      "22 7 35 62 58\n",
      "difference_update 7\n",
      "11 22 35 55 58 62 66\n",
      "8\n"
     ]
    }
   ],
   "source": [
    "n = int(input())\n",
    "A = set(map(int, input().split()))\n",
    "N = int(input())\n",
    "for _ in range(N):\n",
    "    op, length = input().split()\n",
    "    B = set(map(int, input().split()))\n",
    "    if op == 'intersection_update':\n",
    "        A.intersection_update(B)\n",
    "    elif op == 'update':\n",
    "        A.update(B)\n",
    "    elif op == 'symmetric_difference_update':\n",
    "        A.symmetric_difference_update(B)\n",
    "    elif op == 'difference_update':\n",
    "        A.difference_update(B)\n",
    "\n",
    "print(sum(A))"
   ]
  },
  {
   "cell_type": "markdown",
   "id": "fc3ae0d9",
   "metadata": {},
   "source": [
    "### The Captain's Room"
   ]
  },
  {
   "cell_type": "code",
   "execution_count": 498,
   "id": "d2cfdbd2",
   "metadata": {},
   "outputs": [
    {
     "name": "stdout",
     "output_type": "stream",
     "text": [
      "5\n",
      "1 2 3 6 5 4 4 2 5 3 6 1 6 5 3 2 4 1 2 5 1 4 3 6 8 4 3 1 5 6 2\n"
     ]
    }
   ],
   "source": [
    "K = int(input())\n",
    "A = list(map(int, input().split()))"
   ]
  },
  {
   "cell_type": "code",
   "execution_count": 504,
   "id": "91d9ba9b",
   "metadata": {},
   "outputs": [
    {
     "name": "stdout",
     "output_type": "stream",
     "text": [
      "8\n"
     ]
    }
   ],
   "source": [
    "for a in set(A):\n",
    "    if A.count(a) == K:\n",
    "        A = list(filter((a).__ne__, A))\n",
    "    else:\n",
    "        print(a)\n",
    "        break"
   ]
  },
  {
   "cell_type": "code",
   "execution_count": 507,
   "id": "f6d433e0",
   "metadata": {},
   "outputs": [
    {
     "name": "stdout",
     "output_type": "stream",
     "text": [
      "5\n",
      "1 2 3 6 5 4 4 2 5 3 6 1 6 5 3 2 4 1 2 5 1 4 3 6 8 4 3 1 5 6 2\n"
     ]
    }
   ],
   "source": [
    "# Faster version\n",
    "\n",
    "k = int(input())\n",
    "rooms = list(map(int, input().split()))"
   ]
  },
  {
   "cell_type": "code",
   "execution_count": 508,
   "id": "29e8b38f",
   "metadata": {},
   "outputs": [
    {
     "data": {
      "text/plain": [
       "{1, 2, 3, 4, 5, 6, 8}"
      ]
     },
     "execution_count": 508,
     "metadata": {},
     "output_type": "execute_result"
    }
   ],
   "source": [
    "roomSet = set(rooms)\n",
    "roomSet"
   ]
  },
  {
   "cell_type": "code",
   "execution_count": 509,
   "id": "649b8748",
   "metadata": {},
   "outputs": [
    {
     "data": {
      "text/plain": [
       "113"
      ]
     },
     "execution_count": 509,
     "metadata": {},
     "output_type": "execute_result"
    }
   ],
   "source": [
    "roomSum = sum(rooms)\n",
    "roomSum"
   ]
  },
  {
   "cell_type": "code",
   "execution_count": 510,
   "id": "e5419250",
   "metadata": {},
   "outputs": [
    {
     "data": {
      "text/plain": [
       "145"
      ]
     },
     "execution_count": 510,
     "metadata": {},
     "output_type": "execute_result"
    }
   ],
   "source": [
    "roomSetSum = sum(roomSet) * k\n",
    "roomSetSum"
   ]
  },
  {
   "cell_type": "code",
   "execution_count": 511,
   "id": "31a9261c",
   "metadata": {},
   "outputs": [],
   "source": [
    "captiansRoom = (roomSetSum - roomSum) // (k - 1)"
   ]
  },
  {
   "cell_type": "code",
   "execution_count": 512,
   "id": "b6c9ff07",
   "metadata": {},
   "outputs": [
    {
     "name": "stdout",
     "output_type": "stream",
     "text": [
      "8\n"
     ]
    }
   ],
   "source": [
    "print(captiansRoom)"
   ]
  },
  {
   "cell_type": "markdown",
   "id": "ea206c6b",
   "metadata": {},
   "source": [
    "### Check Subset"
   ]
  },
  {
   "cell_type": "code",
   "execution_count": 538,
   "id": "d2f5162a",
   "metadata": {},
   "outputs": [
    {
     "name": "stdout",
     "output_type": "stream",
     "text": [
      "3\n",
      "5\n",
      "1 2 3 5 6\n",
      "9\n",
      "9 8 5 6 3 2 1 4 7\n",
      "1\n",
      "2\n",
      "5\n",
      "3 6 5 4 1\n",
      "7\n",
      "1 2 3 5 6 8 9\n",
      "3\n",
      "9 8 2\n"
     ]
    }
   ],
   "source": [
    "subsets = []\n",
    "\n",
    "for _ in range(int(input())):\n",
    "    A_num = int(input())\n",
    "    A = set(map(int, input().split(' ')))\n",
    "    B_num = int(input())\n",
    "    B = set(map(int, input().split(' ')))\n",
    "    if len(B.difference(A)) == len(B)-len(A):\n",
    "        subsets.append(True)\n",
    "    else:\n",
    "        subsets.append(False)"
   ]
  },
  {
   "cell_type": "code",
   "execution_count": 539,
   "id": "5d27c806",
   "metadata": {},
   "outputs": [
    {
     "name": "stdout",
     "output_type": "stream",
     "text": [
      "True\n",
      "False\n",
      "False\n"
     ]
    }
   ],
   "source": [
    "for subset in subsets:\n",
    "    print(subset)"
   ]
  },
  {
   "cell_type": "markdown",
   "id": "57f221b3",
   "metadata": {},
   "source": [
    "### Check Strict Superset"
   ]
  },
  {
   "cell_type": "code",
   "execution_count": 541,
   "id": "ac362ccf",
   "metadata": {},
   "outputs": [
    {
     "name": "stdout",
     "output_type": "stream",
     "text": [
      "1 2 3 4 5 6 7 8 9 10 11 12 23 45 84 78\n",
      "2\n",
      "1 2 3 4 5\n",
      "100 11 12\n",
      "False\n"
     ]
    }
   ],
   "source": [
    "A = set(map(int, input().split()))\n",
    "\n",
    "for _ in range(int(input())):\n",
    "    X = set(map(int, input().split()))\n",
    "    if A.issuperset(X) != True or len(A) == len(X): \n",
    "        print(False)\n",
    "        break \n",
    "else: print(True)"
   ]
  },
  {
   "cell_type": "markdown",
   "id": "641febb0",
   "metadata": {},
   "source": [
    "### Calendar Module"
   ]
  },
  {
   "cell_type": "code",
   "execution_count": 542,
   "id": "1d757a30",
   "metadata": {},
   "outputs": [],
   "source": [
    "import calendar"
   ]
  },
  {
   "cell_type": "code",
   "execution_count": 550,
   "id": "b660630a",
   "metadata": {},
   "outputs": [
    {
     "name": "stdout",
     "output_type": "stream",
     "text": [
      "08 05 2015\n"
     ]
    }
   ],
   "source": [
    "m, d, y = map(int, input().split(' '))"
   ]
  },
  {
   "cell_type": "code",
   "execution_count": 555,
   "id": "0b77b4d7",
   "metadata": {},
   "outputs": [
    {
     "name": "stdout",
     "output_type": "stream",
     "text": [
      "WEDNESDAY\n"
     ]
    }
   ],
   "source": [
    "print((list(calendar.day_name)[calendar.weekday(y, m, d)]).upper())"
   ]
  },
  {
   "cell_type": "markdown",
   "id": "ad5ccc5f",
   "metadata": {},
   "source": [
    "### Time Delta"
   ]
  },
  {
   "cell_type": "code",
   "execution_count": 559,
   "id": "e2e10f37",
   "metadata": {},
   "outputs": [],
   "source": [
    "from datetime import datetime"
   ]
  },
  {
   "cell_type": "code",
   "execution_count": 556,
   "id": "14897e5c",
   "metadata": {},
   "outputs": [
    {
     "name": "stdout",
     "output_type": "stream",
     "text": [
      "Sat 02 May 2015 19:54:36 +0530\n",
      "Fri 01 May 2015 13:54:36 -0000\n"
     ]
    }
   ],
   "source": [
    "t1 = input()\n",
    "t2 = input()"
   ]
  },
  {
   "cell_type": "code",
   "execution_count": 579,
   "id": "e16d7b0b",
   "metadata": {},
   "outputs": [],
   "source": [
    "date_format = \"%a %d %b %Y %H:%M:%S %z\"\n",
    "date1 = datetime.strptime(t1, date_format)\n",
    "date2 = datetime.strptime(t2, date_format)"
   ]
  },
  {
   "cell_type": "code",
   "execution_count": 580,
   "id": "23575573",
   "metadata": {},
   "outputs": [],
   "source": [
    "time_diff = date1 - date2"
   ]
  },
  {
   "cell_type": "code",
   "execution_count": 581,
   "id": "0aad1a12",
   "metadata": {},
   "outputs": [
    {
     "data": {
      "text/plain": [
       "'88200'"
      ]
     },
     "execution_count": 581,
     "metadata": {},
     "output_type": "execute_result"
    }
   ],
   "source": [
    "str(int(abs(time_diff.total_seconds())))"
   ]
  },
  {
   "cell_type": "markdown",
   "id": "71ffd14f",
   "metadata": {},
   "source": [
    "### Exceptions"
   ]
  },
  {
   "cell_type": "code",
   "execution_count": null,
   "id": "c6bffa83",
   "metadata": {},
   "outputs": [],
   "source": []
  }
 ],
 "metadata": {
  "kernelspec": {
   "display_name": "Python 3 (ipykernel)",
   "language": "python",
   "name": "python3"
  },
  "language_info": {
   "codemirror_mode": {
    "name": "ipython",
    "version": 3
   },
   "file_extension": ".py",
   "mimetype": "text/x-python",
   "name": "python",
   "nbconvert_exporter": "python",
   "pygments_lexer": "ipython3",
   "version": "3.8.16"
  }
 },
 "nbformat": 4,
 "nbformat_minor": 5
}
